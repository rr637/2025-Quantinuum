{
 "cells": [
  {
   "cell_type": "markdown",
   "metadata": {},
   "source": [
    "# Hamiltonian Simulation\n",
    "\n",
    "In this part of the challenge we study the evolution of closed quantum systems, i.e. systems that are described by a Hamiltonian operator $H$.\n",
    "One important aspect of this is the so-called Trotterization of the time evolution circuit, which we will explain in more detail below.\n",
    "\n",
    "Useful literature:\n",
    "- [1] A. Montanaro, Quantum Computation, Lecture notes, Chapter 7, https://people.maths.bris.ac.uk/~csxam/teaching/qc2020/lecturenotes.pdf \n",
    "- [2] T. Prosen, \"Exact nonequilibrium steady state of a strongly driven open XXZ chain\", arXiv:1106.2978, https://arxiv.org/abs/1106.2978 (2011)\n",
    "- [3] A. M. Childs et al., \"A Theory of Trotter Error\", https://arxiv.org/abs/1912.08854 (2021)\n",
    "- [4] Qiskit Docs, https://docs.quantum.ibm.com/api/qiskit/qiskit.synthesis.SuzukiTrotter\n",
    "- [5] Quantinuum Docs, https://docs.quantinuum.com/h-series/trainings/getting_started/pytket_quantinuum/Quantinuum_native_gate_compilation.html"
   ]
  },
  {
   "cell_type": "code",
   "execution_count": 1,
   "metadata": {},
   "outputs": [
    {
     "name": "stdout",
     "output_type": "stream",
     "text": [
      "Requirement already satisfied: pytket in /opt/conda/lib/python3.10/site-packages (1.37.0)\n",
      "Requirement already satisfied: sympy>=1.12.1 in /opt/conda/lib/python3.10/site-packages (from pytket) (1.13.0)\n",
      "Requirement already satisfied: numpy>=1.26.4 in /opt/conda/lib/python3.10/site-packages (from pytket) (1.26.4)\n",
      "Requirement already satisfied: lark>=1.1.9 in /opt/conda/lib/python3.10/site-packages (from pytket) (1.2.2)\n",
      "Requirement already satisfied: scipy>=1.13.1 in /opt/conda/lib/python3.10/site-packages (from pytket) (1.14.1)\n",
      "Requirement already satisfied: networkx>=2.8.8 in /opt/conda/lib/python3.10/site-packages (from pytket) (3.3)\n",
      "Requirement already satisfied: graphviz>=0.20.3 in /opt/conda/lib/python3.10/site-packages (from pytket) (0.20.3)\n",
      "Requirement already satisfied: jinja2>=3.1.4 in /opt/conda/lib/python3.10/site-packages (from pytket) (3.1.5)\n",
      "Requirement already satisfied: typing-extensions>=4.12.2 in /opt/conda/lib/python3.10/site-packages (from pytket) (4.12.2)\n",
      "Requirement already satisfied: qwasm>=1.0.1 in /opt/conda/lib/python3.10/site-packages (from pytket) (1.0.1)\n",
      "Requirement already satisfied: MarkupSafe>=2.0 in /opt/conda/lib/python3.10/site-packages (from jinja2>=3.1.4->pytket) (2.1.5)\n",
      "Requirement already satisfied: setuptools in /opt/conda/lib/python3.10/site-packages (from qwasm>=1.0.1->pytket) (75.1.0)\n",
      "Requirement already satisfied: mpmath<1.4,>=1.1.0 in /opt/conda/lib/python3.10/site-packages (from sympy>=1.12.1->pytket) (1.3.0)\n",
      "Note: you may need to restart the kernel to use updated packages.\n",
      "Requirement already satisfied: pytket-qiskit in /opt/conda/lib/python3.10/site-packages (0.56.0)\n",
      "Requirement already satisfied: pytket>=1.30.0 in /opt/conda/lib/python3.10/site-packages (from pytket-qiskit) (1.37.0)\n",
      "Requirement already satisfied: qiskit>=1.2.0 in /opt/conda/lib/python3.10/site-packages (from pytket-qiskit) (1.2.2)\n",
      "Requirement already satisfied: qiskit-ibm-runtime>=0.24.1 in /opt/conda/lib/python3.10/site-packages (from pytket-qiskit) (0.30.0)\n",
      "Requirement already satisfied: qiskit-aer>=0.14.2 in /opt/conda/lib/python3.10/site-packages (from pytket-qiskit) (0.15.1)\n",
      "Requirement already satisfied: numpy>=1.26.4 in /opt/conda/lib/python3.10/site-packages (from pytket-qiskit) (1.26.4)\n",
      "Requirement already satisfied: sympy>=1.12.1 in /opt/conda/lib/python3.10/site-packages (from pytket>=1.30.0->pytket-qiskit) (1.13.0)\n",
      "Requirement already satisfied: lark>=1.1.9 in /opt/conda/lib/python3.10/site-packages (from pytket>=1.30.0->pytket-qiskit) (1.2.2)\n",
      "Requirement already satisfied: scipy>=1.13.1 in /opt/conda/lib/python3.10/site-packages (from pytket>=1.30.0->pytket-qiskit) (1.14.1)\n",
      "Requirement already satisfied: networkx>=2.8.8 in /opt/conda/lib/python3.10/site-packages (from pytket>=1.30.0->pytket-qiskit) (3.3)\n",
      "Requirement already satisfied: graphviz>=0.20.3 in /opt/conda/lib/python3.10/site-packages (from pytket>=1.30.0->pytket-qiskit) (0.20.3)\n",
      "Requirement already satisfied: jinja2>=3.1.4 in /opt/conda/lib/python3.10/site-packages (from pytket>=1.30.0->pytket-qiskit) (3.1.5)\n",
      "Requirement already satisfied: typing-extensions>=4.12.2 in /opt/conda/lib/python3.10/site-packages (from pytket>=1.30.0->pytket-qiskit) (4.12.2)\n",
      "Requirement already satisfied: qwasm>=1.0.1 in /opt/conda/lib/python3.10/site-packages (from pytket>=1.30.0->pytket-qiskit) (1.0.1)\n",
      "Requirement already satisfied: rustworkx>=0.15.0 in /opt/conda/lib/python3.10/site-packages (from qiskit>=1.2.0->pytket-qiskit) (0.15.1)\n",
      "Requirement already satisfied: dill>=0.3 in /opt/conda/lib/python3.10/site-packages (from qiskit>=1.2.0->pytket-qiskit) (0.3.9)\n",
      "Requirement already satisfied: python-dateutil>=2.8.0 in /opt/conda/lib/python3.10/site-packages (from qiskit>=1.2.0->pytket-qiskit) (2.9.0.post0)\n",
      "Requirement already satisfied: stevedore>=3.0.0 in /opt/conda/lib/python3.10/site-packages (from qiskit>=1.2.0->pytket-qiskit) (5.3.0)\n",
      "Requirement already satisfied: symengine>=0.11 in /opt/conda/lib/python3.10/site-packages (from qiskit>=1.2.0->pytket-qiskit) (0.13.0)\n",
      "Requirement already satisfied: psutil>=5 in /opt/conda/lib/python3.10/site-packages (from qiskit-aer>=0.14.2->pytket-qiskit) (6.0.0)\n",
      "Requirement already satisfied: requests>=2.19 in /opt/conda/lib/python3.10/site-packages (from qiskit-ibm-runtime>=0.24.1->pytket-qiskit) (2.32.3)\n",
      "Requirement already satisfied: requests-ntlm>=1.1.0 in /opt/conda/lib/python3.10/site-packages (from qiskit-ibm-runtime>=0.24.1->pytket-qiskit) (1.3.0)\n",
      "Requirement already satisfied: urllib3>=1.21.1 in /opt/conda/lib/python3.10/site-packages (from qiskit-ibm-runtime>=0.24.1->pytket-qiskit) (1.26.20)\n",
      "Requirement already satisfied: websocket-client>=1.5.1 in /opt/conda/lib/python3.10/site-packages (from qiskit-ibm-runtime>=0.24.1->pytket-qiskit) (1.8.0)\n",
      "Requirement already satisfied: ibm-platform-services>=0.22.6 in /opt/conda/lib/python3.10/site-packages (from qiskit-ibm-runtime>=0.24.1->pytket-qiskit) (0.48.0)\n",
      "Requirement already satisfied: pydantic>=2.5.0 in /opt/conda/lib/python3.10/site-packages (from qiskit-ibm-runtime>=0.24.1->pytket-qiskit) (2.8.2)\n",
      "Requirement already satisfied: ibm_cloud_sdk_core<4.0.0,>=3.17.0 in /opt/conda/lib/python3.10/site-packages (from ibm-platform-services>=0.22.6->qiskit-ibm-runtime>=0.24.1->pytket-qiskit) (3.18.0)\n",
      "Requirement already satisfied: MarkupSafe>=2.0 in /opt/conda/lib/python3.10/site-packages (from jinja2>=3.1.4->pytket>=1.30.0->pytket-qiskit) (2.1.5)\n",
      "Requirement already satisfied: annotated-types>=0.4.0 in /opt/conda/lib/python3.10/site-packages (from pydantic>=2.5.0->qiskit-ibm-runtime>=0.24.1->pytket-qiskit) (0.7.0)\n",
      "Requirement already satisfied: pydantic-core==2.20.1 in /opt/conda/lib/python3.10/site-packages (from pydantic>=2.5.0->qiskit-ibm-runtime>=0.24.1->pytket-qiskit) (2.20.1)\n",
      "Requirement already satisfied: six>=1.5 in /opt/conda/lib/python3.10/site-packages (from python-dateutil>=2.8.0->qiskit>=1.2.0->pytket-qiskit) (1.16.0)\n",
      "Requirement already satisfied: setuptools in /opt/conda/lib/python3.10/site-packages (from qwasm>=1.0.1->pytket>=1.30.0->pytket-qiskit) (75.1.0)\n",
      "Requirement already satisfied: charset-normalizer<4,>=2 in /opt/conda/lib/python3.10/site-packages (from requests>=2.19->qiskit-ibm-runtime>=0.24.1->pytket-qiskit) (3.3.2)\n",
      "Requirement already satisfied: idna<4,>=2.5 in /opt/conda/lib/python3.10/site-packages (from requests>=2.19->qiskit-ibm-runtime>=0.24.1->pytket-qiskit) (3.10)\n",
      "Requirement already satisfied: certifi>=2017.4.17 in /opt/conda/lib/python3.10/site-packages (from requests>=2.19->qiskit-ibm-runtime>=0.24.1->pytket-qiskit) (2024.8.30)\n",
      "Requirement already satisfied: cryptography>=1.3 in /opt/conda/lib/python3.10/site-packages (from requests-ntlm>=1.1.0->qiskit-ibm-runtime>=0.24.1->pytket-qiskit) (43.0.1)\n",
      "Requirement already satisfied: pyspnego>=0.4.0 in /opt/conda/lib/python3.10/site-packages (from requests-ntlm>=1.1.0->qiskit-ibm-runtime>=0.24.1->pytket-qiskit) (0.11.1)\n",
      "Requirement already satisfied: pbr>=2.0.0 in /opt/conda/lib/python3.10/site-packages (from stevedore>=3.0.0->qiskit>=1.2.0->pytket-qiskit) (6.1.0)\n",
      "Requirement already satisfied: mpmath<1.4,>=1.1.0 in /opt/conda/lib/python3.10/site-packages (from sympy>=1.12.1->pytket>=1.30.0->pytket-qiskit) (1.3.0)\n",
      "Requirement already satisfied: cffi>=1.12 in /opt/conda/lib/python3.10/site-packages (from cryptography>=1.3->requests-ntlm>=1.1.0->qiskit-ibm-runtime>=0.24.1->pytket-qiskit) (1.17.1)\n",
      "Requirement already satisfied: PyJWT<3.0.0,>=2.8.0 in /opt/conda/lib/python3.10/site-packages (from ibm_cloud_sdk_core<4.0.0,>=3.17.0->ibm-platform-services>=0.22.6->qiskit-ibm-runtime>=0.24.1->pytket-qiskit) (2.9.0)\n",
      "Requirement already satisfied: pycparser in /opt/conda/lib/python3.10/site-packages (from cffi>=1.12->cryptography>=1.3->requests-ntlm>=1.1.0->qiskit-ibm-runtime>=0.24.1->pytket-qiskit) (2.22)\n",
      "Note: you may need to restart the kernel to use updated packages.\n",
      "Collecting qdynlib\n",
      "  Using cached qdynlib-0.1.0-py3-none-any.whl (19 kB)\n",
      "Requirement already satisfied: numpy in /opt/conda/lib/python3.10/site-packages (from qdynlib) (1.26.4)\n",
      "Requirement already satisfied: scipy in /opt/conda/lib/python3.10/site-packages (from qdynlib) (1.14.1)\n",
      "Requirement already satisfied: matplotlib in /opt/conda/lib/python3.10/site-packages (from qdynlib) (3.9.2)\n",
      "Collecting wolframclient (from qdynlib)\n",
      "  Using cached wolframclient-1.4.0-py2.py3-none-any.whl\n",
      "Requirement already satisfied: contourpy>=1.0.1 in /opt/conda/lib/python3.10/site-packages (from matplotlib->qdynlib) (1.3.0)\n",
      "Requirement already satisfied: cycler>=0.10 in /opt/conda/lib/python3.10/site-packages (from matplotlib->qdynlib) (0.12.1)\n",
      "Requirement already satisfied: fonttools>=4.22.0 in /opt/conda/lib/python3.10/site-packages (from matplotlib->qdynlib) (4.54.1)\n",
      "Requirement already satisfied: kiwisolver>=1.3.1 in /opt/conda/lib/python3.10/site-packages (from matplotlib->qdynlib) (1.4.7)\n",
      "Requirement already satisfied: packaging>=20.0 in /opt/conda/lib/python3.10/site-packages (from matplotlib->qdynlib) (24.1)\n",
      "Requirement already satisfied: pillow>=8 in /opt/conda/lib/python3.10/site-packages (from matplotlib->qdynlib) (10.4.0)\n",
      "Requirement already satisfied: pyparsing>=2.3.1 in /opt/conda/lib/python3.10/site-packages (from matplotlib->qdynlib) (3.1.4)\n",
      "Requirement already satisfied: python-dateutil>=2.7 in /opt/conda/lib/python3.10/site-packages (from matplotlib->qdynlib) (2.9.0.post0)\n",
      "Requirement already satisfied: pytz in /opt/conda/lib/python3.10/site-packages (from wolframclient->qdynlib) (2024.2)\n",
      "Requirement already satisfied: requests in /opt/conda/lib/python3.10/site-packages (from wolframclient->qdynlib) (2.32.3)\n",
      "Collecting aiohttp (from wolframclient->qdynlib)\n",
      "  Using cached aiohttp-3.11.11-cp310-cp310-manylinux_2_17_x86_64.manylinux2014_x86_64.whl (1.6 MB)\n",
      "Requirement already satisfied: oauthlib in /opt/conda/lib/python3.10/site-packages (from wolframclient->qdynlib) (3.2.2)\n",
      "Requirement already satisfied: pyzmq in /opt/conda/lib/python3.10/site-packages (from wolframclient->qdynlib) (25.0.2)\n",
      "Requirement already satisfied: certifi>=2017.4.17 in /opt/conda/lib/python3.10/site-packages (from wolframclient->qdynlib) (2024.8.30)\n",
      "Requirement already satisfied: six>=1.5 in /opt/conda/lib/python3.10/site-packages (from python-dateutil>=2.7->matplotlib->qdynlib) (1.16.0)\n",
      "Collecting aiohappyeyeballs>=2.3.0 (from aiohttp->wolframclient->qdynlib)\n",
      "  Using cached aiohappyeyeballs-2.4.4-py3-none-any.whl (14 kB)\n",
      "Collecting aiosignal>=1.1.2 (from aiohttp->wolframclient->qdynlib)\n",
      "  Using cached aiosignal-1.3.2-py2.py3-none-any.whl (7.6 kB)\n",
      "Collecting async-timeout<6.0,>=4.0 (from aiohttp->wolframclient->qdynlib)\n",
      "  Using cached async_timeout-5.0.1-py3-none-any.whl (6.2 kB)\n",
      "Requirement already satisfied: attrs>=17.3.0 in /opt/conda/lib/python3.10/site-packages (from aiohttp->wolframclient->qdynlib) (23.1.0)\n",
      "Collecting frozenlist>=1.1.1 (from aiohttp->wolframclient->qdynlib)\n",
      "  Using cached frozenlist-1.5.0-cp310-cp310-manylinux_2_5_x86_64.manylinux1_x86_64.manylinux_2_17_x86_64.manylinux2014_x86_64.whl (241 kB)\n",
      "Collecting multidict<7.0,>=4.5 (from aiohttp->wolframclient->qdynlib)\n",
      "  Using cached multidict-6.1.0-cp310-cp310-manylinux_2_17_x86_64.manylinux2014_x86_64.whl (124 kB)\n",
      "Collecting propcache>=0.2.0 (from aiohttp->wolframclient->qdynlib)\n",
      "  Using cached propcache-0.2.1-cp310-cp310-manylinux_2_17_x86_64.manylinux2014_x86_64.whl (205 kB)\n",
      "Collecting yarl<2.0,>=1.17.0 (from aiohttp->wolframclient->qdynlib)\n",
      "  Using cached yarl-1.18.3-cp310-cp310-manylinux_2_17_x86_64.manylinux2014_x86_64.whl (319 kB)\n",
      "Requirement already satisfied: charset-normalizer<4,>=2 in /opt/conda/lib/python3.10/site-packages (from requests->wolframclient->qdynlib) (3.3.2)\n",
      "Requirement already satisfied: idna<4,>=2.5 in /opt/conda/lib/python3.10/site-packages (from requests->wolframclient->qdynlib) (3.10)\n",
      "Requirement already satisfied: urllib3<3,>=1.21.1 in /opt/conda/lib/python3.10/site-packages (from requests->wolframclient->qdynlib) (1.26.20)\n",
      "Requirement already satisfied: typing-extensions>=4.1.0 in /opt/conda/lib/python3.10/site-packages (from multidict<7.0,>=4.5->aiohttp->wolframclient->qdynlib) (4.12.2)\n",
      "Installing collected packages: propcache, multidict, frozenlist, async-timeout, aiohappyeyeballs, yarl, aiosignal, aiohttp, wolframclient, qdynlib\n",
      "Successfully installed aiohappyeyeballs-2.4.4 aiohttp-3.11.11 aiosignal-1.3.2 async-timeout-5.0.1 frozenlist-1.5.0 multidict-6.1.0 propcache-0.2.1 qdynlib-0.1.0 wolframclient-1.4.0 yarl-1.18.3\n",
      "Note: you may need to restart the kernel to use updated packages.\n"
     ]
    }
   ],
   "source": [
    "# configure some visualisations\n",
    "%pip install pytket\n",
    "%pip install pytket-qiskit\n",
    "%pip install qdynlib\n",
    "from pytket.circuit.display import get_circuit_renderer\n",
    "\n",
    "circuit_renderer = get_circuit_renderer()\n",
    "\n",
    "circuit_renderer.set_render_options(zx_style=False)\n",
    "circuit_renderer.set_render_options(crop_params=False)\n",
    "circuit_renderer.save_render_options()"
   ]
  },
  {
   "cell_type": "markdown",
   "metadata": {},
   "source": [
    "## Background"
   ]
  },
  {
   "cell_type": "markdown",
   "metadata": {},
   "source": [
    "##### Time evolution\n",
    "\n",
    "Quantum computers offer the potential to speedup simulations of systems in which quantum mechanical effects play a significant role.\n",
    "\n",
    "In quantum mechanics, the evolution of a system is governed by the Hamiltonian $H$. This is a Hermitian operator whose eigenvalues give the energy spectrum of the system. In what follows we will assume that a Hamiltonian can be represented as a ($2^N \\times 2^N$) matrix where $N$ is the number of qubits.\n",
    "\n",
    "The evolution of a pure quantum state is described by the Schrödinger equation\n",
    "\n",
    "$$\n",
    " i \\hbar \\frac{d}{dt} | \\psi(t)\\rangle = H |\\psi(t)\\rangle\n",
    "$$\n",
    "We wet $\\hbar = 1$ in the following.\n",
    "\n",
    "In general $H$ could be time dependent but we will not consider this case for now.\n",
    "\n",
    "\n",
    "It can be shown that the solution to this equation is \n",
    "\n",
    "$$\n",
    "|\\psi(t)\\rangle = e^{-i H t} |\\psi(0)\\rangle = U(t) |\\psi(0)\\rangle\\,, \\quad U(t) := e^{-i H t}\n",
    "$$\n",
    "\n",
    "We call the operator $U(t)$ the unitary time evolution operator.\n",
    "\n",
    "Observe that we are taking the exponential of the Hamiltonian matrix $H$. We can make sense of this using the series expansion of the exponential function.\n",
    "\n",
    "$$\n",
    "e^A = \\sum_{k=0}^\\infty \\frac{A^k}{k!}\\,.\n",
    "$$\n",
    "\n",
    "Now in order to simulate the evolution of a Hamiltonian $H$ on a quantum computer we need to express the time evolution operator in terms of elementary quantum gates.\n",
    "\n",
    "##### Decompososing Hamiltonians into Pauli operators\n",
    "\n",
    "Towards this goal, it is often useful to express $H$ as a linear combination of Pauli strings.\n",
    "$$\n",
    "H = \\sum_{j = 0}^{2^N -1} \\alpha_j P_j\\,, \\quad \\alpha_j \\in \\mathbb{R}\n",
    "$$\n",
    "Here each Pauli string $P_j$ is a tensor product of $N$ Pauli operators\n",
    "$$\n",
    "P_j = \\bigotimes_{j=0}^N \\sigma_j\\,, \\quad \\sigma_j \\in \\{I, X, Y, Z\\} \\,.\n",
    "$$\n",
    "The operators $P_j$ form a basis for all matrices of dimension $(2^N \\times 2^N)$. This means that any $N$ qubit operator can be expressed as a linear combination of Pauli strings $P_j$ with coefficients $\\alpha_j$.\n",
    "\n",
    "The $X, Y \\, \\text{and} \\, Z$ operators have the usual definitions\n",
    "$$\n",
    "X = \n",
    "\\begin{pmatrix}\n",
    "0 & 1 \\\\\n",
    "1 & 0\n",
    "\\end{pmatrix}\\,, \\quad Y = \n",
    "\\begin{pmatrix}\n",
    "0 & -i \\\\\n",
    "i & 0\n",
    "\\end{pmatrix}\\,, \\quad Z = \n",
    "\\begin{pmatrix}\n",
    "1 & 0 \\\\\n",
    "0 & -1\n",
    "\\end{pmatrix}\\,, \\quad\n",
    "I = \n",
    "\\begin{pmatrix}\n",
    "1 & 0 \\\\\n",
    "0 & 1\n",
    "\\end{pmatrix}\n",
    "$$\n",
    "\n",
    "Note that in general the terms of $H$, i.e. the different Pauli strings, do not commute with each other. This means that their commutator\n",
    "$$\n",
    "[P_i , P_j] \\coloneqq P_iP_j - P_jP_i \\neq 0\n",
    "$$\n",
    "is not zero. If for any two operators $A, B$ we have $[A, B] \\coloneqq AB - BA = 0$, both operators \"commute\", i.e. $AB = BA$.\n",
    "For commuting operators $A, B$, we have $e^{-it(A + B)} = e^{-itA}e^{-itB}$, i.e. the exponential factorizes. For Pauli strings $P_i$, each $e^{-itP_i}$ can be directly implemented as a quantum gate (as we see below), thus for Hamiltonians build from commuting Pauli strings, we have a straight-forward recipe to construct the time evolution operator $e^{-itH}$."
   ]
  },
  {
   "cell_type": "markdown",
   "metadata": {},
   "source": [
    "## Example: The XXZ Heisenberg model\n",
    "\n",
    "Now let's consider a concrete example of a Hamiltonian. We can start with the $XXZ$ model.\n",
    "$$\n",
    "H_{XXZ} = \\sum_{k=1}^{N-1} X^{(k)} X^{(k+1)} + Y^{(k)}  Y^{(k+1)} + \\Delta (Z^{(k)} Z^{(k+1)} ) \n",
    "$$\n",
    "with $\\Delta \\in \\mathbb{R}$. Here $A^{(k)} = I \\otimes \\cdots \\otimes I \\otimes A \\otimes I \\otimes \\cdots \\otimes I$, where $A \\in \\lbrace X, Y, Z\\rbrace$ is inserted on the $k$-th position, i.e. it is acting on the $k$-th qubits. Identities $I$ mean that no operations are performed on those qubits.\n",
    "\n",
    "\n",
    "This model describes a chain of $N$ qubits (sometimes also called spins), where each pair of neighboring spins $(i, i+1)$ interacts through the terms $XX$, $YY$ and $ZZ$.\n",
    "\n"
   ]
  },
  {
   "cell_type": "markdown",
   "metadata": {},
   "source": [
    "\n",
    "In the following we give an example how to implement this Hamiltonian in pytket.\n",
    "\n",
    "[See also [2], which will become important for the second part of this challenge on Lindblad simulation. They are using a slightly different form of the Hamiltonian, given below their Eq. (1). Show that this can be recast into the form given above.]"
   ]
  },
  {
   "cell_type": "markdown",
   "metadata": {},
   "source": [
    "With `._dict` we obtain a nice overview of all the Pauli strings $P_i$ and coefficients $\\alpha_i$."
   ]
  },
  {
   "cell_type": "code",
   "execution_count": 2,
   "metadata": {},
   "outputs": [],
   "source": [
    "from pytket.utils import QubitPauliOperator\n",
    "from pytket.pauli import Pauli, QubitPauliString\n",
    "import networkx as nx\n",
    "from pytket.circuit import Qubit\n",
    "import numpy as np\n",
    "def get_xxz_chain_hamiltonian(n_qubits: int, Delta_ZZ: float, t) -> QubitPauliOperator:\n",
    "    sites = nx.path_graph(n_qubits)\n",
    "    qpo_dict = {}\n",
    "    for e in sites.edges:\n",
    "        zz_term = QubitPauliString([Qubit(e[0]), Qubit(e[1])], [Pauli.Z, Pauli.Z])\n",
    "        xx_term = QubitPauliString([Qubit(e[0]), Qubit(e[1])], [Pauli.X, Pauli.X])\n",
    "        yy_term = QubitPauliString([Qubit(e[0]), Qubit(e[1])], [Pauli.Y, Pauli.Y])\n",
    "        qpo_dict[zz_term] = -Delta_ZZ*2/np.pi*t\n",
    "        qpo_dict[xx_term] = -1.0*2/np.pi*t\n",
    "        qpo_dict[yy_term] = -1.0*2/np.pi*t\n",
    "\n",
    "    return QubitPauliOperator(qpo_dict)"
   ]
  },
  {
   "cell_type": "code",
   "execution_count": 3,
   "metadata": {},
   "outputs": [],
   "source": [
    "n_qubits = 2\n",
    "\n",
    "Delta_ZZ = 0.5\n",
    "\n",
    "\n",
    "xxz_ham = get_xxz_chain_hamiltonian(n_qubits=n_qubits, Delta_ZZ=Delta_ZZ, t=1)"
   ]
  },
  {
   "cell_type": "code",
   "execution_count": 4,
   "metadata": {},
   "outputs": [
    {
     "data": {
      "text/plain": [
       "{(Zq[0], Zq[1]): -0.318309886183791,\n",
       " (Xq[0], Xq[1]): -0.636619772367581,\n",
       " (Yq[0], Yq[1]): -0.636619772367581}"
      ]
     },
     "execution_count": 4,
     "metadata": {},
     "output_type": "execute_result"
    }
   ],
   "source": [
    "xxz_ham._dict"
   ]
  },
  {
   "cell_type": "markdown",
   "metadata": {},
   "source": [
    "You can get the numpy or scipy matrix representations of the QubitPauliOperator with "
   ]
  },
  {
   "cell_type": "markdown",
   "metadata": {},
   "source": [
    "Now we want to synthesise a circuit to implement the time evolution operator for $H_{XXZ}$\n",
    "$$\n",
    "U(t) = e^{-it \\sum_{k=1}^{N-1} X^{(k)} X^{(k+1)} + Y^{(k)}  Y^{(k+1)} + \\Delta (Z^{(k)} Z^{(k+1)} ) }\n",
    "$$\n",
    "\n",
    "In fact, the different terms in the XXZ Hamiltonian above commute with each other, which means that\n",
    "$$\n",
    "e^{-itH_{XXZ}} = \\prod_{k=1}^{N-1} e^{-it X^{(k)} X^{(k+1)}}  e^{-it Y^{(k)}  Y^{(k+1)}}  e^{-it \\Delta \\big( Z^{(k)} Z^{(k+1)} \\big)} .\n",
    "$$\n",
    "Each of the exponentials can be implemented as a quantum circuit and we obtain the full time evolution circuit by concatenating all of these circuits.\n",
    "\n",
    "First lets look at a circuit which simulates the evolution $e^{-it \\Delta Z^{(1)} Z^{(2)}} $.\n",
    "We can show that the circuit below does the job."
   ]
  },
  {
   "cell_type": "code",
   "execution_count": 5,
   "metadata": {},
   "outputs": [
    {
     "data": {
      "text/html": [
       "\n",
       "\n",
       "\n",
       "\n",
       "\n",
       "\n",
       "<div style=\"resize: vertical; overflow: auto; height: 400px; display: block\">\n",
       "    <iframe srcdoc=\"\n",
       "&lt;!DOCTYPE html&gt;\n",
       "&lt;html lang=&#34;en&#34;&gt;\n",
       "&lt;head&gt;\n",
       "    &lt;meta charset=&#34;UTF-8&#34;&gt;\n",
       "    &lt;!-- Download Vue 3--&gt;\n",
       "&lt;script type=&#34;application/javascript&#34; src=&#34;https://cdn.jsdelivr.net/npm/vue@3&#34;&gt;&lt;/script&gt;\n",
       "&lt;!-- Download Circuit Renderer with styles --&gt;\n",
       "&lt;script type=&#34;application/javascript&#34; src=&#34;https://unpkg.com/pytket-circuit-renderer@0.10/dist/pytket-circuit-renderer.umd.js&#34;&gt;&lt;/script&gt;\n",
       "&lt;link rel=&#34;stylesheet&#34; href=&#34;https://unpkg.com/pytket-circuit-renderer@0.10/dist/pytket-circuit-renderer.css&#34;&gt;\n",
       "&lt;/head&gt;\n",
       "&lt;body&gt;\n",
       "\n",
       "\n",
       "    &lt;div id=&#34;circuit-display-vue-container-134179fb-e825-4db7-8eb2-404e0a9c9d3f&#34; class=&#34;pytket-circuit-display-container&#34;&gt;\n",
       "        &lt;div style=&#34;display: none&#34;&gt;\n",
       "            &lt;div id=&#34;circuit-json-to-display&#34;&gt;{&#34;bits&#34;: [], &#34;commands&#34;: [{&#34;args&#34;: [[&#34;q&#34;, [0]], [&#34;q&#34;, [1]]], &#34;op&#34;: {&#34;type&#34;: &#34;CX&#34;}}, {&#34;args&#34;: [[&#34;q&#34;, [1]]], &#34;op&#34;: {&#34;params&#34;: [&#34;2*t*Delta&#34;], &#34;type&#34;: &#34;Rz&#34;}}, {&#34;args&#34;: [[&#34;q&#34;, [0]], [&#34;q&#34;, [1]]], &#34;op&#34;: {&#34;type&#34;: &#34;CX&#34;}}], &#34;created_qubits&#34;: [], &#34;discarded_qubits&#34;: [], &#34;implicit_permutation&#34;: [[[&#34;q&#34;, [0]], [&#34;q&#34;, [0]]], [[&#34;q&#34;, [1]], [&#34;q&#34;, [1]]]], &#34;phase&#34;: &#34;0.0&#34;, &#34;qubits&#34;: [[&#34;q&#34;, [0]], [&#34;q&#34;, [1]]]}&lt;/div&gt;\n",
       "        &lt;/div&gt;\n",
       "        &lt;circuit-display-container\n",
       "                :circuit-element-str=&#34;&#39;#circuit-json-to-display&#39;&#34;\n",
       "                :init-render-options=&#34;initRenderOptions&#34;\n",
       "                view-format=&#34;None&#34;\n",
       "        &gt;&lt;/circuit-display-container&gt;\n",
       "    &lt;/div&gt;\n",
       "    &lt;script type=&#34;application/javascript&#34;&gt;\n",
       "      const circuitRendererUid = &#34;134179fb-e825-4db7-8eb2-404e0a9c9d3f&#34;;\n",
       "      const displayOptions = JSON.parse(&#39;{&#34;zxStyle&#34;: false, &#34;cropParams&#34;: false}&#39;);\n",
       "\n",
       "      // Script to initialise the circuit renderer app\n",
       "\n",
       "const { createApp } = Vue;\n",
       "const circuitDisplayContainer = window[&#34;pytket-circuit-renderer&#34;].default;\n",
       "// Init variables to be shared between circuit display instances\n",
       "if (typeof window.pytketCircuitDisplays === &#34;undefined&#34;) {\n",
       "    window.pytketCircuitDisplays = {};\n",
       "}\n",
       "// Create the root Vue component\n",
       "const app = createApp({\n",
       "    delimiters: [&#39;[[#&#39;, &#39;#]]&#39;],\n",
       "    components: { circuitDisplayContainer },\n",
       "    data () {\n",
       "      return {\n",
       "        initRenderOptions: displayOptions,\n",
       "      }\n",
       "    }\n",
       "})\n",
       "app.config.unwrapInjectedRef = true;\n",
       "app.mount(&#34;#circuit-display-vue-container-&#34;+circuitRendererUid);\n",
       "window.pytketCircuitDisplays[circuitRendererUid] = app;\n",
       "    &lt;/script&gt;\n",
       "\n",
       "\n",
       "\n",
       "&lt;/body&gt;\n",
       "&lt;/html&gt;\n",
       "\"\n",
       "            width=\"100%\" height=\"100%\"\n",
       "            style=\"border: none; outline: none; overflow: auto\"></iframe>\n",
       "</div>\n",
       "\n"
      ],
      "text/plain": [
       "<IPython.core.display.HTML object>"
      ]
     },
     "metadata": {},
     "output_type": "display_data"
    },
    {
     "data": {
      "text/html": [
       "\n",
       "\n",
       "\n",
       "\n",
       "\n",
       "\n",
       "<div style=\"resize: vertical; overflow: auto; height: 400px; display: block\">\n",
       "    <iframe srcdoc=\"\n",
       "&lt;!DOCTYPE html&gt;\n",
       "&lt;html lang=&#34;en&#34;&gt;\n",
       "&lt;head&gt;\n",
       "    &lt;meta charset=&#34;UTF-8&#34;&gt;\n",
       "    &lt;!-- Download Vue 3--&gt;\n",
       "&lt;script type=&#34;application/javascript&#34; src=&#34;https://cdn.jsdelivr.net/npm/vue@3&#34;&gt;&lt;/script&gt;\n",
       "&lt;!-- Download Circuit Renderer with styles --&gt;\n",
       "&lt;script type=&#34;application/javascript&#34; src=&#34;https://unpkg.com/pytket-circuit-renderer@0.10/dist/pytket-circuit-renderer.umd.js&#34;&gt;&lt;/script&gt;\n",
       "&lt;link rel=&#34;stylesheet&#34; href=&#34;https://unpkg.com/pytket-circuit-renderer@0.10/dist/pytket-circuit-renderer.css&#34;&gt;\n",
       "&lt;/head&gt;\n",
       "&lt;body&gt;\n",
       "\n",
       "\n",
       "    &lt;div id=&#34;circuit-display-vue-container-fd842cae-fb21-45ef-a232-feeb86547385&#34; class=&#34;pytket-circuit-display-container&#34;&gt;\n",
       "        &lt;div style=&#34;display: none&#34;&gt;\n",
       "            &lt;div id=&#34;circuit-json-to-display&#34;&gt;{&#34;bits&#34;: [], &#34;commands&#34;: [{&#34;args&#34;: [[&#34;q&#34;, [0]]], &#34;op&#34;: {&#34;type&#34;: &#34;H&#34;}}, {&#34;args&#34;: [[&#34;q&#34;, [1]]], &#34;op&#34;: {&#34;type&#34;: &#34;H&#34;}}, {&#34;args&#34;: [[&#34;q&#34;, [0]], [&#34;q&#34;, [1]]], &#34;op&#34;: {&#34;type&#34;: &#34;CX&#34;}}, {&#34;args&#34;: [[&#34;q&#34;, [1]]], &#34;op&#34;: {&#34;params&#34;: [&#34;2*t*Delta&#34;], &#34;type&#34;: &#34;Rz&#34;}}, {&#34;args&#34;: [[&#34;q&#34;, [0]], [&#34;q&#34;, [1]]], &#34;op&#34;: {&#34;type&#34;: &#34;CX&#34;}}, {&#34;args&#34;: [[&#34;q&#34;, [0]]], &#34;op&#34;: {&#34;type&#34;: &#34;H&#34;}}, {&#34;args&#34;: [[&#34;q&#34;, [1]]], &#34;op&#34;: {&#34;type&#34;: &#34;H&#34;}}], &#34;created_qubits&#34;: [], &#34;discarded_qubits&#34;: [], &#34;implicit_permutation&#34;: [[[&#34;q&#34;, [0]], [&#34;q&#34;, [0]]], [[&#34;q&#34;, [1]], [&#34;q&#34;, [1]]]], &#34;phase&#34;: &#34;0.0&#34;, &#34;qubits&#34;: [[&#34;q&#34;, [0]], [&#34;q&#34;, [1]]]}&lt;/div&gt;\n",
       "        &lt;/div&gt;\n",
       "        &lt;circuit-display-container\n",
       "                :circuit-element-str=&#34;&#39;#circuit-json-to-display&#39;&#34;\n",
       "                :init-render-options=&#34;initRenderOptions&#34;\n",
       "                view-format=&#34;None&#34;\n",
       "        &gt;&lt;/circuit-display-container&gt;\n",
       "    &lt;/div&gt;\n",
       "    &lt;script type=&#34;application/javascript&#34;&gt;\n",
       "      const circuitRendererUid = &#34;fd842cae-fb21-45ef-a232-feeb86547385&#34;;\n",
       "      const displayOptions = JSON.parse(&#39;{&#34;zxStyle&#34;: false, &#34;cropParams&#34;: false}&#39;);\n",
       "\n",
       "      // Script to initialise the circuit renderer app\n",
       "\n",
       "const { createApp } = Vue;\n",
       "const circuitDisplayContainer = window[&#34;pytket-circuit-renderer&#34;].default;\n",
       "// Init variables to be shared between circuit display instances\n",
       "if (typeof window.pytketCircuitDisplays === &#34;undefined&#34;) {\n",
       "    window.pytketCircuitDisplays = {};\n",
       "}\n",
       "// Create the root Vue component\n",
       "const app = createApp({\n",
       "    delimiters: [&#39;[[#&#39;, &#39;#]]&#39;],\n",
       "    components: { circuitDisplayContainer },\n",
       "    data () {\n",
       "      return {\n",
       "        initRenderOptions: displayOptions,\n",
       "      }\n",
       "    }\n",
       "})\n",
       "app.config.unwrapInjectedRef = true;\n",
       "app.mount(&#34;#circuit-display-vue-container-&#34;+circuitRendererUid);\n",
       "window.pytketCircuitDisplays[circuitRendererUid] = app;\n",
       "    &lt;/script&gt;\n",
       "\n",
       "\n",
       "\n",
       "&lt;/body&gt;\n",
       "&lt;/html&gt;\n",
       "\"\n",
       "            width=\"100%\" height=\"100%\"\n",
       "            style=\"border: none; outline: none; overflow: auto\"></iframe>\n",
       "</div>\n",
       "\n"
      ],
      "text/plain": [
       "<IPython.core.display.HTML object>"
      ]
     },
     "metadata": {},
     "output_type": "display_data"
    },
    {
     "data": {
      "text/html": [
       "\n",
       "\n",
       "\n",
       "\n",
       "\n",
       "\n",
       "<div style=\"resize: vertical; overflow: auto; height: 400px; display: block\">\n",
       "    <iframe srcdoc=\"\n",
       "&lt;!DOCTYPE html&gt;\n",
       "&lt;html lang=&#34;en&#34;&gt;\n",
       "&lt;head&gt;\n",
       "    &lt;meta charset=&#34;UTF-8&#34;&gt;\n",
       "    &lt;!-- Download Vue 3--&gt;\n",
       "&lt;script type=&#34;application/javascript&#34; src=&#34;https://cdn.jsdelivr.net/npm/vue@3&#34;&gt;&lt;/script&gt;\n",
       "&lt;!-- Download Circuit Renderer with styles --&gt;\n",
       "&lt;script type=&#34;application/javascript&#34; src=&#34;https://unpkg.com/pytket-circuit-renderer@0.10/dist/pytket-circuit-renderer.umd.js&#34;&gt;&lt;/script&gt;\n",
       "&lt;link rel=&#34;stylesheet&#34; href=&#34;https://unpkg.com/pytket-circuit-renderer@0.10/dist/pytket-circuit-renderer.css&#34;&gt;\n",
       "&lt;/head&gt;\n",
       "&lt;body&gt;\n",
       "\n",
       "\n",
       "    &lt;div id=&#34;circuit-display-vue-container-64dfa1c4-01b0-4141-bfa2-c0918810c5d2&#34; class=&#34;pytket-circuit-display-container&#34;&gt;\n",
       "        &lt;div style=&#34;display: none&#34;&gt;\n",
       "            &lt;div id=&#34;circuit-json-to-display&#34;&gt;{&#34;bits&#34;: [], &#34;commands&#34;: [{&#34;args&#34;: [[&#34;q&#34;, [0]]], &#34;op&#34;: {&#34;params&#34;: [&#34;1.5707963267949&#34;, &#34;1.5707963267949&#34;], &#34;type&#34;: &#34;U2&#34;}}, {&#34;args&#34;: [[&#34;q&#34;, [1]]], &#34;op&#34;: {&#34;params&#34;: [&#34;1.5707963267949&#34;, &#34;1.5707963267949&#34;], &#34;type&#34;: &#34;U2&#34;}}, {&#34;args&#34;: [[&#34;q&#34;, [0]], [&#34;q&#34;, [1]]], &#34;op&#34;: {&#34;type&#34;: &#34;CX&#34;}}, {&#34;args&#34;: [[&#34;q&#34;, [1]]], &#34;op&#34;: {&#34;params&#34;: [&#34;2*t*Delta&#34;], &#34;type&#34;: &#34;Rz&#34;}}, {&#34;args&#34;: [[&#34;q&#34;, [0]], [&#34;q&#34;, [1]]], &#34;op&#34;: {&#34;type&#34;: &#34;CX&#34;}}, {&#34;args&#34;: [[&#34;q&#34;, [0]]], &#34;op&#34;: {&#34;params&#34;: [&#34;1.5707963267949&#34;, &#34;1.5707963267949&#34;], &#34;type&#34;: &#34;U2&#34;}}, {&#34;args&#34;: [[&#34;q&#34;, [1]]], &#34;op&#34;: {&#34;params&#34;: [&#34;1.5707963267949&#34;, &#34;1.5707963267949&#34;], &#34;type&#34;: &#34;U2&#34;}}], &#34;created_qubits&#34;: [], &#34;discarded_qubits&#34;: [], &#34;implicit_permutation&#34;: [[[&#34;q&#34;, [0]], [&#34;q&#34;, [0]]], [[&#34;q&#34;, [1]], [&#34;q&#34;, [1]]]], &#34;phase&#34;: &#34;0.0&#34;, &#34;qubits&#34;: [[&#34;q&#34;, [0]], [&#34;q&#34;, [1]]]}&lt;/div&gt;\n",
       "        &lt;/div&gt;\n",
       "        &lt;circuit-display-container\n",
       "                :circuit-element-str=&#34;&#39;#circuit-json-to-display&#39;&#34;\n",
       "                :init-render-options=&#34;initRenderOptions&#34;\n",
       "                view-format=&#34;None&#34;\n",
       "        &gt;&lt;/circuit-display-container&gt;\n",
       "    &lt;/div&gt;\n",
       "    &lt;script type=&#34;application/javascript&#34;&gt;\n",
       "      const circuitRendererUid = &#34;64dfa1c4-01b0-4141-bfa2-c0918810c5d2&#34;;\n",
       "      const displayOptions = JSON.parse(&#39;{&#34;zxStyle&#34;: false, &#34;cropParams&#34;: false}&#39;);\n",
       "\n",
       "      // Script to initialise the circuit renderer app\n",
       "\n",
       "const { createApp } = Vue;\n",
       "const circuitDisplayContainer = window[&#34;pytket-circuit-renderer&#34;].default;\n",
       "// Init variables to be shared between circuit display instances\n",
       "if (typeof window.pytketCircuitDisplays === &#34;undefined&#34;) {\n",
       "    window.pytketCircuitDisplays = {};\n",
       "}\n",
       "// Create the root Vue component\n",
       "const app = createApp({\n",
       "    delimiters: [&#39;[[#&#39;, &#39;#]]&#39;],\n",
       "    components: { circuitDisplayContainer },\n",
       "    data () {\n",
       "      return {\n",
       "        initRenderOptions: displayOptions,\n",
       "      }\n",
       "    }\n",
       "})\n",
       "app.config.unwrapInjectedRef = true;\n",
       "app.mount(&#34;#circuit-display-vue-container-&#34;+circuitRendererUid);\n",
       "window.pytketCircuitDisplays[circuitRendererUid] = app;\n",
       "    &lt;/script&gt;\n",
       "\n",
       "\n",
       "\n",
       "&lt;/body&gt;\n",
       "&lt;/html&gt;\n",
       "\"\n",
       "            width=\"100%\" height=\"100%\"\n",
       "            style=\"border: none; outline: none; overflow: auto\"></iframe>\n",
       "</div>\n",
       "\n"
      ],
      "text/plain": [
       "<IPython.core.display.HTML object>"
      ]
     },
     "metadata": {},
     "output_type": "display_data"
    }
   ],
   "source": [
    "from pytket import Circuit\n",
    "from sympy import symbols\n",
    "from pytket.circuit.display import render_circuit_jupyter as draw\n",
    "from pytket.circuit import OpType\n",
    "import math\n",
    "\n",
    "def ZZ(circ, q_indices, delta, t=1):\n",
    "    \n",
    "    delta, t = symbols(\"Delta, t\")\n",
    "    for i in range(len(q_indices) - 1):\n",
    "        circ.CX(q_indices[i], q_indices[i+1])\n",
    "    circ.Rz(2*delta * t, 1)\n",
    "    for i in reversed(range(len(q_indices) - 1)):\n",
    "        circ.CX(q_indices[i], q_indices[i+1])\n",
    "    \n",
    "    return circ\n",
    "\n",
    "Circ = Circuit(2)\n",
    "Circ = ZZ(Circ, [0,1], Delta_ZZ)\n",
    "draw(Circ)\n",
    "\n",
    "def XX(circ,q_indices,delta, t=1):\n",
    "    delta, t = symbols(\"Delta, t\")\n",
    "    for i in range(len(q_indices)):\n",
    "        circ.H(q_indices[i])\n",
    "    ZZ(circ,q_indices,delta,t)\n",
    "    for i in reversed(range(len(q_indices))):\n",
    "        circ.H(q_indices[i])\n",
    "    return circ\n",
    "Circx = Circuit(2)\n",
    "Circx = XX(Circx, [0,1], Delta_ZZ)\n",
    "\n",
    "draw(Circx)\n",
    "\n",
    "def YY(circ,q_indices,delta, t=1):\n",
    "    delta, t = symbols(\"Delta, t\")\n",
    "    for i in range(len(q_indices)):\n",
    "        circ.add_gate(OpType.U2, [math.pi / 2, math.pi / 2], [i]) \n",
    "    ZZ(circ,q_indices,delta,t)\n",
    "    for i in reversed(range(len(q_indices))):\n",
    "        circ.add_gate(OpType.U2, [math.pi / 2, math.pi / 2], [i]) \n",
    "    return circ\n",
    "Circy = Circuit(2)\n",
    "Circy = YY(Circy, [0,1], Delta_ZZ)\n",
    "draw(Circy)"
   ]
  },
  {
   "cell_type": "markdown",
   "metadata": {},
   "source": [
    "Similarly for a term like $e^{-it \\Delta Z^{(1)} Z^{(2)} Z^{(3)}} $ the three qubit circuit works\n"
   ]
  },
  {
   "cell_type": "markdown",
   "metadata": {},
   "source": [
    "Here, $\\mathrm{Rz}$ gate is defined as \n",
    "$$\n",
    "\\mathrm{Rz}(\\alpha) = e^{-\\frac12 i \\pi \\alpha Z} = \\left[\n",
    "    \\begin{array}{cc} e^{-\\frac12 i \\pi\\alpha} & 0 \\\\ 0 & e^{\\frac12 i\n",
    "    \\pi\\alpha} \\end{array} \\right] \\,.\n",
    "$$"
   ]
  },
  {
   "cell_type": "markdown",
   "metadata": {},
   "source": [
    "### Task 1: Implement the time evolution under the XXZ Hamiltonian.\n",
    "\n",
    "We can easily generate the time evolution under the XXZ Hamiltonian via\n",
    "$$\n",
    "e^{-itH_{XXZ}} = \\prod_{k=1}^{N-1} e^{-it X^{(k)}s X^{(k+1)}}  e^{-it Y^{(k)} Y^{(k+1)}}  e^{-it \\Delta \\big( Z^{(k)} Z^{(k+1)} \\big)} .\n",
    "$$\n",
    "\n",
    "For example, we can use pytket's build-in function `gen_term_sequence_circuit`. Note, you will have to multiply the Hamiltonian (a `QubitPauliOperator`) with the evolution time $t$ to perform the correct time evolution.\n",
    "\n",
    "- Implement the time evolution circuit under $H_{XXZ}$ for a given target time $t$.\n",
    "- Draw the circuit. In pytket you might want to use `DecomposeBoxes()` to visualize all the single- and two-qubit gates.\n",
    "- Explore different ways how to implement the circuit (see the hints below).\n",
    "- Use an empty circuit to initialize the time evolution circuit. I.e. our initial state is $\\ket{\\psi} = \\ket{0}^{\\otimes N}$.\n",
    "\n",
    "Hints:\n",
    "- Study the commutator relation between the two terms of $K_i$. What does this imply?\n",
    "- Alternatively, the two qubit gates $e^{-\\alpha X^{(i)} X^{(j)}}$ and $e^{-\\alpha Y^{(i)} Y^{(j)}}$ can be implemented in pytket via `XXPhase` and `YYPhase`.\n",
    "- Or you can also use pytket's `TK2` gate which implements and arbitrary angle SU(4) gate [x]."
   ]
  },
  {
   "cell_type": "code",
   "execution_count": 6,
   "metadata": {},
   "outputs": [
    {
     "name": "stdout",
     "output_type": "stream",
     "text": [
      "[[ 0.31830989+0.j  0.        +0.j  0.        +0.j  0.        +0.j]\n",
      " [ 0.        +0.j -0.31830989+0.j  1.27323954+0.j  0.        +0.j]\n",
      " [ 0.        +0.j  1.27323954+0.j -0.31830989+0.j  0.        +0.j]\n",
      " [ 0.        +0.j  0.        +0.j  0.        +0.j  0.31830989+0.j]]\n"
     ]
    },
    {
     "data": {
      "text/html": [
       "\n",
       "\n",
       "\n",
       "\n",
       "\n",
       "\n",
       "<div style=\"resize: vertical; overflow: auto; height: 400px; display: block\">\n",
       "    <iframe srcdoc=\"\n",
       "&lt;!DOCTYPE html&gt;\n",
       "&lt;html lang=&#34;en&#34;&gt;\n",
       "&lt;head&gt;\n",
       "    &lt;meta charset=&#34;UTF-8&#34;&gt;\n",
       "    &lt;!-- Download Vue 3--&gt;\n",
       "&lt;script type=&#34;application/javascript&#34; src=&#34;https://cdn.jsdelivr.net/npm/vue@3&#34;&gt;&lt;/script&gt;\n",
       "&lt;!-- Download Circuit Renderer with styles --&gt;\n",
       "&lt;script type=&#34;application/javascript&#34; src=&#34;https://unpkg.com/pytket-circuit-renderer@0.10/dist/pytket-circuit-renderer.umd.js&#34;&gt;&lt;/script&gt;\n",
       "&lt;link rel=&#34;stylesheet&#34; href=&#34;https://unpkg.com/pytket-circuit-renderer@0.10/dist/pytket-circuit-renderer.css&#34;&gt;\n",
       "&lt;/head&gt;\n",
       "&lt;body&gt;\n",
       "\n",
       "\n",
       "    &lt;div id=&#34;circuit-display-vue-container-97a585ca-1622-423c-858b-1642fae9bedb&#34; class=&#34;pytket-circuit-display-container&#34;&gt;\n",
       "        &lt;div style=&#34;display: none&#34;&gt;\n",
       "            &lt;div id=&#34;circuit-json-to-display&#34;&gt;{&#34;bits&#34;: [], &#34;commands&#34;: [{&#34;args&#34;: [[&#34;q&#34;, [0]], [&#34;q&#34;, [1]]], &#34;op&#34;: {&#34;box&#34;: {&#34;circuit&#34;: {&#34;bits&#34;: [], &#34;commands&#34;: [{&#34;args&#34;: [[&#34;q&#34;, [0]], [&#34;q&#34;, [1]]], &#34;op&#34;: {&#34;box&#34;: {&#34;cx_config&#34;: &#34;Tree&#34;, &#34;id&#34;: &#34;871a9a05-a477-44a8-bfb7-ef439096b327&#34;, &#34;paulis&#34;: [&#34;Z&#34;, &#34;Z&#34;], &#34;phase&#34;: &#34;0.318309886183791&#34;, &#34;type&#34;: &#34;PauliExpBox&#34;}, &#34;type&#34;: &#34;PauliExpBox&#34;}}, {&#34;args&#34;: [[&#34;q&#34;, [0]], [&#34;q&#34;, [1]]], &#34;op&#34;: {&#34;box&#34;: {&#34;cx_config&#34;: &#34;Tree&#34;, &#34;id&#34;: &#34;4c5ba1e3-5d20-4f78-a511-bae40a94cbaf&#34;, &#34;paulis&#34;: [&#34;X&#34;, &#34;X&#34;], &#34;phase&#34;: &#34;0.636619772367581&#34;, &#34;type&#34;: &#34;PauliExpBox&#34;}, &#34;type&#34;: &#34;PauliExpBox&#34;}}, {&#34;args&#34;: [[&#34;q&#34;, [0]], [&#34;q&#34;, [1]]], &#34;op&#34;: {&#34;box&#34;: {&#34;cx_config&#34;: &#34;Tree&#34;, &#34;id&#34;: &#34;5ba99e7e-b4ef-4ef8-a4af-ed289d25d59e&#34;, &#34;paulis&#34;: [&#34;Y&#34;, &#34;Y&#34;], &#34;phase&#34;: &#34;0.636619772367581&#34;, &#34;type&#34;: &#34;PauliExpBox&#34;}, &#34;type&#34;: &#34;PauliExpBox&#34;}}], &#34;created_qubits&#34;: [], &#34;discarded_qubits&#34;: [], &#34;implicit_permutation&#34;: [[[&#34;q&#34;, [0]], [&#34;q&#34;, [0]]], [[&#34;q&#34;, [1]], [&#34;q&#34;, [1]]]], &#34;phase&#34;: &#34;0.0&#34;, &#34;qubits&#34;: [[&#34;q&#34;, [0]], [&#34;q&#34;, [1]]]}, &#34;id&#34;: &#34;b062b5a0-ffb2-45ec-986b-d5b95c1b887e&#34;, &#34;type&#34;: &#34;CircBox&#34;}, &#34;type&#34;: &#34;CircBox&#34;}}], &#34;created_qubits&#34;: [], &#34;discarded_qubits&#34;: [], &#34;implicit_permutation&#34;: [[[&#34;q&#34;, [0]], [&#34;q&#34;, [0]]], [[&#34;q&#34;, [1]], [&#34;q&#34;, [1]]]], &#34;phase&#34;: &#34;0.0&#34;, &#34;qubits&#34;: [[&#34;q&#34;, [0]], [&#34;q&#34;, [1]]]}&lt;/div&gt;\n",
       "        &lt;/div&gt;\n",
       "        &lt;circuit-display-container\n",
       "                :circuit-element-str=&#34;&#39;#circuit-json-to-display&#39;&#34;\n",
       "                :init-render-options=&#34;initRenderOptions&#34;\n",
       "                view-format=&#34;None&#34;\n",
       "        &gt;&lt;/circuit-display-container&gt;\n",
       "    &lt;/div&gt;\n",
       "    &lt;script type=&#34;application/javascript&#34;&gt;\n",
       "      const circuitRendererUid = &#34;97a585ca-1622-423c-858b-1642fae9bedb&#34;;\n",
       "      const displayOptions = JSON.parse(&#39;{&#34;zxStyle&#34;: false, &#34;cropParams&#34;: false}&#39;);\n",
       "\n",
       "      // Script to initialise the circuit renderer app\n",
       "\n",
       "const { createApp } = Vue;\n",
       "const circuitDisplayContainer = window[&#34;pytket-circuit-renderer&#34;].default;\n",
       "// Init variables to be shared between circuit display instances\n",
       "if (typeof window.pytketCircuitDisplays === &#34;undefined&#34;) {\n",
       "    window.pytketCircuitDisplays = {};\n",
       "}\n",
       "// Create the root Vue component\n",
       "const app = createApp({\n",
       "    delimiters: [&#39;[[#&#39;, &#39;#]]&#39;],\n",
       "    components: { circuitDisplayContainer },\n",
       "    data () {\n",
       "      return {\n",
       "        initRenderOptions: displayOptions,\n",
       "      }\n",
       "    }\n",
       "})\n",
       "app.config.unwrapInjectedRef = true;\n",
       "app.mount(&#34;#circuit-display-vue-container-&#34;+circuitRendererUid);\n",
       "window.pytketCircuitDisplays[circuitRendererUid] = app;\n",
       "    &lt;/script&gt;\n",
       "\n",
       "\n",
       "\n",
       "&lt;/body&gt;\n",
       "&lt;/html&gt;\n",
       "\"\n",
       "            width=\"100%\" height=\"100%\"\n",
       "            style=\"border: none; outline: none; overflow: auto\"></iframe>\n",
       "</div>\n",
       "\n"
      ],
      "text/plain": [
       "<IPython.core.display.HTML object>"
      ]
     },
     "metadata": {},
     "output_type": "display_data"
    },
    {
     "name": "stdout",
     "output_type": "stream",
     "text": [
      "[[ 0.87758256-4.79425539e-01j  0.        +0.00000000e+00j\n",
      "   0.        +0.00000000e+00j  0.        +2.35513869e-16j]\n",
      " [ 0.        +0.00000000e+00j -0.36520321-1.99511421e-01j\n",
      "   0.43594041-7.97983565e-01j  0.        +0.00000000e+00j]\n",
      " [ 0.        +0.00000000e+00j  0.43594041-7.97983565e-01j\n",
      "  -0.36520321-1.99511421e-01j  0.        +0.00000000e+00j]\n",
      " [ 0.        +2.35513869e-16j  0.        +0.00000000e+00j\n",
      "   0.        +0.00000000e+00j  0.87758256-4.79425539e-01j]]\n"
     ]
    }
   ],
   "source": [
    "from pytket.utils import QubitPauliOperator, gen_term_sequence_circuit\n",
    "from pytket.pauli import Pauli, QubitPauliString\n",
    "import networkx as nx\n",
    "from pytket.circuit import Qubit\n",
    "import numpy as np\n",
    "\n",
    "def get_xxz_chain_hamiltonian(n_qubits: int, Delta_ZZ: float, q: float = 1.0) -> QubitPauliOperator:\n",
    "    '''\n",
    "    Creates an XXZ Heisenberg Model Hamiltonian with multiplicative\n",
    "    parameter q.\n",
    "    '''\n",
    "    sites = nx.path_graph(n_qubits)\n",
    "    qpo_dict = {}\n",
    "    for e in sites.edges:\n",
    "        zz_term = QubitPauliString([Qubit(e[0]), Qubit(e[1])], [Pauli.Z, Pauli.Z])\n",
    "        xx_term = QubitPauliString([Qubit(e[0]), Qubit(e[1])], [Pauli.X, Pauli.X])\n",
    "        yy_term = QubitPauliString([Qubit(e[0]), Qubit(e[1])], [Pauli.Y, Pauli.Y])\n",
    "        qpo_dict[zz_term] = Delta_ZZ*q\n",
    "        qpo_dict[xx_term] = 1.0*q\n",
    "        qpo_dict[yy_term] = 1.0*q\n",
    "\n",
    "    return QubitPauliOperator(qpo_dict)\n",
    "\n",
    "def get_xxz_circ(n_qubits: int, Delta_ZZ: float, t: float):\n",
    "    '''\n",
    "    Returns the circuit for simulating the time\n",
    "    evolution of a Heisenberg XXZ model given a time, \n",
    "    number of qubits, and Delta_ZZ param. \n",
    "    '''\n",
    "    \n",
    "    xxz_ham = get_xxz_chain_hamiltonian(n_qubits=n_qubits, Delta_ZZ=Delta_ZZ, q=2/np.pi)\n",
    "    operator_matrix = xxz_ham.to_sparse_matrix(qubits=[Qubit(i) for i in range(n_qubits)]).todense()\n",
    "    print(operator_matrix)\n",
    "\n",
    "    circ = Circuit(n_qubits)\n",
    "    circ = gen_term_sequence_circuit(xxz_ham, circ)\n",
    "\n",
    "    draw(circ) # for testing\n",
    "    print(circ.get_unitary()) # for testing\n",
    "    return circ\n",
    "\n",
    "n_qubits, Delta_ZZ, t = 2, 0.5, 1.0\n",
    "circ = get_xxz_circ(n_qubits=n_qubits, Delta_ZZ=Delta_ZZ, t=t)\n"
   ]
  },
  {
   "cell_type": "markdown",
   "metadata": {},
   "source": [
    "## Overview:\n",
    "\n",
    "In the following there are two sections which can be explored independently from each other. The first is about non-commuting Hamiltonians and Trotterization. The second one is about some concrete physical examples of time evolution using quantum circuits for the XXZ Heisenberg model.\n",
    "\n",
    "Each section contains a list of tasks which you can work on. However, you can also get creative and explore other related directions or tasks which might be interesting. After working on those paths, you can of course also try to come up with interesting ideas how to combine concepts from both sections."
   ]
  },
  {
   "cell_type": "code",
   "execution_count": null,
   "metadata": {},
   "outputs": [],
   "source": []
  },
  {
   "cell_type": "markdown",
   "metadata": {},
   "source": [
    "## Section 1: Non-commuting Hamiltonians and Trotterization\n",
    "\n",
    "In this section we investigate the dependence of the Trotter error on the Trotter step size."
   ]
  },
  {
   "cell_type": "markdown",
   "metadata": {},
   "source": [
    "The XXZ Heisenberg model above has only commuting terms. In general this is not the case, and need to be more careful in implementing the time evolution under $H$.\n",
    "\n",
    "Let $A$ and $B$ be square matrices. As discussed above\n",
    "$$\n",
    "[A, B] = AB-BA = 0 \\implies e^{-i(A + B)} = e^{-iA} e^{-iB}\n",
    "$$\n",
    "\n",
    "However if the matrices $A$ and $B$ do not commute then we have an error term to deal with\n",
    "$$\n",
    "||A|| < \\delta\\,, \\quad ||B|| < \\delta \\implies e^{-i(A + B)} = e^{-iA} e^{-iB} + \\mathcal{O}(\\delta^2)\n",
    "$$\n",
    "Here $||.||$ denotes the spectral norm.\n",
    "$$\n",
    "|| A || := \\max_{|\\psi\\rangle \\neq 0} \\frac{||A|\\psi\\rangle ||}{|| \\, |\\psi\\rangle||}\n",
    "$$\n",
    "\n",
    "Now suppose we have a Hamiltonian $H$ expressed as a sum of Hermitian matrices $H_k$.\n",
    "$$\n",
    "H = \\sum_{i=1}^m H_i\n",
    "$$\n",
    "Here, the operators $H_k$ could be the weighted Pauli strings above $H_i = \\alpha_i P_i$.\n",
    "In generalt $[H_i, H_j] \\neq 0$. In this case\n",
    "$$\n",
    "e^{-i H_1 t}e^{-i H_2 t}... e^{-i H_m t} \\neq e^{-i( H_1 + ... H_m) t} \\,.\n",
    "$$\n",
    "However, one can show that for a given target accuracy $\\epsilon$, we can find a (probably large) $p \\in \\mathbb{N}$, such that the distance between both time evolution operators is small,\n",
    "$$\n",
    "|| \\big( e^{-i H_1 t/p}e^{-i H_2 t /p}... e^{-i H_m t/p}\\big)^p - e^{-i( H_1 + ... H_m) t} || \\leq \\epsilon \\,.\n",
    "$$\n",
    "\n",
    "If the $H_i$ are, as assumed above, Pauli strings, we can implement $e^{-i H_1 t/p}e^{-i H_2 t /p}... e^{-i H_m t/p}$ as a quantum circuit and concatenate it $p$ times to obtain a $\\epsilon$-close approximation of the target evolution $e^{-i( H_1 + ... H_m) t}$. The factorization formula $e^{-i H_1 t/p}e^{-i H_2 t /p}... e^{-i H_m t/p}$ is called \"first-order Trotterization\" of $H$. There are higher order Trotterization formulas which are more accurate but also more difficult to implement. We will discuss a few of them below."
   ]
  },
  {
   "cell_type": "markdown",
   "metadata": {},
   "source": [
    "### Task 1: Implement the transverse field Ising model."
   ]
  },
  {
   "cell_type": "markdown",
   "metadata": {},
   "source": [
    "The transverse field Ising model is given by\n",
    "$$\n",
    "H_\\mathrm{Ising} = - J \\sum_{i=1}^{N-1} Z^{(i)} Z^{(i+1)} + g\\sum_{i=1}^N X^{(i)}\n",
    "$$\n",
    "with interaction strength $J$ and transverse field strength $g$. We can set $g=1$ and $J=1.2$ in the following, but other parameter values can be explored."
   ]
  },
  {
   "cell_type": "code",
   "execution_count": 7,
   "metadata": {},
   "outputs": [],
   "source": [
    "def get_ising_FO_trotter(n_qubits: int, g: float, J: float, t: float, N_trotter: int, q: float) -> QubitPauliOperator:\n",
    "    '''\n",
    "    Returns the Ising model Hamiltonian given the number of qubits, \n",
    "    transverse field strength g, interaction strength J, a time to propagate\n",
    "    to t, and the number of trotter steps N_trotter. This uses a FIRST\n",
    "    ORDER TROTTERIZATION. The parameter q is for scaling. \n",
    "    '''\n",
    "\n",
    "    sites = nx.path_graph(n_qubits)\n",
    "    qpo_dict = {}\n",
    "    \n",
    "    for e in sites.edges:  # Z^(n)Z^(n+1) terms\n",
    "        zz_term = QubitPauliString([Qubit(e[0]), Qubit(e[1])], [Pauli.Z, Pauli.Z])\n",
    "        qpo_dict[zz_term] = -J*t*q/N_trotter  # interaction strength\n",
    "\n",
    "    for i in range(n_qubits): # X^(n) terms\n",
    "        x_term = QubitPauliString([Qubit(i)], [Pauli.X])\n",
    "        qpo_dict[x_term] = g*t*q/N_trotter  # transverse field strength\n",
    "    \n",
    "    print(qpo_dict)\n",
    "    return QubitPauliOperator(qpo_dict)\n",
    "\n",
    "\n",
    "def get_ising_SO_trotter_FORWARD(n_qubits: int, g: float, J: float, t: float, N_trotter: int, q: float) -> QubitPauliOperator:\n",
    "    '''\n",
    "    Returns the Ising model Hamiltonian given the number of qubits, \n",
    "    transverse field strength g, interaction strength J, a time to propagate\n",
    "    to t, and the number of trotter steps N_trotter. This uses a SECOND\n",
    "    ORDER TROTTERIZATION (SOC). This only calculates the first half of the terms\n",
    "    in a SOC; 'get_ising_SO_trotter_REVERSE' does the second half. \n",
    "    The parameter q is for scaling. \n",
    "    '''\n",
    "\n",
    "    sites = nx.path_graph(n_qubits)\n",
    "    qpo_dict = {}\n",
    "\n",
    "    for e in sites.edges:\n",
    "        zz_term = QubitPauliString([Qubit(e[0]), Qubit(e[1])], [Pauli.Z, Pauli.Z])\n",
    "        qpo_dict[zz_term] = -J*t*q/(2 * N_trotter)  # interaction strength\n",
    "\n",
    "    for i in range(n_qubits):\n",
    "        x_term = QubitPauliString([Qubit(i)], [Pauli.X])\n",
    "        qpo_dict[x_term] = g*t*q/(2 * N_trotter) # transverse field strength\n",
    "\n",
    "    print(qpo_dict)\n",
    "    return QubitPauliOperator(qpo_dict)\n",
    "\n",
    "def get_ising_SO_trotter_REVERSE(n_qubits: int, g: float, J: float, t: float, N_trotter: int, q: float) -> QubitPauliOperator:\n",
    "    '''\n",
    "    Returns the Ising model Hamiltonian given the number of qubits, \n",
    "    transverse field strength g, interaction strength J, a time to propagate\n",
    "    to t, and the number of trotter steps N_trotter. This uses a SECOND\n",
    "    ORDER TROTTERIZATION (SOC). This only calculates the second half of the terms\n",
    "    in a SOC; 'get_ising_SO_trotter_FORWARD' does the first half. \n",
    "    The parameter q is for scaling. \n",
    "    '''\n",
    "    sites = nx.path_graph(n_qubits)\n",
    "    qpo_dict = {}\n",
    "    \n",
    "    for i in reversed(range(n_qubits)):\n",
    "        x_term_rev = QubitPauliString([Qubit(i)], [Pauli.X])\n",
    "        qpo_dict[x_term_rev] = g*t*q/(2 * N_trotter)  # transverse field strength\n",
    "    \n",
    "    for e in reversed(list(sites.edges)):\n",
    "        zz_term_rev = QubitPauliString([Qubit(e[0]), Qubit(e[1])], [Pauli.Z, Pauli.Z])\n",
    "        qpo_dict[zz_term_rev] = -J*t*q / (2 * N_trotter)  # interaction strength\n",
    "        \n",
    "    return QubitPauliOperator(qpo_dict)\n"
   ]
  },
  {
   "cell_type": "markdown",
   "metadata": {},
   "source": [
    "### Task 2: Trotter error scaling and higher order Trotterization formulas\n",
    "\n",
    "- Implement first and second order Trotterizations\n",
    "- You can also implement even higher order Trotterizations. Higher-order Trotterization formulas are given e.g. in Eq. (13) and (14) in [3].\n",
    "- Implement the classical simulation of the quantum evolution using e.g. `numpy`. This you will need to quantify the Trotter error. You get the Trotter error by taking the distance between the state vector prepared with the Trotterized circuit, and the state vector prepared with the numerically exact classical numpy method.\n",
    "- Plot the Trotter errors vs number of Trotter steps in a double-log plot\n",
    "\n",
    "\n",
    "Hint:\n",
    "- For example, for two non-commuting operators $A,B$, the second order Trotterization reads [4]\n",
    "$$\n",
    "e^{-i t (A + B)} = e^{-i t A / 2} e^{-i t B} e^{-it A / 2}\n",
    "$$\n",
    "- Use an empty circuit to initialize the time evolution circuit. This means we are starting with the state $\\ket{\\psi} = \\ket{0}^{\\otimes N}$, where all the qubits are in the zero state.\n",
    "- You can also explore other initial states.\n",
    "- To get the state vector of the quantum circuit, you may want to use the backend `AerStateBackend()` (`from pytket.extensions.qiskit import AerStateBackend`).\n",
    "- You can get the matrix representation of a `QubitPauliOperator` with `to_sparse_matrix()` as described above.\n",
    "- The quantum circuit is initialized with the all zero state $\\ket{\\psi} = \\ket{0}^{\\otimes N}$. The corresponding initial vector for the classical numpy simulation is $v = (1, 0, \\dots , 0)\\in \\mathbb{R}^{2^n}$."
   ]
  },
  {
   "cell_type": "markdown",
   "metadata": {},
   "source": [
    "E.g. use.."
   ]
  },
  {
   "cell_type": "code",
   "execution_count": 21,
   "metadata": {},
   "outputs": [],
   "source": [
    "import numpy as np\n",
    "### QLIB IS A LIBRARY FOR QUANTUM DYNAMICS SIMULATION ###\n",
    "from qlib.operators import * \n",
    "from qlib import oper, qprint\n",
    "from qlib.utils import tensor\n",
    "from qlib.states import state\n",
    "from qlib import ket\n",
    "from scipy.linalg import expm\n",
    "\n",
    "def time_evolve_operator(H: oper, t: float):\n",
    "    '''\n",
    "    Returns the time evolution operator given a TIME-INDEPENDENT\n",
    "    Hamiltonian H and a time t. The output is an 'oper' object\n",
    "    per qlib classes.  \n",
    "    '''\n",
    "    H = H.to_matrix()\n",
    "    U = expm(-1j * H * t)\n",
    "    return oper(U)\n",
    "\n",
    "def get_xxz_hamiltonian(n_qubits: int, delta: float, q: float) -> oper:\n",
    "    '''\n",
    "    Creates the Heisenberg XXZ Hamiltonian using qlib. \n",
    "    '''\n",
    "    H_xxz = zeros(2**n_qubits)\n",
    "    for k in range(n_qubits - 1):\n",
    "        left_ids = identity(2**k)\n",
    "        right_ids = identity(2**(n_qubits - k - 2))\n",
    "        H_xxz += q*tensor(left_ids, pauli_x(), pauli_x(), right_ids)\n",
    "        H_xxz += q*tensor(left_ids, pauli_y(), pauli_y(), right_ids)\n",
    "        H_xxz += q*delta * tensor(left_ids, pauli_z(), pauli_z(), right_ids)\n",
    "    return H_xxz\n",
    "\n",
    "def get_ising_hamiltonian(n_qubits: int, J: float, g: float):\n",
    "    '''\n",
    "    Creates the Ising Hamiltonian using qlib. \n",
    "    '''\n",
    "    H_ising = zeros(2**n_qubits)\n",
    "    for k in range(n_qubits - 1):\n",
    "        left_ids = identity(2**k)\n",
    "        right_ids = identity(2**(n_qubits-k-2))\n",
    "        H_ising += -J * tensor(left_ids, pauli_z(), pauli_z(), right_ids)\n",
    "    for k in range(n_qubits):\n",
    "        left_ids = identity(2**k)\n",
    "        right_ids = identity(2**(n_qubits-k-1))\n",
    "        H_ising += g * tensor(left_ids, pauli_x(), right_ids)\n",
    "    return H_ising\n",
    "\n",
    "n_qubits, Delta_ZZ, t = 2, 0.5, 1.0\n",
    "psi0 = state(2**n_qubits, 0) # fully excited initial state\n",
    "\n",
    "# hamiltonians\n",
    "H_xxz = get_xxz_hamiltonian(n_qubits, Delta_ZZ, q=1)\n",
    "H_ising = get_ising_hamiltonian(n_qubits, J=1.2, g=1)\n",
    "\n",
    "# time evolved XXZ state\n",
    "true_XXZ_state = time_evolve_operator(H=H_xxz, t=t) * psi0\n",
    "# time evolved ising state\n",
    "true_ising_state  = time_evolve_operator(H=H_ising, t=t) * psi0\n",
    "# time evolution operator for Heisenberg XXZ model. \n",
    "U_xxz = time_evolve_operator(H_xxz, t)\n",
    "\n",
    "# FOR LOGGING, NOT NEEDED. \n",
    "# print(\"XXZ HAMILTONIAN\")\n",
    "# qprint(H_xxz)\n",
    "# print(\"XXZ TIME EVOLUTION OPER\")\n",
    "# qprint(u)\n",
    "# print(\"ising evolved state\")\n",
    "# qprint(ising_state)\n",
    "# print(ising_state.vector)\n"
   ]
  },
  {
   "cell_type": "code",
   "execution_count": 9,
   "metadata": {},
   "outputs": [],
   "source": [
    "n_trotter_steps = list(range(1, 200, 20))\n",
    "from pytket.circuit.display import render_circuit_jupyter as draw\n",
    "from pytket.passes import DecomposeBoxes"
   ]
  },
  {
   "cell_type": "code",
   "execution_count": 10,
   "metadata": {},
   "outputs": [
    {
     "name": "stdout",
     "output_type": "stream",
     "text": [
      "{(Zq[0], Zq[1]): -0.7639437268410977, (Xq[0]): 0.6366197723675814, (Xq[1]): 0.6366197723675814}\n",
      "{(Zq[0], Zq[1]): -0.03637827270671894, (Xq[0]): 0.030315227255599115, (Xq[1]): 0.030315227255599115}\n",
      "{(Zq[0], Zq[1]): -0.018632773825392628, (Xq[0]): 0.015527311521160521, (Xq[1]): 0.015527311521160521}\n",
      "{(Zq[0], Zq[1]): -0.012523667653132748, (Xq[0]): 0.010436389710943957, (Xq[1]): 0.010436389710943957}\n",
      "{(Zq[0], Zq[1]): -0.00943140403507528, (Xq[0]): 0.007859503362562734, (Xq[1]): 0.007859503362562734}\n",
      "{(Zq[0], Zq[1]): -0.007563799275654433, (Xq[0]): 0.00630316606304536, (Xq[1]): 0.00630316606304536}\n",
      "{(Zq[0], Zq[1]): -0.006313584519347915, (Xq[0]): 0.005261320432789929, (Xq[1]): 0.005261320432789929}\n",
      "{(Zq[0], Zq[1]): -0.00541804061589431, (Xq[0]): 0.004515033846578591, (Xq[1]): 0.004515033846578591}\n",
      "{(Zq[0], Zq[1]): -0.004744992092180731, (Xq[0]): 0.003954160076817276, (Xq[1]): 0.003954160076817276}\n",
      "{(Zq[0], Zq[1]): -0.004220683573707722, (Xq[0]): 0.0035172363114231017, (Xq[1]): 0.0035172363114231017}\n"
     ]
    },
    {
     "data": {
      "image/png": "[encoded data removed]",
      "text/plain": [
       "<Figure size 640x480 with 1 Axes>"
      ]
     },
     "metadata": {},
     "output_type": "display_data"
    }
   ],
   "source": [
    "from pytket.extensions.qiskit import AerStateBackend\n",
    "import matplotlib.pyplot as plt\n",
    "\n",
    "def get_ising_circ_FO(n_qubits: int, J: float, g: float, t: float, N_trotter: int, q: float):\n",
    "    '''\n",
    "    Returns a circuit to simulate the Ising model via FIRST\n",
    "    ORDER TROTTERIZATION (FOT) given the model's needed parameters\n",
    "    and coefficient q. \n",
    "    '''\n",
    "\n",
    "    H_ising = get_ising_FO_trotter(n_qubits=n_qubits, g=g, J=J, t=t, N_trotter=N_trotter, q=q)\n",
    "    circ = Circuit(n_qubits)\n",
    "\n",
    "    for _ in range(N_trotter):\n",
    "        circ = gen_term_sequence_circuit(H_ising, circ)\n",
    "\n",
    "    return circ\n",
    "    \n",
    "#########################################################\n",
    "### PLOTTING TROTTER ERROR AS A FUNCTION OF N_trotter ###\n",
    "#########################################################\n",
    "\n",
    "trotter_errors_FO = []\n",
    "n_qubits, g, J, t, q = 2, 1.0, 1.2, 1.0, 2/np.pi\n",
    "\n",
    "for num_steps in n_trotter_steps:\n",
    "    circ = Circuit(n_qubits)\n",
    "    circ = get_ising_circ_FO(n_qubits, J, g, t, num_steps, q)\n",
    "\n",
    "    backend = AerStateBackend()  # qiskit's state vector simulator\n",
    "    compiled_circ = backend.get_compiled_circuit(circ)\n",
    "    result = backend.process_circuit(compiled_circ)\n",
    "    result = backend.get_result(result)\n",
    "\n",
    "    approx_state = result.get_state()\n",
    "\n",
    "    # the true ising state was calculated using qlib earlier.\n",
    "    curr_error = np.max(np.abs(approx_state - true_ising_state.vector))\n",
    "    trotter_errors_FO.append(curr_error)\n",
    "\n",
    "\n",
    "plt.plot(n_trotter_steps, trotter_errors_FO, marker='o', linestyle='-', color='b')\n",
    "plt.xlabel('Number of Trotter Steps (n)')\n",
    "plt.ylabel('Trotter Error - First Order')\n",
    "plt.xscale(\"log\")\n",
    "plt.yscale(\"log\")\n",
    "plt.grid(True)\n",
    "plt.show()"
   ]
  },
  {
   "cell_type": "code",
   "execution_count": 11,
   "metadata": {},
   "outputs": [
    {
     "name": "stdout",
     "output_type": "stream",
     "text": [
      "{(Zq[0], Zq[1]): -0.38197186342054884, (Xq[0]): 0.3183098861837907, (Xq[1]): 0.3183098861837907}\n",
      "{(Zq[0], Zq[1]): -0.01818913635335947, (Xq[0]): 0.015157613627799557, (Xq[1]): 0.015157613627799557}\n",
      "{(Zq[0], Zq[1]): -0.009316386912696314, (Xq[0]): 0.007763655760580261, (Xq[1]): 0.007763655760580261}\n",
      "{(Zq[0], Zq[1]): -0.006261833826566374, (Xq[0]): 0.005218194855471979, (Xq[1]): 0.005218194855471979}\n",
      "{(Zq[0], Zq[1]): -0.00471570201753764, (Xq[0]): 0.003929751681281367, (Xq[1]): 0.003929751681281367}\n",
      "{(Zq[0], Zq[1]): -0.0037818996378272164, (Xq[0]): 0.00315158303152268, (Xq[1]): 0.00315158303152268}\n",
      "{(Zq[0], Zq[1]): -0.0031567922596739575, (Xq[0]): 0.0026306602163949644, (Xq[1]): 0.0026306602163949644}\n",
      "{(Zq[0], Zq[1]): -0.002709020307947155, (Xq[0]): 0.0022575169232892955, (Xq[1]): 0.0022575169232892955}\n",
      "{(Zq[0], Zq[1]): -0.0023724960460903654, (Xq[0]): 0.001977080038408638, (Xq[1]): 0.001977080038408638}\n",
      "{(Zq[0], Zq[1]): -0.002110341786853861, (Xq[0]): 0.0017586181557115508, (Xq[1]): 0.0017586181557115508}\n"
     ]
    },
    {
     "data": {
      "image/png": "[encoded data removed]",
      "text/plain": [
       "<Figure size 640x480 with 1 Axes>"
      ]
     },
     "metadata": {},
     "output_type": "display_data"
    }
   ],
   "source": [
    "from pytket.extensions.qiskit import AerStateBackend\n",
    "import matplotlib.pyplot as plt\n",
    "\n",
    "def get_ising_circ_SO(n_qubits: int, J: float, g: float, t: float, N_trotter: int, q: float):\n",
    "    '''\n",
    "    Returns a circuit to simulate the Ising model via SOT \n",
    "    given the model's needed parameters and coefficient q. \n",
    "    '''\n",
    "\n",
    "    H_ising_forward = get_ising_SO_trotter_FORWARD(n_qubits=n_qubits, g=g, J=J, t=t, N_trotter=N_trotter, q=q)\n",
    "    H_ising_reverse = get_ising_SO_trotter_REVERSE(n_qubits=n_qubits, g=g, J=J, t=t, N_trotter=N_trotter, q=q)\n",
    "\n",
    "    circ = Circuit(n_qubits)\n",
    "    for _ in range(N_trotter): \n",
    "        circ = gen_term_sequence_circuit(H_ising_forward,circ)\n",
    "        circ  = gen_term_sequence_circuit(H_ising_reverse, circ)\n",
    "    return circ\n",
    "\n",
    "#########################################################\n",
    "### PLOTTING TROTTER ERROR AS A FUNCTION OF N_trotter ###\n",
    "#########################################################\n",
    "\n",
    "trotter_errors_SO = []\n",
    "n_qubits, g, J, t, q = 2, 1.0, 1.2, 1.0, 2/np.pi\n",
    "\n",
    "for num_steps in n_trotter_steps:\n",
    "    circ = Circuit(n_qubits)\n",
    "    circ = get_ising_circ_SO(n_qubits, J, g, t, num_steps, q)\n",
    "\n",
    "    backend = AerStateBackend()  # qiskit's state vector simulator\n",
    "    compiled_circ = backend.get_compiled_circuit(circ)\n",
    "    result = backend.process_circuit(compiled_circ)\n",
    "    result = backend.get_result(result)\n",
    "\n",
    "    approx_state = result.get_state()\n",
    "\n",
    "    # the true ising state was calculated using qlib earlier.\n",
    "    curr_error = np.max(np.abs(approx_state - true_ising_state.vector))\n",
    "    trotter_errors_SO.append(curr_error)\n",
    "\n",
    "\n",
    "plt.plot(n_trotter_steps, trotter_errors_SO, marker='o', linestyle='-', color='b')\n",
    "plt.xlabel('Number of Trotter Steps (n)')\n",
    "plt.ylabel('Trotter Error - Second Order')\n",
    "plt.xscale(\"log\")\n",
    "plt.yscale(\"log\")\n",
    "plt.grid(True)\n",
    "plt.show()"
   ]
  },
  {
   "cell_type": "code",
   "execution_count": 12,
   "metadata": {},
   "outputs": [
    {
     "data": {
      "image/png": "[encoded data removed]",
      "text/plain": [
       "<Figure size 800x600 with 1 Axes>"
      ]
     },
     "metadata": {},
     "output_type": "display_data"
    }
   ],
   "source": [
    "####################################\n",
    "### PLOTTING BOTH TROTTER ERRORS ###\n",
    "####################################\n",
    "\n",
    "plt.figure(figsize=(8, 6))\n",
    "plt.plot(n_trotter_steps, trotter_errors_FO, marker='o', linestyle='-', color='b', label='First Order')\n",
    "plt.plot(n_trotter_steps, trotter_errors_SO, marker='s', linestyle='--', color='r', label='Second Order')\n",
    "\n",
    "# labels + formatting\n",
    "plt.xlabel('Number of Trotter Steps (n)')\n",
    "plt.ylabel('Trotter Error')\n",
    "plt.xscale(\"log\")\n",
    "plt.yscale(\"log\")\n",
    "plt.grid(True, which=\"both\", linestyle=\"--\", linewidth=0.5)\n",
    "plt.legend()  \n",
    "plt.title('Trotter Error Comparison')\n",
    "plt.show() "
   ]
  },
  {
   "cell_type": "markdown",
   "metadata": {},
   "source": [
    "### Task 3: Do the same for the XXZ model\n",
    "\n",
    "What would you expect. Why is there no Trotter error?"
   ]
  },
  {
   "cell_type": "code",
   "execution_count": 13,
   "metadata": {},
   "outputs": [],
   "source": [
    "def get_XXZ_FO_trotter(n_qubits: int, Delta_ZZ: float, t: float, N_trotter: int, q: float) -> QubitPauliOperator:\n",
    "    '''\n",
    "    Returns the XXZ model Hamiltonian given the number of qubits, \n",
    "    neighboring spin interaction strength Delta_ZZ, a time to propagate\n",
    "    to t, and the number of trotter steps N_trotter. This uses a FIRST\n",
    "    ORDER TROTTERIZATION. The parameter q is for scaling. \n",
    "    '''\n",
    "\n",
    "    sites = nx.path_graph(n_qubits)\n",
    "    qpo_dict = {}\n",
    "    \n",
    "    for e in sites.edges:  # Z^(n)Z^(n+1) terms\n",
    "        zz_term = QubitPauliString([Qubit(e[0]), Qubit(e[1])], [Pauli.Z, Pauli.Z])\n",
    "        xx_term = QubitPauliString([Qubit(e[0]), Qubit(e[1])], [Pauli.X, Pauli.X])\n",
    "        yy_term = QubitPauliString([Qubit(e[0]), Qubit(e[1])], [Pauli.Y, Pauli.Y])\n",
    "        qpo_dict[zz_term] = Delta_ZZ*q/N_trotter\n",
    "        qpo_dict[xx_term] = 1.0*q/N_trotter\n",
    "        qpo_dict[yy_term] = 1.0*q/N_trotter\n",
    "    \n",
    "    print(qpo_dict)\n",
    "    return QubitPauliOperator(qpo_dict)\n",
    "\n",
    "def get_XXZ_SO_trotter_FORWARD(n_qubits: int, Delta_ZZ: float, t: float, N_trotter: int, q: float) -> QubitPauliOperator:\n",
    "    '''\n",
    "    Returns the XXZ model Hamiltonian given the number of qubits, \n",
    "    neighboring spin interaction Delta_ZZ, a time to propagate\n",
    "    to t, and the number of trotter steps N_trotter. This uses a SECOND\n",
    "    ORDER TROTTERIZATION (SOC). This only calculates the first half of the terms\n",
    "    in a SOC; 'get_XXZ_SO_trotter_REVERSE' does the second half. \n",
    "    The parameter q is for scaling. \n",
    "    '''\n",
    "\n",
    "    sites = nx.path_graph(n_qubits)\n",
    "    qpo_dict = {}\n",
    "\n",
    "    for e in sites.edges: # Z > Y > X\n",
    "        zz_term = QubitPauliString([Qubit(e[0]), Qubit(e[1])], [Pauli.Z, Pauli.Z])\n",
    "        xx_term = QubitPauliString([Qubit(e[0]), Qubit(e[1])], [Pauli.X, Pauli.X])\n",
    "        yy_term = QubitPauliString([Qubit(e[0]), Qubit(e[1])], [Pauli.Y, Pauli.Y])\n",
    "        qpo_dict[zz_term] = Delta_ZZ*q/(2 * N_trotter)\n",
    "        qpo_dict[xx_term] = 1.0*q/(2 * N_trotter)\n",
    "        qpo_dict[yy_term] = 1.0*q/(2 * N_trotter)\n",
    "\n",
    "    print(qpo_dict)\n",
    "    return QubitPauliOperator(qpo_dict)\n",
    "\n",
    "def get_XXZ_SO_trotter_REVERSE(n_qubits: int, Delta_ZZ: float, t: float, N_trotter: int, q: float) -> QubitPauliOperator:\n",
    "    '''\n",
    "    Returns the XXZ model Hamiltonian given the number of qubits, \n",
    "    neighboring spin interaction Delta_ZZ, a time to propagate\n",
    "    to t, and the number of trotter steps N_trotter. This uses a SECOND\n",
    "    ORDER TROTTERIZATION (SOC). This only calculates the second half of the terms\n",
    "    in a SOC; 'get_ising_SO_trotter_FORWARD' does the first half. \n",
    "    The parameter q is for scaling. \n",
    "    '''\n",
    "    sites = nx.path_graph(n_qubits)\n",
    "    qpo_dict = {}\n",
    "    \n",
    "    for e in reversed(list(sites.edges)):\n",
    "        yy_term = QubitPauliString([Qubit(e[0]), Qubit(e[1])], [Pauli.Y, Pauli.Y])\n",
    "        xx_term = QubitPauliString([Qubit(e[0]), Qubit(e[1])], [Pauli.X, Pauli.X])\n",
    "        zz_term = QubitPauliString([Qubit(e[0]), Qubit(e[1])], [Pauli.Z, Pauli.Z])\n",
    "        qpo_dict[yy_term] = 1.0*q/(2 * N_trotter)\n",
    "        qpo_dict[xx_term] = 1.0*q/(2 * N_trotter)\n",
    "        qpo_dict[zz_term] = Delta_ZZ*q/(2 * N_trotter)\n",
    "        \n",
    "    return QubitPauliOperator(qpo_dict)"
   ]
  },
  {
   "cell_type": "code",
   "execution_count": 22,
   "metadata": {},
   "outputs": [
    {
     "name": "stdout",
     "output_type": "stream",
     "text": [
      "{(Zq[0], Zq[1]): 0.3183098861837907, (Xq[0], Xq[1]): 0.6366197723675814, (Yq[0], Yq[1]): 0.6366197723675814}\n",
      "{(Zq[0], Zq[1]): 0.015157613627799557, (Xq[0], Xq[1]): 0.030315227255599115, (Yq[0], Yq[1]): 0.030315227255599115}\n",
      "{(Zq[0], Zq[1]): 0.007763655760580261, (Xq[0], Xq[1]): 0.015527311521160521, (Yq[0], Yq[1]): 0.015527311521160521}\n",
      "{(Zq[0], Zq[1]): 0.005218194855471979, (Xq[0], Xq[1]): 0.010436389710943957, (Yq[0], Yq[1]): 0.010436389710943957}\n",
      "{(Zq[0], Zq[1]): 0.003929751681281367, (Xq[0], Xq[1]): 0.007859503362562734, (Yq[0], Yq[1]): 0.007859503362562734}\n",
      "{(Zq[0], Zq[1]): 0.00315158303152268, (Xq[0], Xq[1]): 0.00630316606304536, (Yq[0], Yq[1]): 0.00630316606304536}\n",
      "{(Zq[0], Zq[1]): 0.0026306602163949644, (Xq[0], Xq[1]): 0.005261320432789929, (Yq[0], Yq[1]): 0.005261320432789929}\n",
      "{(Zq[0], Zq[1]): 0.0022575169232892955, (Xq[0], Xq[1]): 0.004515033846578591, (Yq[0], Yq[1]): 0.004515033846578591}\n",
      "{(Zq[0], Zq[1]): 0.001977080038408638, (Xq[0], Xq[1]): 0.003954160076817276, (Yq[0], Yq[1]): 0.003954160076817276}\n",
      "{(Zq[0], Zq[1]): 0.0017586181557115508, (Xq[0], Xq[1]): 0.0035172363114231017, (Yq[0], Yq[1]): 0.0035172363114231017}\n"
     ]
    },
    {
     "data": {
      "image/png": "[encoded data removed]",
      "text/plain": [
       "<Figure size 640x480 with 1 Axes>"
      ]
     },
     "metadata": {},
     "output_type": "display_data"
    }
   ],
   "source": [
    "from pytket.extensions.qiskit import AerStateBackend\n",
    "import matplotlib.pyplot as plt\n",
    "\n",
    "def get_XXZ_circ_FO(n_qubits: int, Delta_ZZ: float, t: float, N_trotter: int, q: float):\n",
    "    '''\n",
    "    Returns a circuit to simulate the XXZ model via FIRST\n",
    "    ORDER TROTTERIZATION (FOT) given the model's needed parameters\n",
    "    and coefficient q. \n",
    "    '''\n",
    "\n",
    "    H_XXZ = get_XXZ_FO_trotter(n_qubits=n_qubits, Delta_ZZ=Delta_ZZ, t=t, N_trotter=N_trotter, q=q)\n",
    "    circ = Circuit(n_qubits)\n",
    "\n",
    "    for _ in range(N_trotter):\n",
    "        circ = gen_term_sequence_circuit(H_XXZ, circ)\n",
    "\n",
    "    return circ\n",
    "    \n",
    "#########################################################\n",
    "### PLOTTING TROTTER ERROR AS A FUNCTION OF N_trotter ###\n",
    "#########################################################\n",
    "\n",
    "trotter_errors_FO = []\n",
    "n_qubits, Delta_ZZ, q = 2, 0.5, 2/np.pi\n",
    "\n",
    "for num_steps in n_trotter_steps:\n",
    "    circ = Circuit(n_qubits)\n",
    "    circ = get_XXZ_circ_FO(n_qubits, Delta_ZZ, t, num_steps, q)\n",
    "\n",
    "    backend = AerStateBackend()  # qiskit's state vector simulator\n",
    "    compiled_circ = backend.get_compiled_circuit(circ)\n",
    "    result = backend.process_circuit(compiled_circ)\n",
    "    result = backend.get_result(result)\n",
    "\n",
    "    approx_state = result.get_state()\n",
    "\n",
    "    # the true XXZ state was calculated using qlib earlier.\n",
    "    curr_error = np.max(np.abs(approx_state - true_XXZ_state.vector))\n",
    "    trotter_errors_FO.append(curr_error)\n",
    "\n",
    "\n",
    "plt.plot(n_trotter_steps, trotter_errors_FO, marker='o', linestyle='-', color='b')\n",
    "plt.xlabel('Number of Trotter Steps (n)')\n",
    "plt.ylabel('Trotter Error - First Order')\n",
    "plt.xscale(\"log\")\n",
    "plt.yscale(\"log\")\n",
    "plt.grid(True)\n",
    "plt.show()"
   ]
  },
  {
   "cell_type": "code",
   "execution_count": 23,
   "metadata": {},
   "outputs": [
    {
     "name": "stdout",
     "output_type": "stream",
     "text": [
      "{(Zq[0], Zq[1]): 0.15915494309189535, (Xq[0], Xq[1]): 0.3183098861837907, (Yq[0], Yq[1]): 0.3183098861837907}\n",
      "{(Zq[0], Zq[1]): 0.007578806813899779, (Xq[0], Xq[1]): 0.015157613627799557, (Yq[0], Yq[1]): 0.015157613627799557}\n",
      "{(Zq[0], Zq[1]): 0.0038818278802901303, (Xq[0], Xq[1]): 0.007763655760580261, (Yq[0], Yq[1]): 0.007763655760580261}\n",
      "{(Zq[0], Zq[1]): 0.0026090974277359893, (Xq[0], Xq[1]): 0.005218194855471979, (Yq[0], Yq[1]): 0.005218194855471979}\n",
      "{(Zq[0], Zq[1]): 0.0019648758406406834, (Xq[0], Xq[1]): 0.003929751681281367, (Yq[0], Yq[1]): 0.003929751681281367}\n",
      "{(Zq[0], Zq[1]): 0.00157579151576134, (Xq[0], Xq[1]): 0.00315158303152268, (Yq[0], Yq[1]): 0.00315158303152268}\n",
      "{(Zq[0], Zq[1]): 0.0013153301081974822, (Xq[0], Xq[1]): 0.0026306602163949644, (Yq[0], Yq[1]): 0.0026306602163949644}\n",
      "{(Zq[0], Zq[1]): 0.0011287584616446477, (Xq[0], Xq[1]): 0.0022575169232892955, (Yq[0], Yq[1]): 0.0022575169232892955}\n",
      "{(Zq[0], Zq[1]): 0.000988540019204319, (Xq[0], Xq[1]): 0.001977080038408638, (Yq[0], Yq[1]): 0.001977080038408638}\n",
      "{(Zq[0], Zq[1]): 0.0008793090778557754, (Xq[0], Xq[1]): 0.0017586181557115508, (Yq[0], Yq[1]): 0.0017586181557115508}\n"
     ]
    },
    {
     "data": {
      "image/png": "[encoded data removed]",
      "text/plain": [
       "<Figure size 640x480 with 1 Axes>"
      ]
     },
     "metadata": {},
     "output_type": "display_data"
    }
   ],
   "source": [
    "from pytket.extensions.qiskit import AerStateBackend\n",
    "import matplotlib.pyplot as plt\n",
    "\n",
    "def get_XXZ_circ_SO(n_qubits: int, Delta_ZZ: float, t: float, N_trotter: int, q: float):\n",
    "    '''\n",
    "    Returns a circuit to simulate the XXZ model via SOT \n",
    "    given the model's needed parameters and coefficient q. \n",
    "    '''\n",
    "\n",
    "    H_XXZ_forward = get_XXZ_SO_trotter_FORWARD(n_qubits=n_qubits, Delta_ZZ=Delta_ZZ, t=t, N_trotter=N_trotter, q=q)\n",
    "    H_XXZ_reverse = get_XXZ_SO_trotter_REVERSE(n_qubits=n_qubits, Delta_ZZ=Delta_ZZ, t=t, N_trotter=N_trotter, q=q)\n",
    "\n",
    "    circ = Circuit(n_qubits)\n",
    "    for _ in range(N_trotter): \n",
    "        circ = gen_term_sequence_circuit(H_XXZ_forward,circ)\n",
    "        circ  = gen_term_sequence_circuit(H_XXZ_reverse, circ)\n",
    "    return circ\n",
    "\n",
    "#########################################################\n",
    "### PLOTTING TROTTER ERROR AS A FUNCTION OF N_trotter ###\n",
    "#########################################################\n",
    "\n",
    "trotter_errors_SO = []\n",
    "n_qubits, Delta_ZZ, t, q = 2, 0.5, 1.0, 2/np.pi\n",
    "\n",
    "for num_steps in n_trotter_steps:\n",
    "    circ = Circuit(n_qubits)\n",
    "    circ = get_XXZ_circ_SO(n_qubits, Delta_ZZ, t, num_steps, q)\n",
    "\n",
    "    backend = AerStateBackend()  # qiskit's state vector simulator\n",
    "    compiled_circ = backend.get_compiled_circuit(circ)\n",
    "    result = backend.process_circuit(compiled_circ)\n",
    "    result = backend.get_result(result)\n",
    "\n",
    "    approx_state = result.get_state()\n",
    "\n",
    "    # the true ising state was calculated using qlib earlier.\n",
    "    curr_error = np.max(np.abs(approx_state - true_XXZ_state.vector))\n",
    "    trotter_errors_SO.append(curr_error)\n",
    "\n",
    "\n",
    "plt.plot(n_trotter_steps, trotter_errors_SO, marker='o', linestyle='-', color='r')\n",
    "plt.xlabel('Number of Trotter Steps (n)')\n",
    "plt.ylabel('Trotter Error - Second Order')\n",
    "plt.xscale(\"log\")\n",
    "plt.yscale(\"log\")\n",
    "plt.grid(True)\n",
    "plt.show()"
   ]
  },
  {
   "cell_type": "code",
   "execution_count": null,
   "metadata": {},
   "outputs": [],
   "source": [
    "### With an initial state of all zeros in the XXZ model, the components of the Hamiltonian commute. Because of this, there should be zero trotter error."
   ]
  },
  {
   "cell_type": "markdown",
   "metadata": {},
   "source": [
    "### Task 4: Influence of noise\n",
    "\n",
    "As a next step, we study the influence of noise. Using Quantinuum noise models, we can simulate the circuit under approximately realistic conditions. We focus on the transverse field Ising model in the following.\n",
    "\n",
    "In general, there will be a trade-off between Trotter error and noise. Smaller Trotter steps will reduce the Trotter error but also increase the circuit complexity, e.g. the number of two-qubit gates. This will generally increase errors coming from the noisy hardware.\n",
    "\n",
    "Explore this trade-off by simulating the Trotter circuit for varied Trotter step sizes and noise parameters."
   ]
  },
  {
   "cell_type": "code",
   "execution_count": null,
   "metadata": {},
   "outputs": [],
   "source": []
  },
  {
   "cell_type": "markdown",
   "metadata": {},
   "source": [
    "### Task 5: Other Hamiltonians\n",
    "\n",
    "You can try to implement other Hamiltonians you can find in the literature."
   ]
  },
  {
   "cell_type": "code",
   "execution_count": null,
   "metadata": {},
   "outputs": [],
   "source": []
  },
  {
   "cell_type": "markdown",
   "metadata": {},
   "source": [
    "## Section 2: Simulating quantum systems\n",
    "\n",
    "In the following we study several physically interesting cases of quantum system dynamics for the XXZ Hamiltonian."
   ]
  },
  {
   "cell_type": "code",
   "execution_count": null,
   "metadata": {},
   "outputs": [],
   "source": [
    "import numpy as np\n",
    "from matplotlib import pyplot as plt\n",
    "\n",
    "from pytket.utils.expectations import get_operator_expectation_value\n",
    "from pytket.extensions.qiskit import AerBackend\n",
    "import time\n",
    "\n",
    "aer_sim = AerBackend()"
   ]
  },
  {
   "cell_type": "markdown",
   "metadata": {},
   "source": [
    "Let's first define our Hamiltonian again. We focus on the XXZ Heisenberg model here."
   ]
  },
  {
   "cell_type": "code",
   "execution_count": null,
   "metadata": {},
   "outputs": [],
   "source": [
    "n_qubits = 5\n",
    "Delta_ZZ = 1.72\n",
    "\n",
    "xxz_ham = get_xxz_chain_hamiltonian(n_qubits=n_qubits, Delta_ZZ=Delta_ZZ)\n",
    "print(xxz_ham)"
   ]
  },
  {
   "cell_type": "code",
   "execution_count": null,
   "metadata": {},
   "outputs": [],
   "source": []
  },
  {
   "cell_type": "markdown",
   "metadata": {},
   "source": [
    "### Task 1: Energy conservation\n",
    "\n",
    "The expectation value of the Hamiltonian $H$ gives the energy of the system. This energy does not change during unitary time evolution of the system, i.e. if the initial state has energy $E$, the energy of the system will be $E$ for all times.\n",
    "\n",
    "Below we will test how good our Trotterized circuit fulfills energy conservation."
   ]
  },
  {
   "cell_type": "markdown",
   "metadata": {},
   "source": [
    "We start by computing the energy of the initial zero state $\\ket{\\psi} = \\ket{0}^{\\otimes N}$. This is the default initial state if one generates an empty circuit without any further gates. We compute the expectation of $H$ using the `pytket` function `get_operator_expectation_value`. For simulating the (empty) circuit simulation we use the AerBackend and choose 1000 shots. The expectation value of any Hermitian operator is real. Because we are doing numerics, there might be a negligible imaginary part of order machine precision, which we can just discard."
   ]
  },
  {
   "cell_type": "code",
   "execution_count": null,
   "metadata": {},
   "outputs": [],
   "source": [
    "n_qubits = 5\n",
    "n_shots = 1000\n",
    "\n",
    "initial_state_circtuit = Circuit(n_qubits=n_qubits, name=\"Initial state\")\n",
    "energy = get_operator_expectation_value(initial_state_circtuit, xxz_ham, aer_sim, n_shots=n_shots)\n",
    "print(\"Energy:\", energy.real)"
   ]
  },
  {
   "cell_type": "markdown",
   "metadata": {},
   "source": [
    "Test how the energy is changing if you apply a few simple gates before you compute the expectation value with `get_operator_expectation_value`."
   ]
  },
  {
   "cell_type": "markdown",
   "metadata": {},
   "source": [
    "Next we check if the energy is conserved under system evolution.\n",
    "- Use `t_max = 20`, discretize the interval `[1, t_max]` into several steps, e.g. `times = np.linspace(1, 20, 5)`, and generate the time evolution circuit for each `t` in `times`. You can use e.g. $\\Delta t = 3$.\n",
    "- Use `time_evolution_circ_compiled = aer_sim.get_compiled_circuit(time_evolution_circ, optimisation_level = 2)` to compile and optimize the circuit. Optimization will result in shorter simulation times.\n",
    "- Monitor the number of two-qubit gates of the compiled and uncompiled circuits as you change `t`. You get this number in pytket via `circ.2_qb_gates()`.\n",
    "- Compute the energy expectation at the output of each of those circuits. You can use a smaller number of shots, e.g. `n_shots = 100`, for this.\n",
    "- Plot the obtained energy expectation values against `times`.\n",
    "\n",
    "Hints:\n",
    "- To get two-qubit gate counts of the uncompiled circuit, you will probably need to decompose all boxes with `DecomposeBoxes().apply(time_evolution_circ)` before getting the gate count with `time_evolution_circ.n_2qb_gates()`.\n",
    "- As you will see, the optimization during compilation significantly reduces the two-qubit gate count. This will reduce the time it requires to simulate the circuit classically. Therefore, it is usually a good idea to optimize circuits before running them on either a classical simulator or actual quantum hardware.\n",
    "- You can also monitor the time to compute the expectation values for varied `t`. Plot these timings and the number of two-qubit gates versus `times`.\n",
    "- The energy expectation should roughly be the same for each `t` in `times`, i.e. stay constant."
   ]
  },
  {
   "cell_type": "code",
   "execution_count": 27,
   "metadata": {},
   "outputs": [
    {
     "name": "stdout",
     "output_type": "stream",
     "text": [
      "{(Zq[0], Zq[1]): -3.0557749073643903, (Zq[1], Zq[2]): -3.0557749073643903, (Zq[2], Zq[3]): -3.0557749073643903, (Zq[3], Zq[4]): -3.0557749073643903, (Zq[4], Zq[5]): -3.0557749073643903, (Zq[5], Zq[6]): -3.0557749073643903, (Zq[6], Zq[7]): -3.0557749073643903, (Zq[7], Zq[8]): -3.0557749073643903, (Zq[8], Zq[9]): -3.0557749073643903, (Xq[0]): 2.5464790894703255, (Xq[1]): 2.5464790894703255, (Xq[2]): 2.5464790894703255, (Xq[3]): 2.5464790894703255, (Xq[4]): 2.5464790894703255, (Xq[5]): 2.5464790894703255, (Xq[6]): 2.5464790894703255, (Xq[7]): 2.5464790894703255, (Xq[8]): 2.5464790894703255, (Xq[9]): 2.5464790894703255}\n",
      "{(Zq[0], Zq[1]): -0.15278874536821954, (Zq[1], Zq[2]): -0.15278874536821954, (Zq[2], Zq[3]): -0.15278874536821954, (Zq[3], Zq[4]): -0.15278874536821954, (Zq[4], Zq[5]): -0.15278874536821954, (Zq[5], Zq[6]): -0.15278874536821954, (Zq[6], Zq[7]): -0.15278874536821954, (Zq[7], Zq[8]): -0.15278874536821954, (Zq[8], Zq[9]): -0.15278874536821954, (Xq[0]): 0.12732395447351627, (Xq[1]): 0.12732395447351627, (Xq[2]): 0.12732395447351627, (Xq[3]): 0.12732395447351627, (Xq[4]): 0.12732395447351627, (Xq[5]): 0.12732395447351627, (Xq[6]): 0.12732395447351627, (Xq[7]): 0.12732395447351627, (Xq[8]): 0.12732395447351627, (Xq[9]): 0.12732395447351627}\n",
      "{(Zq[0], Zq[1]): -0.6366197723675813, (Zq[1], Zq[2]): -0.6366197723675813, (Zq[2], Zq[3]): -0.6366197723675813, (Zq[3], Zq[4]): -0.6366197723675813, (Zq[4], Zq[5]): -0.6366197723675813, (Zq[5], Zq[6]): -0.6366197723675813, (Zq[6], Zq[7]): -0.6366197723675813, (Zq[7], Zq[8]): -0.6366197723675813, (Zq[8], Zq[9]): -0.6366197723675813, (Xq[0]): 0.5305164769729844, (Xq[1]): 0.5305164769729844, (Xq[2]): 0.5305164769729844, (Xq[3]): 0.5305164769729844, (Xq[4]): 0.5305164769729844, (Xq[5]): 0.5305164769729844, (Xq[6]): 0.5305164769729844, (Xq[7]): 0.5305164769729844, (Xq[8]): 0.5305164769729844, (Xq[9]): 0.5305164769729844}\n",
      "{(Zq[0], Zq[1]): -1.120450799366943, (Zq[1], Zq[2]): -1.120450799366943, (Zq[2], Zq[3]): -1.120450799366943, (Zq[3], Zq[4]): -1.120450799366943, (Zq[4], Zq[5]): -1.120450799366943, (Zq[5], Zq[6]): -1.120450799366943, (Zq[6], Zq[7]): -1.120450799366943, (Zq[7], Zq[8]): -1.120450799366943, (Zq[8], Zq[9]): -1.120450799366943, (Xq[0]): 0.9337089994724528, (Xq[1]): 0.9337089994724528, (Xq[2]): 0.9337089994724528, (Xq[3]): 0.9337089994724528, (Xq[4]): 0.9337089994724528, (Xq[5]): 0.9337089994724528, (Xq[6]): 0.9337089994724528, (Xq[7]): 0.9337089994724528, (Xq[8]): 0.9337089994724528, (Xq[9]): 0.9337089994724528}\n",
      "{(Zq[0], Zq[1]): -1.604281826366305, (Zq[1], Zq[2]): -1.604281826366305, (Zq[2], Zq[3]): -1.604281826366305, (Zq[3], Zq[4]): -1.604281826366305, (Zq[4], Zq[5]): -1.604281826366305, (Zq[5], Zq[6]): -1.604281826366305, (Zq[6], Zq[7]): -1.604281826366305, (Zq[7], Zq[8]): -1.604281826366305, (Zq[8], Zq[9]): -1.604281826366305, (Xq[0]): 1.336901521971921, (Xq[1]): 1.336901521971921, (Xq[2]): 1.336901521971921, (Xq[3]): 1.336901521971921, (Xq[4]): 1.336901521971921, (Xq[5]): 1.336901521971921, (Xq[6]): 1.336901521971921, (Xq[7]): 1.336901521971921, (Xq[8]): 1.336901521971921, (Xq[9]): 1.336901521971921}\n",
      "{(Zq[0], Zq[1]): -2.0881128533656668, (Zq[1], Zq[2]): -2.0881128533656668, (Zq[2], Zq[3]): -2.0881128533656668, (Zq[3], Zq[4]): -2.0881128533656668, (Zq[4], Zq[5]): -2.0881128533656668, (Zq[5], Zq[6]): -2.0881128533656668, (Zq[6], Zq[7]): -2.0881128533656668, (Zq[7], Zq[8]): -2.0881128533656668, (Zq[8], Zq[9]): -2.0881128533656668, (Xq[0]): 1.7400940444713888, (Xq[1]): 1.7400940444713888, (Xq[2]): 1.7400940444713888, (Xq[3]): 1.7400940444713888, (Xq[4]): 1.7400940444713888, (Xq[5]): 1.7400940444713888, (Xq[6]): 1.7400940444713888, (Xq[7]): 1.7400940444713888, (Xq[8]): 1.7400940444713888, (Xq[9]): 1.7400940444713888}\n",
      "{(Zq[0], Zq[1]): -2.571943880365029, (Zq[1], Zq[2]): -2.571943880365029, (Zq[2], Zq[3]): -2.571943880365029, (Zq[3], Zq[4]): -2.571943880365029, (Zq[4], Zq[5]): -2.571943880365029, (Zq[5], Zq[6]): -2.571943880365029, (Zq[6], Zq[7]): -2.571943880365029, (Zq[7], Zq[8]): -2.571943880365029, (Zq[8], Zq[9]): -2.571943880365029, (Xq[0]): 2.143286566970857, (Xq[1]): 2.143286566970857, (Xq[2]): 2.143286566970857, (Xq[3]): 2.143286566970857, (Xq[4]): 2.143286566970857, (Xq[5]): 2.143286566970857, (Xq[6]): 2.143286566970857, (Xq[7]): 2.143286566970857, (Xq[8]): 2.143286566970857, (Xq[9]): 2.143286566970857}\n",
      "{(Zq[0], Zq[1]): -3.0557749073643903, (Zq[1], Zq[2]): -3.0557749073643903, (Zq[2], Zq[3]): -3.0557749073643903, (Zq[3], Zq[4]): -3.0557749073643903, (Zq[4], Zq[5]): -3.0557749073643903, (Zq[5], Zq[6]): -3.0557749073643903, (Zq[6], Zq[7]): -3.0557749073643903, (Zq[7], Zq[8]): -3.0557749073643903, (Zq[8], Zq[9]): -3.0557749073643903, (Xq[0]): 2.5464790894703255, (Xq[1]): 2.5464790894703255, (Xq[2]): 2.5464790894703255, (Xq[3]): 2.5464790894703255, (Xq[4]): 2.5464790894703255, (Xq[5]): 2.5464790894703255, (Xq[6]): 2.5464790894703255, (Xq[7]): 2.5464790894703255, (Xq[8]): 2.5464790894703255, (Xq[9]): 2.5464790894703255}\n",
      "Number of 2 qubit gates: 0\n",
      "{(Zq[0], Zq[1]): -1.0185916357881302, (Zq[1], Zq[2]): -1.0185916357881302, (Zq[2], Zq[3]): -1.0185916357881302, (Zq[3], Zq[4]): -1.0185916357881302, (Zq[4], Zq[5]): -1.0185916357881302, (Zq[5], Zq[6]): -1.0185916357881302, (Zq[6], Zq[7]): -1.0185916357881302, (Zq[7], Zq[8]): -1.0185916357881302, (Zq[8], Zq[9]): -1.0185916357881302, (Xq[0]): 0.8488263631567752, (Xq[1]): 0.8488263631567752, (Xq[2]): 0.8488263631567752, (Xq[3]): 0.8488263631567752, (Xq[4]): 0.8488263631567752, (Xq[5]): 0.8488263631567752, (Xq[6]): 0.8488263631567752, (Xq[7]): 0.8488263631567752, (Xq[8]): 0.8488263631567752, (Xq[9]): 0.8488263631567752}\n",
      "{(Zq[0], Zq[1]): -0.050929581789406514, (Zq[1], Zq[2]): -0.050929581789406514, (Zq[2], Zq[3]): -0.050929581789406514, (Zq[3], Zq[4]): -0.050929581789406514, (Zq[4], Zq[5]): -0.050929581789406514, (Zq[5], Zq[6]): -0.050929581789406514, (Zq[6], Zq[7]): -0.050929581789406514, (Zq[7], Zq[8]): -0.050929581789406514, (Zq[8], Zq[9]): -0.050929581789406514, (Xq[0]): 0.04244131815783876, (Xq[1]): 0.04244131815783876, (Xq[2]): 0.04244131815783876, (Xq[3]): 0.04244131815783876, (Xq[4]): 0.04244131815783876, (Xq[5]): 0.04244131815783876, (Xq[6]): 0.04244131815783876, (Xq[7]): 0.04244131815783876, (Xq[8]): 0.04244131815783876, (Xq[9]): 0.04244131815783876}\n"
     ]
    },
    {
     "name": "stderr",
     "output_type": "stream",
     "text": [
      "/opt/conda/lib/python3.10/site-packages/matplotlib/cbook.py:1762: ComplexWarning: Casting complex values to real discards the imaginary part\n",
      "  return math.isfinite(val)\n",
      "/opt/conda/lib/python3.10/site-packages/matplotlib/cbook.py:1398: ComplexWarning: Casting complex values to real discards the imaginary part\n",
      "  return np.asarray(x, float)\n"
     ]
    },
    {
     "name": "stdout",
     "output_type": "stream",
     "text": [
      "{(Zq[0], Zq[1]): -0.21220659078919374, (Zq[1], Zq[2]): -0.21220659078919374, (Zq[2], Zq[3]): -0.21220659078919374, (Zq[3], Zq[4]): -0.21220659078919374, (Zq[4], Zq[5]): -0.21220659078919374, (Zq[5], Zq[6]): -0.21220659078919374, (Zq[6], Zq[7]): -0.21220659078919374, (Zq[7], Zq[8]): -0.21220659078919374, (Zq[8], Zq[9]): -0.21220659078919374, (Xq[0]): 0.17683882565766146, (Xq[1]): 0.17683882565766146, (Xq[2]): 0.17683882565766146, (Xq[3]): 0.17683882565766146, (Xq[4]): 0.17683882565766146, (Xq[5]): 0.17683882565766146, (Xq[6]): 0.17683882565766146, (Xq[7]): 0.17683882565766146, (Xq[8]): 0.17683882565766146, (Xq[9]): 0.17683882565766146}\n",
      "{(Zq[0], Zq[1]): -0.37348359978898105, (Zq[1], Zq[2]): -0.37348359978898105, (Zq[2], Zq[3]): -0.37348359978898105, (Zq[3], Zq[4]): -0.37348359978898105, (Zq[4], Zq[5]): -0.37348359978898105, (Zq[5], Zq[6]): -0.37348359978898105, (Zq[6], Zq[7]): -0.37348359978898105, (Zq[7], Zq[8]): -0.37348359978898105, (Zq[8], Zq[9]): -0.37348359978898105, (Xq[0]): 0.3112363331574842, (Xq[1]): 0.3112363331574842, (Xq[2]): 0.3112363331574842, (Xq[3]): 0.3112363331574842, (Xq[4]): 0.3112363331574842, (Xq[5]): 0.3112363331574842, (Xq[6]): 0.3112363331574842, (Xq[7]): 0.3112363331574842, (Xq[8]): 0.3112363331574842, (Xq[9]): 0.3112363331574842}\n",
      "{(Zq[0], Zq[1]): -0.5347606087887684, (Zq[1], Zq[2]): -0.5347606087887684, (Zq[2], Zq[3]): -0.5347606087887684, (Zq[3], Zq[4]): -0.5347606087887684, (Zq[4], Zq[5]): -0.5347606087887684, (Zq[5], Zq[6]): -0.5347606087887684, (Zq[6], Zq[7]): -0.5347606087887684, (Zq[7], Zq[8]): -0.5347606087887684, (Zq[8], Zq[9]): -0.5347606087887684, (Xq[0]): 0.445633840657307, (Xq[1]): 0.445633840657307, (Xq[2]): 0.445633840657307, (Xq[3]): 0.445633840657307, (Xq[4]): 0.445633840657307, (Xq[5]): 0.445633840657307, (Xq[6]): 0.445633840657307, (Xq[7]): 0.445633840657307, (Xq[8]): 0.445633840657307, (Xq[9]): 0.445633840657307}\n",
      "{(Zq[0], Zq[1]): -0.6960376177885556, (Zq[1], Zq[2]): -0.6960376177885556, (Zq[2], Zq[3]): -0.6960376177885556, (Zq[3], Zq[4]): -0.6960376177885556, (Zq[4], Zq[5]): -0.6960376177885556, (Zq[5], Zq[6]): -0.6960376177885556, (Zq[6], Zq[7]): -0.6960376177885556, (Zq[7], Zq[8]): -0.6960376177885556, (Zq[8], Zq[9]): -0.6960376177885556, (Xq[0]): 0.5800313481571296, (Xq[1]): 0.5800313481571296, (Xq[2]): 0.5800313481571296, (Xq[3]): 0.5800313481571296, (Xq[4]): 0.5800313481571296, (Xq[5]): 0.5800313481571296, (Xq[6]): 0.5800313481571296, (Xq[7]): 0.5800313481571296, (Xq[8]): 0.5800313481571296, (Xq[9]): 0.5800313481571296}\n",
      "{(Zq[0], Zq[1]): -0.8573146267883429, (Zq[1], Zq[2]): -0.8573146267883429, (Zq[2], Zq[3]): -0.8573146267883429, (Zq[3], Zq[4]): -0.8573146267883429, (Zq[4], Zq[5]): -0.8573146267883429, (Zq[5], Zq[6]): -0.8573146267883429, (Zq[6], Zq[7]): -0.8573146267883429, (Zq[7], Zq[8]): -0.8573146267883429, (Zq[8], Zq[9]): -0.8573146267883429, (Xq[0]): 0.7144288556569525, (Xq[1]): 0.7144288556569525, (Xq[2]): 0.7144288556569525, (Xq[3]): 0.7144288556569525, (Xq[4]): 0.7144288556569525, (Xq[5]): 0.7144288556569525, (Xq[6]): 0.7144288556569525, (Xq[7]): 0.7144288556569525, (Xq[8]): 0.7144288556569525, (Xq[9]): 0.7144288556569525}\n",
      "{(Zq[0], Zq[1]): -1.0185916357881302, (Zq[1], Zq[2]): -1.0185916357881302, (Zq[2], Zq[3]): -1.0185916357881302, (Zq[3], Zq[4]): -1.0185916357881302, (Zq[4], Zq[5]): -1.0185916357881302, (Zq[5], Zq[6]): -1.0185916357881302, (Zq[6], Zq[7]): -1.0185916357881302, (Zq[7], Zq[8]): -1.0185916357881302, (Zq[8], Zq[9]): -1.0185916357881302, (Xq[0]): 0.8488263631567752, (Xq[1]): 0.8488263631567752, (Xq[2]): 0.8488263631567752, (Xq[3]): 0.8488263631567752, (Xq[4]): 0.8488263631567752, (Xq[5]): 0.8488263631567752, (Xq[6]): 0.8488263631567752, (Xq[7]): 0.8488263631567752, (Xq[8]): 0.8488263631567752, (Xq[9]): 0.8488263631567752}\n",
      "Number of 2 qubit gates: 0\n",
      "{(Zq[0], Zq[1]): -0.6111549814728781, (Zq[1], Zq[2]): -0.6111549814728781, (Zq[2], Zq[3]): -0.6111549814728781, (Zq[3], Zq[4]): -0.6111549814728781, (Zq[4], Zq[5]): -0.6111549814728781, (Zq[5], Zq[6]): -0.6111549814728781, (Zq[6], Zq[7]): -0.6111549814728781, (Zq[7], Zq[8]): -0.6111549814728781, (Zq[8], Zq[9]): -0.6111549814728781, (Xq[0]): 0.5092958178940651, (Xq[1]): 0.5092958178940651, (Xq[2]): 0.5092958178940651, (Xq[3]): 0.5092958178940651, (Xq[4]): 0.5092958178940651, (Xq[5]): 0.5092958178940651, (Xq[6]): 0.5092958178940651, (Xq[7]): 0.5092958178940651, (Xq[8]): 0.5092958178940651, (Xq[9]): 0.5092958178940651}\n",
      "{(Zq[0], Zq[1]): -0.030557749073643906, (Zq[1], Zq[2]): -0.030557749073643906, (Zq[2], Zq[3]): -0.030557749073643906, (Zq[3], Zq[4]): -0.030557749073643906, (Zq[4], Zq[5]): -0.030557749073643906, (Zq[5], Zq[6]): -0.030557749073643906, (Zq[6], Zq[7]): -0.030557749073643906, (Zq[7], Zq[8]): -0.030557749073643906, (Zq[8], Zq[9]): -0.030557749073643906, (Xq[0]): 0.025464790894703257, (Xq[1]): 0.025464790894703257, (Xq[2]): 0.025464790894703257, (Xq[3]): 0.025464790894703257, (Xq[4]): 0.025464790894703257, (Xq[5]): 0.025464790894703257, (Xq[6]): 0.025464790894703257, (Xq[7]): 0.025464790894703257, (Xq[8]): 0.025464790894703257, (Xq[9]): 0.025464790894703257}\n"
     ]
    },
    {
     "name": "stderr",
     "output_type": "stream",
     "text": [
      "/opt/conda/lib/python3.10/site-packages/matplotlib/cbook.py:1762: ComplexWarning: Casting complex values to real discards the imaginary part\n",
      "  return math.isfinite(val)\n",
      "/opt/conda/lib/python3.10/site-packages/matplotlib/cbook.py:1398: ComplexWarning: Casting complex values to real discards the imaginary part\n",
      "  return np.asarray(x, float)\n"
     ]
    },
    {
     "name": "stdout",
     "output_type": "stream",
     "text": [
      "{(Zq[0], Zq[1]): -0.12732395447351624, (Zq[1], Zq[2]): -0.12732395447351624, (Zq[2], Zq[3]): -0.12732395447351624, (Zq[3], Zq[4]): -0.12732395447351624, (Zq[4], Zq[5]): -0.12732395447351624, (Zq[5], Zq[6]): -0.12732395447351624, (Zq[6], Zq[7]): -0.12732395447351624, (Zq[7], Zq[8]): -0.12732395447351624, (Zq[8], Zq[9]): -0.12732395447351624, (Xq[0]): 0.10610329539459688, (Xq[1]): 0.10610329539459688, (Xq[2]): 0.10610329539459688, (Xq[3]): 0.10610329539459688, (Xq[4]): 0.10610329539459688, (Xq[5]): 0.10610329539459688, (Xq[6]): 0.10610329539459688, (Xq[7]): 0.10610329539459688, (Xq[8]): 0.10610329539459688, (Xq[9]): 0.10610329539459688}\n",
      "{(Zq[0], Zq[1]): -0.22409015987338862, (Zq[1], Zq[2]): -0.22409015987338862, (Zq[2], Zq[3]): -0.22409015987338862, (Zq[3], Zq[4]): -0.22409015987338862, (Zq[4], Zq[5]): -0.22409015987338862, (Zq[5], Zq[6]): -0.22409015987338862, (Zq[6], Zq[7]): -0.22409015987338862, (Zq[7], Zq[8]): -0.22409015987338862, (Zq[8], Zq[9]): -0.22409015987338862, (Xq[0]): 0.18674179989449055, (Xq[1]): 0.18674179989449055, (Xq[2]): 0.18674179989449055, (Xq[3]): 0.18674179989449055, (Xq[4]): 0.18674179989449055, (Xq[5]): 0.18674179989449055, (Xq[6]): 0.18674179989449055, (Xq[7]): 0.18674179989449055, (Xq[8]): 0.18674179989449055, (Xq[9]): 0.18674179989449055}\n",
      "{(Zq[0], Zq[1]): -0.320856365273261, (Zq[1], Zq[2]): -0.320856365273261, (Zq[2], Zq[3]): -0.320856365273261, (Zq[3], Zq[4]): -0.320856365273261, (Zq[4], Zq[5]): -0.320856365273261, (Zq[5], Zq[6]): -0.320856365273261, (Zq[6], Zq[7]): -0.320856365273261, (Zq[7], Zq[8]): -0.320856365273261, (Zq[8], Zq[9]): -0.320856365273261, (Xq[0]): 0.2673803043943842, (Xq[1]): 0.2673803043943842, (Xq[2]): 0.2673803043943842, (Xq[3]): 0.2673803043943842, (Xq[4]): 0.2673803043943842, (Xq[5]): 0.2673803043943842, (Xq[6]): 0.2673803043943842, (Xq[7]): 0.2673803043943842, (Xq[8]): 0.2673803043943842, (Xq[9]): 0.2673803043943842}\n",
      "{(Zq[0], Zq[1]): -0.41762257067313335, (Zq[1], Zq[2]): -0.41762257067313335, (Zq[2], Zq[3]): -0.41762257067313335, (Zq[3], Zq[4]): -0.41762257067313335, (Zq[4], Zq[5]): -0.41762257067313335, (Zq[5], Zq[6]): -0.41762257067313335, (Zq[6], Zq[7]): -0.41762257067313335, (Zq[7], Zq[8]): -0.41762257067313335, (Zq[8], Zq[9]): -0.41762257067313335, (Xq[0]): 0.3480188088942778, (Xq[1]): 0.3480188088942778, (Xq[2]): 0.3480188088942778, (Xq[3]): 0.3480188088942778, (Xq[4]): 0.3480188088942778, (Xq[5]): 0.3480188088942778, (Xq[6]): 0.3480188088942778, (Xq[7]): 0.3480188088942778, (Xq[8]): 0.3480188088942778, (Xq[9]): 0.3480188088942778}\n",
      "{(Zq[0], Zq[1]): -0.5143887760730057, (Zq[1], Zq[2]): -0.5143887760730057, (Zq[2], Zq[3]): -0.5143887760730057, (Zq[3], Zq[4]): -0.5143887760730057, (Zq[4], Zq[5]): -0.5143887760730057, (Zq[5], Zq[6]): -0.5143887760730057, (Zq[6], Zq[7]): -0.5143887760730057, (Zq[7], Zq[8]): -0.5143887760730057, (Zq[8], Zq[9]): -0.5143887760730057, (Xq[0]): 0.42865731339417146, (Xq[1]): 0.42865731339417146, (Xq[2]): 0.42865731339417146, (Xq[3]): 0.42865731339417146, (Xq[4]): 0.42865731339417146, (Xq[5]): 0.42865731339417146, (Xq[6]): 0.42865731339417146, (Xq[7]): 0.42865731339417146, (Xq[8]): 0.42865731339417146, (Xq[9]): 0.42865731339417146}\n",
      "{(Zq[0], Zq[1]): -0.6111549814728781, (Zq[1], Zq[2]): -0.6111549814728781, (Zq[2], Zq[3]): -0.6111549814728781, (Zq[3], Zq[4]): -0.6111549814728781, (Zq[4], Zq[5]): -0.6111549814728781, (Zq[5], Zq[6]): -0.6111549814728781, (Zq[6], Zq[7]): -0.6111549814728781, (Zq[7], Zq[8]): -0.6111549814728781, (Zq[8], Zq[9]): -0.6111549814728781, (Xq[0]): 0.5092958178940651, (Xq[1]): 0.5092958178940651, (Xq[2]): 0.5092958178940651, (Xq[3]): 0.5092958178940651, (Xq[4]): 0.5092958178940651, (Xq[5]): 0.5092958178940651, (Xq[6]): 0.5092958178940651, (Xq[7]): 0.5092958178940651, (Xq[8]): 0.5092958178940651, (Xq[9]): 0.5092958178940651}\n",
      "Number of 2 qubit gates: 0\n",
      "{(Zq[0], Zq[1]): -0.4365392724806272, (Zq[1], Zq[2]): -0.4365392724806272, (Zq[2], Zq[3]): -0.4365392724806272, (Zq[3], Zq[4]): -0.4365392724806272, (Zq[4], Zq[5]): -0.4365392724806272, (Zq[5], Zq[6]): -0.4365392724806272, (Zq[6], Zq[7]): -0.4365392724806272, (Zq[7], Zq[8]): -0.4365392724806272, (Zq[8], Zq[9]): -0.4365392724806272, (Xq[0]): 0.3637827270671894, (Xq[1]): 0.3637827270671894, (Xq[2]): 0.3637827270671894, (Xq[3]): 0.3637827270671894, (Xq[4]): 0.3637827270671894, (Xq[5]): 0.3637827270671894, (Xq[6]): 0.3637827270671894, (Xq[7]): 0.3637827270671894, (Xq[8]): 0.3637827270671894, (Xq[9]): 0.3637827270671894}\n",
      "{(Zq[0], Zq[1]): -0.021826963624031363, (Zq[1], Zq[2]): -0.021826963624031363, (Zq[2], Zq[3]): -0.021826963624031363, (Zq[3], Zq[4]): -0.021826963624031363, (Zq[4], Zq[5]): -0.021826963624031363, (Zq[5], Zq[6]): -0.021826963624031363, (Zq[6], Zq[7]): -0.021826963624031363, (Zq[7], Zq[8]): -0.021826963624031363, (Zq[8], Zq[9]): -0.021826963624031363, (Xq[0]): 0.01818913635335947, (Xq[1]): 0.01818913635335947, (Xq[2]): 0.01818913635335947, (Xq[3]): 0.01818913635335947, (Xq[4]): 0.01818913635335947, (Xq[5]): 0.01818913635335947, (Xq[6]): 0.01818913635335947, (Xq[7]): 0.01818913635335947, (Xq[8]): 0.01818913635335947, (Xq[9]): 0.01818913635335947}\n"
     ]
    },
    {
     "name": "stderr",
     "output_type": "stream",
     "text": [
      "/opt/conda/lib/python3.10/site-packages/matplotlib/cbook.py:1762: ComplexWarning: Casting complex values to real discards the imaginary part\n",
      "  return math.isfinite(val)\n",
      "/opt/conda/lib/python3.10/site-packages/matplotlib/cbook.py:1398: ComplexWarning: Casting complex values to real discards the imaginary part\n",
      "  return np.asarray(x, float)\n"
     ]
    },
    {
     "name": "stdout",
     "output_type": "stream",
     "text": [
      "{(Zq[0], Zq[1]): -0.09094568176679732, (Zq[1], Zq[2]): -0.09094568176679732, (Zq[2], Zq[3]): -0.09094568176679732, (Zq[3], Zq[4]): -0.09094568176679732, (Zq[4], Zq[5]): -0.09094568176679732, (Zq[5], Zq[6]): -0.09094568176679732, (Zq[6], Zq[7]): -0.09094568176679732, (Zq[7], Zq[8]): -0.09094568176679732, (Zq[8], Zq[9]): -0.09094568176679732, (Xq[0]): 0.07578806813899777, (Xq[1]): 0.07578806813899777, (Xq[2]): 0.07578806813899777, (Xq[3]): 0.07578806813899777, (Xq[4]): 0.07578806813899777, (Xq[5]): 0.07578806813899777, (Xq[6]): 0.07578806813899777, (Xq[7]): 0.07578806813899777, (Xq[8]): 0.07578806813899777, (Xq[9]): 0.07578806813899777}\n",
      "{(Zq[0], Zq[1]): -0.1600643999095633, (Zq[1], Zq[2]): -0.1600643999095633, (Zq[2], Zq[3]): -0.1600643999095633, (Zq[3], Zq[4]): -0.1600643999095633, (Zq[4], Zq[5]): -0.1600643999095633, (Zq[5], Zq[6]): -0.1600643999095633, (Zq[6], Zq[7]): -0.1600643999095633, (Zq[7], Zq[8]): -0.1600643999095633, (Zq[8], Zq[9]): -0.1600643999095633, (Xq[0]): 0.1333869999246361, (Xq[1]): 0.1333869999246361, (Xq[2]): 0.1333869999246361, (Xq[3]): 0.1333869999246361, (Xq[4]): 0.1333869999246361, (Xq[5]): 0.1333869999246361, (Xq[6]): 0.1333869999246361, (Xq[7]): 0.1333869999246361, (Xq[8]): 0.1333869999246361, (Xq[9]): 0.1333869999246361}\n",
      "{(Zq[0], Zq[1]): -0.2291831180523293, (Zq[1], Zq[2]): -0.2291831180523293, (Zq[2], Zq[3]): -0.2291831180523293, (Zq[3], Zq[4]): -0.2291831180523293, (Zq[4], Zq[5]): -0.2291831180523293, (Zq[5], Zq[6]): -0.2291831180523293, (Zq[6], Zq[7]): -0.2291831180523293, (Zq[7], Zq[8]): -0.2291831180523293, (Zq[8], Zq[9]): -0.2291831180523293, (Xq[0]): 0.19098593171027442, (Xq[1]): 0.19098593171027442, (Xq[2]): 0.19098593171027442, (Xq[3]): 0.19098593171027442, (Xq[4]): 0.19098593171027442, (Xq[5]): 0.19098593171027442, (Xq[6]): 0.19098593171027442, (Xq[7]): 0.19098593171027442, (Xq[8]): 0.19098593171027442, (Xq[9]): 0.19098593171027442}\n",
      "{(Zq[0], Zq[1]): -0.29830183619509526, (Zq[1], Zq[2]): -0.29830183619509526, (Zq[2], Zq[3]): -0.29830183619509526, (Zq[3], Zq[4]): -0.29830183619509526, (Zq[4], Zq[5]): -0.29830183619509526, (Zq[5], Zq[6]): -0.29830183619509526, (Zq[6], Zq[7]): -0.29830183619509526, (Zq[7], Zq[8]): -0.29830183619509526, (Zq[8], Zq[9]): -0.29830183619509526, (Xq[0]): 0.2485848634959127, (Xq[1]): 0.2485848634959127, (Xq[2]): 0.2485848634959127, (Xq[3]): 0.2485848634959127, (Xq[4]): 0.2485848634959127, (Xq[5]): 0.2485848634959127, (Xq[6]): 0.2485848634959127, (Xq[7]): 0.2485848634959127, (Xq[8]): 0.2485848634959127, (Xq[9]): 0.2485848634959127}\n",
      "{(Zq[0], Zq[1]): -0.36742055433786125, (Zq[1], Zq[2]): -0.36742055433786125, (Zq[2], Zq[3]): -0.36742055433786125, (Zq[3], Zq[4]): -0.36742055433786125, (Zq[4], Zq[5]): -0.36742055433786125, (Zq[5], Zq[6]): -0.36742055433786125, (Zq[6], Zq[7]): -0.36742055433786125, (Zq[7], Zq[8]): -0.36742055433786125, (Zq[8], Zq[9]): -0.36742055433786125, (Xq[0]): 0.30618379528155104, (Xq[1]): 0.30618379528155104, (Xq[2]): 0.30618379528155104, (Xq[3]): 0.30618379528155104, (Xq[4]): 0.30618379528155104, (Xq[5]): 0.30618379528155104, (Xq[6]): 0.30618379528155104, (Xq[7]): 0.30618379528155104, (Xq[8]): 0.30618379528155104, (Xq[9]): 0.30618379528155104}\n",
      "{(Zq[0], Zq[1]): -0.4365392724806272, (Zq[1], Zq[2]): -0.4365392724806272, (Zq[2], Zq[3]): -0.4365392724806272, (Zq[3], Zq[4]): -0.4365392724806272, (Zq[4], Zq[5]): -0.4365392724806272, (Zq[5], Zq[6]): -0.4365392724806272, (Zq[6], Zq[7]): -0.4365392724806272, (Zq[7], Zq[8]): -0.4365392724806272, (Zq[8], Zq[9]): -0.4365392724806272, (Xq[0]): 0.3637827270671894, (Xq[1]): 0.3637827270671894, (Xq[2]): 0.3637827270671894, (Xq[3]): 0.3637827270671894, (Xq[4]): 0.3637827270671894, (Xq[5]): 0.3637827270671894, (Xq[6]): 0.3637827270671894, (Xq[7]): 0.3637827270671894, (Xq[8]): 0.3637827270671894, (Xq[9]): 0.3637827270671894}\n",
      "Number of 2 qubit gates: 0\n"
     ]
    },
    {
     "name": "stderr",
     "output_type": "stream",
     "text": [
      "/opt/conda/lib/python3.10/site-packages/matplotlib/cbook.py:1762: ComplexWarning: Casting complex values to real discards the imaginary part\n",
      "  return math.isfinite(val)\n",
      "/opt/conda/lib/python3.10/site-packages/matplotlib/cbook.py:1398: ComplexWarning: Casting complex values to real discards the imaginary part\n",
      "  return np.asarray(x, float)\n"
     ]
    },
    {
     "data": {
      "image/png": "[encoded data removed]",
      "text/plain": [
       "<Figure size 640x480 with 1 Axes>"
      ]
     },
     "metadata": {},
     "output_type": "display_data"
    }
   ],
   "source": [
    "n_qubits = 10\n",
    "\n",
    "t_max = 20\n",
    "n_shots = 1000\n",
    "times = np.linspace(1, t_max, 7)\n",
    "\n",
    "trotter_step_size = [5,15,25,35]\n",
    "\n",
    "aer_sim = AerBackend()\n",
    "\n",
    "\n",
    "\n",
    "for N in trotter_step_size:\n",
    "    energies= []\n",
    "    ising_ham = get_ising_FO_trotter(n_qubits=n_qubits, J=1.2, g=1.0, t=t, N_trotter=N, q=2/np.pi)\n",
    "    \n",
    "    for t in times:\n",
    "        circ = Circuit(n_qubits)\n",
    "        circ = get_ising_circ_FO(n_qubits=n_qubits, J=1.2, g=1.0, t=t, N_trotter=N, q=2/np.pi)\n",
    "        energies.append(get_operator_expectation_value(circ, ising_ham, aer_sim, n_shots=n_shots))\n",
    "    \n",
    "    print(f'Number of 2 qubit gates: {circ.n_2qb_gates()}')\n",
    "\n",
    "    plt.plot(times, energies, marker='s', linestyle='--', label=f'N={N}')\n",
    "\n",
    "# Labels and formatting\n",
    "plt.xlabel('Time')\n",
    "plt.ylabel('Energy')\n",
    "plt.grid(True, which=\"both\", linestyle=\"--\", linewidth=0.5)\n",
    "plt.legend()  # Show legend to differentiate curves\n",
    "plt.title('Energy vs Time')\n",
    "plt.show()\n"
   ]
  },
  {
   "cell_type": "markdown",
   "metadata": {},
   "source": [
    "### Task 2: Influence of noise\n",
    "\n",
    "Study how hardware noise, emulated with e.g. the Quantinuum noise models, affects the results."
   ]
  },
  {
   "cell_type": "code",
   "execution_count": 46,
   "metadata": {},
   "outputs": [],
   "source": [
    "import datetime\n",
    "import qnexus as qnx\n",
    "\n",
    "project = qnx.projects.get_or_create(name=\"iQuHACK2025-jtejada\")\n",
    "qnx.context.set_active_project(project)\n",
    "\n",
    "jobname_suffix = datetime.datetime.now().strftime(\"%Y_%m_%d-%H-%M-%S\")\n",
    "h1_config = qnx.QuantinuumConfig(device_name=\"H1-Emulator\")"
   ]
  },
  {
   "cell_type": "code",
   "execution_count": 50,
   "metadata": {},
   "outputs": [
    {
     "name": "stdout",
     "output_type": "stream",
     "text": [
      "{(Zq[0], Zq[1]): -0.25464790894703254, (Xq[0]): 0.2122065907891938, (Xq[1]): 0.2122065907891938}\n"
     ]
    }
   ],
   "source": [
    "n_qubits=2\n",
    "N=3\n",
    "circuit = get_ising_circ_FO(n_qubits=n_qubits, J=1.2, g=1.0, t=t, N_trotter=N, q=2/np.pi)\n",
    "ref = qnx.circuits.upload(circuit=circuit, name=f\"GHZ-Circuit-{jobname_suffix}\")"
   ]
  },
  {
   "cell_type": "code",
   "execution_count": 51,
   "metadata": {},
   "outputs": [
    {
     "data": {
      "text/html": [
       "\n",
       "\n",
       "\n",
       "\n",
       "\n",
       "\n",
       "<div style=\"resize: vertical; overflow: auto; height: 400px; display: block\">\n",
       "    <iframe srcdoc=\"\n",
       "&lt;!DOCTYPE html&gt;\n",
       "&lt;html lang=&#34;en&#34;&gt;\n",
       "&lt;head&gt;\n",
       "    &lt;meta charset=&#34;UTF-8&#34;&gt;\n",
       "    &lt;!-- Download Vue 3--&gt;\n",
       "&lt;script type=&#34;application/javascript&#34; src=&#34;https://cdn.jsdelivr.net/npm/vue@3&#34;&gt;&lt;/script&gt;\n",
       "&lt;!-- Download Circuit Renderer with styles --&gt;\n",
       "&lt;script type=&#34;application/javascript&#34; src=&#34;https://unpkg.com/pytket-circuit-renderer@0.10/dist/pytket-circuit-renderer.umd.js&#34;&gt;&lt;/script&gt;\n",
       "&lt;link rel=&#34;stylesheet&#34; href=&#34;https://unpkg.com/pytket-circuit-renderer@0.10/dist/pytket-circuit-renderer.css&#34;&gt;\n",
       "&lt;/head&gt;\n",
       "&lt;body&gt;\n",
       "\n",
       "\n",
       "    &lt;div id=&#34;circuit-display-vue-container-d45691e9-e39b-4004-883b-b6f20a36d69f&#34; class=&#34;pytket-circuit-display-container&#34;&gt;\n",
       "        &lt;div style=&#34;display: none&#34;&gt;\n",
       "            &lt;div id=&#34;circuit-json-to-display&#34;&gt;{&#34;bits&#34;: [], &#34;commands&#34;: [{&#34;args&#34;: [[&#34;q&#34;, [0]], [&#34;q&#34;, [1]]], &#34;op&#34;: {&#34;box&#34;: {&#34;circuit&#34;: {&#34;bits&#34;: [], &#34;commands&#34;: [{&#34;args&#34;: [[&#34;q&#34;, [0]], [&#34;q&#34;, [1]]], &#34;op&#34;: {&#34;box&#34;: {&#34;cx_config&#34;: &#34;Tree&#34;, &#34;id&#34;: &#34;9b8e05ad-e1ab-4549-8d98-14de336521a3&#34;, &#34;paulis&#34;: [&#34;Z&#34;, &#34;Z&#34;], &#34;phase&#34;: &#34;-0.254647908947033&#34;, &#34;type&#34;: &#34;PauliExpBox&#34;}, &#34;type&#34;: &#34;PauliExpBox&#34;}}], &#34;created_qubits&#34;: [], &#34;discarded_qubits&#34;: [], &#34;implicit_permutation&#34;: [[[&#34;q&#34;, [0]], [&#34;q&#34;, [0]]], [[&#34;q&#34;, [1]], [&#34;q&#34;, [1]]]], &#34;phase&#34;: &#34;0.0&#34;, &#34;qubits&#34;: [[&#34;q&#34;, [0]], [&#34;q&#34;, [1]]]}, &#34;id&#34;: &#34;0727fa3d-b148-4a54-b862-e7ab97ff888c&#34;, &#34;type&#34;: &#34;CircBox&#34;}, &#34;type&#34;: &#34;CircBox&#34;}}, {&#34;args&#34;: [[&#34;q&#34;, [0]], [&#34;q&#34;, [1]]], &#34;op&#34;: {&#34;box&#34;: {&#34;circuit&#34;: {&#34;bits&#34;: [], &#34;commands&#34;: [{&#34;args&#34;: [[&#34;q&#34;, [0]]], &#34;op&#34;: {&#34;box&#34;: {&#34;cx_config&#34;: &#34;Tree&#34;, &#34;id&#34;: &#34;8ecfb820-a9a2-4d5d-9226-26579e695231&#34;, &#34;paulis&#34;: [&#34;X&#34;], &#34;phase&#34;: &#34;0.212206590789194&#34;, &#34;type&#34;: &#34;PauliExpBox&#34;}, &#34;type&#34;: &#34;PauliExpBox&#34;}}, {&#34;args&#34;: [[&#34;q&#34;, [1]]], &#34;op&#34;: {&#34;box&#34;: {&#34;cx_config&#34;: &#34;Tree&#34;, &#34;id&#34;: &#34;9852a908-b1a0-4e8e-bbd7-c4a1a00acb74&#34;, &#34;paulis&#34;: [&#34;X&#34;], &#34;phase&#34;: &#34;0.212206590789194&#34;, &#34;type&#34;: &#34;PauliExpBox&#34;}, &#34;type&#34;: &#34;PauliExpBox&#34;}}], &#34;created_qubits&#34;: [], &#34;discarded_qubits&#34;: [], &#34;implicit_permutation&#34;: [[[&#34;q&#34;, [0]], [&#34;q&#34;, [0]]], [[&#34;q&#34;, [1]], [&#34;q&#34;, [1]]]], &#34;phase&#34;: &#34;0.0&#34;, &#34;qubits&#34;: [[&#34;q&#34;, [0]], [&#34;q&#34;, [1]]]}, &#34;id&#34;: &#34;00b3a469-87fd-4f6f-b99e-ad490410b4c6&#34;, &#34;type&#34;: &#34;CircBox&#34;}, &#34;type&#34;: &#34;CircBox&#34;}}, {&#34;args&#34;: [[&#34;q&#34;, [0]], [&#34;q&#34;, [1]]], &#34;op&#34;: {&#34;box&#34;: {&#34;circuit&#34;: {&#34;bits&#34;: [], &#34;commands&#34;: [{&#34;args&#34;: [[&#34;q&#34;, [0]], [&#34;q&#34;, [1]]], &#34;op&#34;: {&#34;box&#34;: {&#34;cx_config&#34;: &#34;Tree&#34;, &#34;id&#34;: &#34;26baef39-1731-4df0-85b8-705242544267&#34;, &#34;paulis&#34;: [&#34;Z&#34;, &#34;Z&#34;], &#34;phase&#34;: &#34;-0.254647908947033&#34;, &#34;type&#34;: &#34;PauliExpBox&#34;}, &#34;type&#34;: &#34;PauliExpBox&#34;}}], &#34;created_qubits&#34;: [], &#34;discarded_qubits&#34;: [], &#34;implicit_permutation&#34;: [[[&#34;q&#34;, [0]], [&#34;q&#34;, [0]]], [[&#34;q&#34;, [1]], [&#34;q&#34;, [1]]]], &#34;phase&#34;: &#34;0.0&#34;, &#34;qubits&#34;: [[&#34;q&#34;, [0]], [&#34;q&#34;, [1]]]}, &#34;id&#34;: &#34;2be31f58-6d2c-4788-8021-4ce1d8ec6b85&#34;, &#34;type&#34;: &#34;CircBox&#34;}, &#34;type&#34;: &#34;CircBox&#34;}}, {&#34;args&#34;: [[&#34;q&#34;, [0]], [&#34;q&#34;, [1]]], &#34;op&#34;: {&#34;box&#34;: {&#34;circuit&#34;: {&#34;bits&#34;: [], &#34;commands&#34;: [{&#34;args&#34;: [[&#34;q&#34;, [0]]], &#34;op&#34;: {&#34;box&#34;: {&#34;cx_config&#34;: &#34;Tree&#34;, &#34;id&#34;: &#34;a9193d19-3c05-4b6e-9000-4bc7709f5d66&#34;, &#34;paulis&#34;: [&#34;X&#34;], &#34;phase&#34;: &#34;0.212206590789194&#34;, &#34;type&#34;: &#34;PauliExpBox&#34;}, &#34;type&#34;: &#34;PauliExpBox&#34;}}, {&#34;args&#34;: [[&#34;q&#34;, [1]]], &#34;op&#34;: {&#34;box&#34;: {&#34;cx_config&#34;: &#34;Tree&#34;, &#34;id&#34;: &#34;3952db4e-a589-47e4-99f8-68b4062f4e8b&#34;, &#34;paulis&#34;: [&#34;X&#34;], &#34;phase&#34;: &#34;0.212206590789194&#34;, &#34;type&#34;: &#34;PauliExpBox&#34;}, &#34;type&#34;: &#34;PauliExpBox&#34;}}], &#34;created_qubits&#34;: [], &#34;discarded_qubits&#34;: [], &#34;implicit_permutation&#34;: [[[&#34;q&#34;, [0]], [&#34;q&#34;, [0]]], [[&#34;q&#34;, [1]], [&#34;q&#34;, [1]]]], &#34;phase&#34;: &#34;0.0&#34;, &#34;qubits&#34;: [[&#34;q&#34;, [0]], [&#34;q&#34;, [1]]]}, &#34;id&#34;: &#34;d0eb28ca-4d2d-4d15-8141-567e3997ea15&#34;, &#34;type&#34;: &#34;CircBox&#34;}, &#34;type&#34;: &#34;CircBox&#34;}}, {&#34;args&#34;: [[&#34;q&#34;, [0]], [&#34;q&#34;, [1]]], &#34;op&#34;: {&#34;box&#34;: {&#34;circuit&#34;: {&#34;bits&#34;: [], &#34;commands&#34;: [{&#34;args&#34;: [[&#34;q&#34;, [0]], [&#34;q&#34;, [1]]], &#34;op&#34;: {&#34;box&#34;: {&#34;cx_config&#34;: &#34;Tree&#34;, &#34;id&#34;: &#34;0a230e64-42ad-4fd5-8839-2864fdb90b28&#34;, &#34;paulis&#34;: [&#34;Z&#34;, &#34;Z&#34;], &#34;phase&#34;: &#34;-0.254647908947033&#34;, &#34;type&#34;: &#34;PauliExpBox&#34;}, &#34;type&#34;: &#34;PauliExpBox&#34;}}], &#34;created_qubits&#34;: [], &#34;discarded_qubits&#34;: [], &#34;implicit_permutation&#34;: [[[&#34;q&#34;, [0]], [&#34;q&#34;, [0]]], [[&#34;q&#34;, [1]], [&#34;q&#34;, [1]]]], &#34;phase&#34;: &#34;0.0&#34;, &#34;qubits&#34;: [[&#34;q&#34;, [0]], [&#34;q&#34;, [1]]]}, &#34;id&#34;: &#34;f2a41d0f-293b-4a3d-b1ed-855ff37cafa6&#34;, &#34;type&#34;: &#34;CircBox&#34;}, &#34;type&#34;: &#34;CircBox&#34;}}, {&#34;args&#34;: [[&#34;q&#34;, [0]], [&#34;q&#34;, [1]]], &#34;op&#34;: {&#34;box&#34;: {&#34;circuit&#34;: {&#34;bits&#34;: [], &#34;commands&#34;: [{&#34;args&#34;: [[&#34;q&#34;, [0]]], &#34;op&#34;: {&#34;box&#34;: {&#34;cx_config&#34;: &#34;Tree&#34;, &#34;id&#34;: &#34;170fbf9d-45b8-4b68-be88-c3fdd8df7430&#34;, &#34;paulis&#34;: [&#34;X&#34;], &#34;phase&#34;: &#34;0.212206590789194&#34;, &#34;type&#34;: &#34;PauliExpBox&#34;}, &#34;type&#34;: &#34;PauliExpBox&#34;}}, {&#34;args&#34;: [[&#34;q&#34;, [1]]], &#34;op&#34;: {&#34;box&#34;: {&#34;cx_config&#34;: &#34;Tree&#34;, &#34;id&#34;: &#34;5340c820-45f5-496c-bc66-a2beb05a88ec&#34;, &#34;paulis&#34;: [&#34;X&#34;], &#34;phase&#34;: &#34;0.212206590789194&#34;, &#34;type&#34;: &#34;PauliExpBox&#34;}, &#34;type&#34;: &#34;PauliExpBox&#34;}}], &#34;created_qubits&#34;: [], &#34;discarded_qubits&#34;: [], &#34;implicit_permutation&#34;: [[[&#34;q&#34;, [0]], [&#34;q&#34;, [0]]], [[&#34;q&#34;, [1]], [&#34;q&#34;, [1]]]], &#34;phase&#34;: &#34;0.0&#34;, &#34;qubits&#34;: [[&#34;q&#34;, [0]], [&#34;q&#34;, [1]]]}, &#34;id&#34;: &#34;a541624b-0707-4df9-a0ed-6f8d7238d261&#34;, &#34;type&#34;: &#34;CircBox&#34;}, &#34;type&#34;: &#34;CircBox&#34;}}], &#34;created_qubits&#34;: [], &#34;discarded_qubits&#34;: [], &#34;implicit_permutation&#34;: [[[&#34;q&#34;, [0]], [&#34;q&#34;, [0]]], [[&#34;q&#34;, [1]], [&#34;q&#34;, [1]]]], &#34;name&#34;: &#34;GHZ-Circuit-2025_02_02-07-10-20&#34;, &#34;phase&#34;: &#34;0.0&#34;, &#34;qubits&#34;: [[&#34;q&#34;, [0]], [&#34;q&#34;, [1]]]}&lt;/div&gt;\n",
       "        &lt;/div&gt;\n",
       "        &lt;circuit-display-container\n",
       "                :circuit-element-str=&#34;&#39;#circuit-json-to-display&#39;&#34;\n",
       "                :init-render-options=&#34;initRenderOptions&#34;\n",
       "                view-format=&#34;None&#34;\n",
       "        &gt;&lt;/circuit-display-container&gt;\n",
       "    &lt;/div&gt;\n",
       "    &lt;script type=&#34;application/javascript&#34;&gt;\n",
       "      const circuitRendererUid = &#34;d45691e9-e39b-4004-883b-b6f20a36d69f&#34;;\n",
       "      const displayOptions = JSON.parse(&#39;{&#34;zxStyle&#34;: false, &#34;cropParams&#34;: false}&#39;);\n",
       "\n",
       "      // Script to initialise the circuit renderer app\n",
       "\n",
       "const { createApp } = Vue;\n",
       "const circuitDisplayContainer = window[&#34;pytket-circuit-renderer&#34;].default;\n",
       "// Init variables to be shared between circuit display instances\n",
       "if (typeof window.pytketCircuitDisplays === &#34;undefined&#34;) {\n",
       "    window.pytketCircuitDisplays = {};\n",
       "}\n",
       "// Create the root Vue component\n",
       "const app = createApp({\n",
       "    delimiters: [&#39;[[#&#39;, &#39;#]]&#39;],\n",
       "    components: { circuitDisplayContainer },\n",
       "    data () {\n",
       "      return {\n",
       "        initRenderOptions: displayOptions,\n",
       "      }\n",
       "    }\n",
       "})\n",
       "app.config.unwrapInjectedRef = true;\n",
       "app.mount(&#34;#circuit-display-vue-container-&#34;+circuitRendererUid);\n",
       "window.pytketCircuitDisplays[circuitRendererUid] = app;\n",
       "    &lt;/script&gt;\n",
       "\n",
       "\n",
       "\n",
       "&lt;/body&gt;\n",
       "&lt;/html&gt;\n",
       "\"\n",
       "            width=\"100%\" height=\"100%\"\n",
       "            style=\"border: none; outline: none; overflow: auto\"></iframe>\n",
       "</div>\n",
       "\n"
      ],
      "text/plain": [
       "<IPython.core.display.HTML object>"
      ]
     },
     "metadata": {},
     "output_type": "display_data"
    }
   ],
   "source": [
    "draw(ref.download_circuit())"
   ]
  },
  {
   "cell_type": "code",
   "execution_count": 53,
   "metadata": {},
   "outputs": [],
   "source": [
    "ref_compile_job = qnx.start_compile_job(\n",
    "    circuits=[ref],\n",
    "    backend_config=h1_config,\n",
    "    optimisation_level=2,\n",
    "    name=f\"compilation-job-{jobname_suffix}\"\n",
    ")"
   ]
  },
  {
   "cell_type": "code",
   "execution_count": 54,
   "metadata": {},
   "outputs": [],
   "source": [
    "qnx.jobs.wait_for(ref_compile_job)\n",
    "ref_compiled_circuit = qnx.jobs.results(ref_compile_job)[0].get_output()"
   ]
  },
  {
   "cell_type": "code",
   "execution_count": 55,
   "metadata": {},
   "outputs": [
    {
     "data": {
      "text/html": [
       "\n",
       "\n",
       "\n",
       "\n",
       "\n",
       "\n",
       "<div style=\"resize: vertical; overflow: auto; height: 400px; display: block\">\n",
       "    <iframe srcdoc=\"\n",
       "&lt;!DOCTYPE html&gt;\n",
       "&lt;html lang=&#34;en&#34;&gt;\n",
       "&lt;head&gt;\n",
       "    &lt;meta charset=&#34;UTF-8&#34;&gt;\n",
       "    &lt;!-- Download Vue 3--&gt;\n",
       "&lt;script type=&#34;application/javascript&#34; src=&#34;https://cdn.jsdelivr.net/npm/vue@3&#34;&gt;&lt;/script&gt;\n",
       "&lt;!-- Download Circuit Renderer with styles --&gt;\n",
       "&lt;script type=&#34;application/javascript&#34; src=&#34;https://unpkg.com/pytket-circuit-renderer@0.10/dist/pytket-circuit-renderer.umd.js&#34;&gt;&lt;/script&gt;\n",
       "&lt;link rel=&#34;stylesheet&#34; href=&#34;https://unpkg.com/pytket-circuit-renderer@0.10/dist/pytket-circuit-renderer.css&#34;&gt;\n",
       "&lt;/head&gt;\n",
       "&lt;body&gt;\n",
       "\n",
       "\n",
       "    &lt;div id=&#34;circuit-display-vue-container-78d1eff4-1558-4d5d-8eb4-4dccb8599b79&#34; class=&#34;pytket-circuit-display-container&#34;&gt;\n",
       "        &lt;div style=&#34;display: none&#34;&gt;\n",
       "            &lt;div id=&#34;circuit-json-to-display&#34;&gt;{&#34;bits&#34;: [], &#34;commands&#34;: [{&#34;args&#34;: [[&#34;q&#34;, [0]]], &#34;op&#34;: {&#34;params&#34;: [&#34;0.727327578752393&#34;, &#34;-1&#34;], &#34;type&#34;: &#34;PhasedX&#34;}}, {&#34;args&#34;: [[&#34;q&#34;, [1]]], &#34;op&#34;: {&#34;params&#34;: [&#34;1.27267242124761&#34;, &#34;0&#34;], &#34;type&#34;: &#34;PhasedX&#34;}}, {&#34;args&#34;: [[&#34;q&#34;, [1]], [&#34;q&#34;, [0]]], &#34;op&#34;: {&#34;params&#34;: [&#34;0.477690579465842&#34;], &#34;type&#34;: &#34;ZZPhase&#34;}}, {&#34;args&#34;: [[&#34;q&#34;, [0]]], &#34;op&#34;: {&#34;params&#34;: [&#34;-0.5&#34;, &#34;0&#34;], &#34;type&#34;: &#34;PhasedX&#34;}}, {&#34;args&#34;: [[&#34;q&#34;, [1]]], &#34;op&#34;: {&#34;params&#34;: [&#34;0.5&#34;, &#34;0&#34;], &#34;type&#34;: &#34;PhasedX&#34;}}, {&#34;args&#34;: [[&#34;q&#34;, [1]], [&#34;q&#34;, [0]]], &#34;op&#34;: {&#34;params&#34;: [&#34;0.241634306306942&#34;], &#34;type&#34;: &#34;ZZPhase&#34;}}, {&#34;args&#34;: [[&#34;q&#34;, [0]]], &#34;op&#34;: {&#34;params&#34;: [&#34;0.984879012036797&#34;, &#34;-3.0&#34;], &#34;type&#34;: &#34;PhasedX&#34;}}, {&#34;args&#34;: [[&#34;q&#34;, [1]]], &#34;op&#34;: {&#34;params&#34;: [&#34;-0.0151209879632132&#34;, &#34;-1&#34;], &#34;type&#34;: &#34;PhasedX&#34;}}, {&#34;args&#34;: [[&#34;q&#34;, [0]]], &#34;op&#34;: {&#34;params&#34;: [&#34;3.0&#34;], &#34;type&#34;: &#34;Rz&#34;}}, {&#34;args&#34;: [[&#34;q&#34;, [1]]], &#34;op&#34;: {&#34;params&#34;: [&#34;1&#34;], &#34;type&#34;: &#34;Rz&#34;}}], &#34;created_qubits&#34;: [], &#34;discarded_qubits&#34;: [], &#34;implicit_permutation&#34;: [[[&#34;q&#34;, [0]], [&#34;q&#34;, [0]]], [[&#34;q&#34;, [1]], [&#34;q&#34;, [1]]]], &#34;name&#34;: &#34;GHZ-Circuit-2025_02_02-07-10-20-EmulatorEnabledQuantinuumBackend-final&#34;, &#34;phase&#34;: &#34;0.5&#34;, &#34;qubits&#34;: [[&#34;q&#34;, [0]], [&#34;q&#34;, [1]]]}&lt;/div&gt;\n",
       "        &lt;/div&gt;\n",
       "        &lt;circuit-display-container\n",
       "                :circuit-element-str=&#34;&#39;#circuit-json-to-display&#39;&#34;\n",
       "                :init-render-options=&#34;initRenderOptions&#34;\n",
       "                view-format=&#34;None&#34;\n",
       "        &gt;&lt;/circuit-display-container&gt;\n",
       "    &lt;/div&gt;\n",
       "    &lt;script type=&#34;application/javascript&#34;&gt;\n",
       "      const circuitRendererUid = &#34;78d1eff4-1558-4d5d-8eb4-4dccb8599b79&#34;;\n",
       "      const displayOptions = JSON.parse(&#39;{&#34;zxStyle&#34;: false, &#34;cropParams&#34;: false}&#39;);\n",
       "\n",
       "      // Script to initialise the circuit renderer app\n",
       "\n",
       "const { createApp } = Vue;\n",
       "const circuitDisplayContainer = window[&#34;pytket-circuit-renderer&#34;].default;\n",
       "// Init variables to be shared between circuit display instances\n",
       "if (typeof window.pytketCircuitDisplays === &#34;undefined&#34;) {\n",
       "    window.pytketCircuitDisplays = {};\n",
       "}\n",
       "// Create the root Vue component\n",
       "const app = createApp({\n",
       "    delimiters: [&#39;[[#&#39;, &#39;#]]&#39;],\n",
       "    components: { circuitDisplayContainer },\n",
       "    data () {\n",
       "      return {\n",
       "        initRenderOptions: displayOptions,\n",
       "      }\n",
       "    }\n",
       "})\n",
       "app.config.unwrapInjectedRef = true;\n",
       "app.mount(&#34;#circuit-display-vue-container-&#34;+circuitRendererUid);\n",
       "window.pytketCircuitDisplays[circuitRendererUid] = app;\n",
       "    &lt;/script&gt;\n",
       "\n",
       "\n",
       "\n",
       "&lt;/body&gt;\n",
       "&lt;/html&gt;\n",
       "\"\n",
       "            width=\"100%\" height=\"100%\"\n",
       "            style=\"border: none; outline: none; overflow: auto\"></iframe>\n",
       "</div>\n",
       "\n"
      ],
      "text/plain": [
       "<IPython.core.display.HTML object>"
      ]
     },
     "metadata": {},
     "output_type": "display_data"
    }
   ],
   "source": [
    "compiled_circuit = ref_compiled_circuit.download_circuit()\n",
    "\n",
    "draw(compiled_circuit)"
   ]
  },
  {
   "cell_type": "code",
   "execution_count": 56,
   "metadata": {},
   "outputs": [],
   "source": [
    "ref_execute_job = qnx.start_execute_job(\n",
    "    circuits=[ref_compiled_circuit],\n",
    "    n_shots=[100],\n",
    "    backend_config=h1_config,\n",
    "    name=f\"execution-job-{jobname_suffix}\"\n",
    ")"
   ]
  },
  {
   "cell_type": "code",
   "execution_count": 57,
   "metadata": {},
   "outputs": [
    {
     "data": {
      "text/plain": [
       "JobStatus(status=<StatusEnum.COMPLETED: 'Circuit has completed. Results are ready.'>, message='The job is completed.', error_detail=None, completed_time=datetime.datetime(2025, 2, 2, 7, 26, 8, 878630, tzinfo=datetime.timezone.utc), queued_time=None, submitted_time=datetime.datetime(2025, 2, 2, 7, 26, 8, 50329, tzinfo=datetime.timezone.utc), running_time=datetime.datetime(2025, 2, 2, 7, 26, 8, 488997, tzinfo=datetime.timezone.utc), cancelled_time=None, error_time=None, queue_position=None)"
      ]
     },
     "execution_count": 57,
     "metadata": {},
     "output_type": "execute_result"
    }
   ],
   "source": [
    "qnx.jobs.status(ref_execute_job)"
   ]
  },
  {
   "cell_type": "code",
   "execution_count": 58,
   "metadata": {},
   "outputs": [],
   "source": [
    "qnx.jobs.wait_for(ref_execute_job)\n",
    "ref_result = qnx.jobs.results(ref_execute_job)[0]\n",
    "backend_result = ref_result.download_result()"
   ]
  },
  {
   "cell_type": "code",
   "execution_count": 59,
   "metadata": {},
   "outputs": [
    {
     "name": "stdout",
     "output_type": "stream",
     "text": [
      "Counter({(0, 0, 0, 0, 1, 0, 0, 0, 0, 0, 0, 0, 0, 0, 0, 0, 0, 0, 0, 0, 0, 0, 0, 0, 0, 0, 0, 0, 0, 0, 0, 0, 0, 0, 0, 0, 0): 100})\n"
     ]
    }
   ],
   "source": [
    "print(backend_result.get_counts())"
   ]
  },
  {
   "cell_type": "markdown",
   "metadata": {},
   "source": [
    "### Task 3: Hamiltonian system dynamics\n",
    "\n",
    "Compute time dependent expectation values for other observable, for example $X^{(i)}$ for one of the qubits $i$, or a correlator $X^{(i)} X^{(j)}$. Would you expect these expectation values to vary in time?"
   ]
  },
  {
   "cell_type": "code",
   "execution_count": null,
   "metadata": {},
   "outputs": [],
   "source": []
  },
  {
   "cell_type": "markdown",
   "metadata": {},
   "source": [
    "### Task 4: Hamiltonian system dynamics\n",
    "\n",
    "Diagonalise the Hamiltonian numerically and obtain two eigenstates with different energies, for example take eigenstates of the two lowest energy levels. Use build-in functionality, such as pytket's `StatePreparationBox` to prepare a uniform superposition $\\ket{\\psi}$ of both states with a quantum circuit.\n",
    "\n",
    "Simulate the time evolution of the expectation value of $Z_i$ (or any other easy observable) with $\\ket{\\psi}$ as initial state, and plot the time evolution. What do you expect? How does the frequency of oscillation relate to the energy levels of the Hamiltonian?"
   ]
  },
  {
   "cell_type": "code",
   "execution_count": 16,
   "metadata": {},
   "outputs": [
    {
     "name": "stdout",
     "output_type": "stream",
     "text": [
      "Eigenvalues: [-1.11803399 -1.11803399]\n",
      "Eigenvectors: [-0.22975292  0.          0.          0.          0.          0.\n",
      "  0.          0.          0.97324899 -0.         -0.         -0.\n",
      " -0.         -0.         -0.         -0.        ]\n",
      "[-0.16245985  0.         -0.16245985  0.          0.          0.\n",
      "  0.          0.          0.68819096  0.          0.68819096 -0.\n",
      " -0.         -0.         -0.         -0.        ]\n"
     ]
    }
   ],
   "source": [
    "import numpy as np\n",
    "from scipy.linalg import expm\n",
    "from pytket import Circuit\n",
    "from pytket.extensions.qiskit import AerBackend\n",
    "from pytket.passes import FullPeepholeOptimise\n",
    "from pytket.circuit import StatePreparationBox\n",
    "import matplotlib.pyplot as plt\n",
    "\n",
    "# Define Pauli Matrices\n",
    "I = np.eye(4)\n",
    "X1 = np.kron(np.array([[0, 1], [1, 0]]), I[::2, ::2])\n",
    "Z1 = np.kron(np.array([[1, 0], [0, -1]]), I[::2, ::2])\n",
    "Z2 = np.kron(I[::2, ::2], np.array([[1, 0], [0, -1]]))\n",
    "\n",
    "# Define Hamiltonian: H = J Z1 Z2 + h X1\n",
    "J = 1.0\n",
    "h = 0.5\n",
    "H = J * np.kron(Z1, Z2) + h * np.kron(X1, I)\n",
    "\n",
    "# Diagonalize the Hamiltonian\n",
    "eigenvalues, eigenvectors = np.linalg.eigh(H)\n",
    "\n",
    "# Extract lowest two energy eigenstates\n",
    "ground_state = eigenvectors[:, 0]   # Corresponding to lowest eigenvalue\n",
    "first_excited_state = eigenvectors[:, 1]  # Corresponding to second-lowest eigenvalue\n",
    "\n",
    "# Print eigenvalues\n",
    "print(f\"Eigenvalues: {eigenvalues[:2]}\")  # Lowest two energy levels\n",
    "print(f\"Eigenvectors: {ground_state}\") \n",
    "\n",
    "sum_state=(ground_state + first_excited_state)/(2**(1/2))\n",
    "print(f\"{sum_state}\")"
   ]
  },
  {
   "cell_type": "code",
   "execution_count": 17,
   "metadata": {},
   "outputs": [
    {
     "data": {
      "text/plain": [
       "array([-0.16245985+0.j,  0.        +0.j, -0.16245985+0.j,  0.        +0.j,\n",
       "        0.        +0.j,  0.        +0.j,  0.        +0.j,  0.        +0.j,\n",
       "        0.68819096+0.j,  0.        +0.j,  0.68819096+0.j, -0.        +0.j,\n",
       "       -0.        +0.j, -0.        +0.j, -0.        +0.j, -0.        +0.j])"
      ]
     },
     "execution_count": 17,
     "metadata": {},
     "output_type": "execute_result"
    }
   ],
   "source": [
    "state = StatePreparationBox(sum_state)\n",
    "state.get_statevector()"
   ]
  },
  {
   "cell_type": "code",
   "execution_count": 18,
   "metadata": {},
   "outputs": [
    {
     "name": "stdout",
     "output_type": "stream",
     "text": [
      "{(Zq[0], Zq[1]): -0.25464790894703254, (Zq[1], Zq[2]): -0.25464790894703254, (Zq[2], Zq[3]): -0.25464790894703254, (Xq[0]): 0.2122065907891938, (Xq[1]): 0.2122065907891938, (Xq[2]): 0.2122065907891938, (Xq[3]): 0.2122065907891938}\n"
     ]
    },
    {
     "data": {
      "text/html": [
       "\n",
       "\n",
       "\n",
       "\n",
       "\n",
       "\n",
       "<div style=\"resize: vertical; overflow: auto; height: 400px; display: block\">\n",
       "    <iframe srcdoc=\"\n",
       "&lt;!DOCTYPE html&gt;\n",
       "&lt;html lang=&#34;en&#34;&gt;\n",
       "&lt;head&gt;\n",
       "    &lt;meta charset=&#34;UTF-8&#34;&gt;\n",
       "    &lt;!-- Download Vue 3--&gt;\n",
       "&lt;script type=&#34;application/javascript&#34; src=&#34;https://cdn.jsdelivr.net/npm/vue@3&#34;&gt;&lt;/script&gt;\n",
       "&lt;!-- Download Circuit Renderer with styles --&gt;\n",
       "&lt;script type=&#34;application/javascript&#34; src=&#34;https://unpkg.com/pytket-circuit-renderer@0.10/dist/pytket-circuit-renderer.umd.js&#34;&gt;&lt;/script&gt;\n",
       "&lt;link rel=&#34;stylesheet&#34; href=&#34;https://unpkg.com/pytket-circuit-renderer@0.10/dist/pytket-circuit-renderer.css&#34;&gt;\n",
       "&lt;/head&gt;\n",
       "&lt;body&gt;\n",
       "\n",
       "\n",
       "    &lt;div id=&#34;circuit-display-vue-container-14cbcfbd-cc56-49ab-875e-a40c16354abf&#34; class=&#34;pytket-circuit-display-container&#34;&gt;\n",
       "        &lt;div style=&#34;display: none&#34;&gt;\n",
       "            &lt;div id=&#34;circuit-json-to-display&#34;&gt;{&#34;bits&#34;: [], &#34;commands&#34;: [{&#34;args&#34;: [[&#34;q&#34;, [0]], [&#34;q&#34;, [1]], [&#34;q&#34;, [2]], [&#34;q&#34;, [3]]], &#34;op&#34;: {&#34;box&#34;: {&#34;circuit&#34;: {&#34;bits&#34;: [], &#34;commands&#34;: [{&#34;args&#34;: [[&#34;q&#34;, [0]], [&#34;q&#34;, [1]]], &#34;op&#34;: {&#34;box&#34;: {&#34;cx_config&#34;: &#34;Tree&#34;, &#34;id&#34;: &#34;25abdbea-6bd0-46ff-8a70-935d9507c207&#34;, &#34;paulis&#34;: [&#34;Z&#34;, &#34;Z&#34;], &#34;phase&#34;: &#34;-0.254647908947033&#34;, &#34;type&#34;: &#34;PauliExpBox&#34;}, &#34;type&#34;: &#34;PauliExpBox&#34;}}, {&#34;args&#34;: [[&#34;q&#34;, [1]], [&#34;q&#34;, [2]]], &#34;op&#34;: {&#34;box&#34;: {&#34;cx_config&#34;: &#34;Tree&#34;, &#34;id&#34;: &#34;dc81b625-d489-4027-aba9-59d8437ddf02&#34;, &#34;paulis&#34;: [&#34;Z&#34;, &#34;Z&#34;], &#34;phase&#34;: &#34;-0.254647908947033&#34;, &#34;type&#34;: &#34;PauliExpBox&#34;}, &#34;type&#34;: &#34;PauliExpBox&#34;}}, {&#34;args&#34;: [[&#34;q&#34;, [2]], [&#34;q&#34;, [3]]], &#34;op&#34;: {&#34;box&#34;: {&#34;cx_config&#34;: &#34;Tree&#34;, &#34;id&#34;: &#34;02417849-6159-47b5-8b7b-f4bcb162587a&#34;, &#34;paulis&#34;: [&#34;Z&#34;, &#34;Z&#34;], &#34;phase&#34;: &#34;-0.254647908947033&#34;, &#34;type&#34;: &#34;PauliExpBox&#34;}, &#34;type&#34;: &#34;PauliExpBox&#34;}}], &#34;created_qubits&#34;: [], &#34;discarded_qubits&#34;: [], &#34;implicit_permutation&#34;: [[[&#34;q&#34;, [0]], [&#34;q&#34;, [0]]], [[&#34;q&#34;, [1]], [&#34;q&#34;, [1]]], [[&#34;q&#34;, [2]], [&#34;q&#34;, [2]]], [[&#34;q&#34;, [3]], [&#34;q&#34;, [3]]]], &#34;phase&#34;: &#34;0.0&#34;, &#34;qubits&#34;: [[&#34;q&#34;, [0]], [&#34;q&#34;, [1]], [&#34;q&#34;, [2]], [&#34;q&#34;, [3]]]}, &#34;id&#34;: &#34;a4ccec8e-9b14-4263-b0e6-304920604c78&#34;, &#34;type&#34;: &#34;CircBox&#34;}, &#34;type&#34;: &#34;CircBox&#34;}}, {&#34;args&#34;: [[&#34;q&#34;, [0]], [&#34;q&#34;, [1]], [&#34;q&#34;, [2]], [&#34;q&#34;, [3]]], &#34;op&#34;: {&#34;box&#34;: {&#34;circuit&#34;: {&#34;bits&#34;: [], &#34;commands&#34;: [{&#34;args&#34;: [[&#34;q&#34;, [0]]], &#34;op&#34;: {&#34;box&#34;: {&#34;cx_config&#34;: &#34;Tree&#34;, &#34;id&#34;: &#34;72fbcf61-45ed-4382-b6fd-bf233362b1b4&#34;, &#34;paulis&#34;: [&#34;X&#34;], &#34;phase&#34;: &#34;0.212206590789194&#34;, &#34;type&#34;: &#34;PauliExpBox&#34;}, &#34;type&#34;: &#34;PauliExpBox&#34;}}, {&#34;args&#34;: [[&#34;q&#34;, [1]]], &#34;op&#34;: {&#34;box&#34;: {&#34;cx_config&#34;: &#34;Tree&#34;, &#34;id&#34;: &#34;81c5e090-f4f1-4167-b08a-6f4c0a2eaf16&#34;, &#34;paulis&#34;: [&#34;X&#34;], &#34;phase&#34;: &#34;0.212206590789194&#34;, &#34;type&#34;: &#34;PauliExpBox&#34;}, &#34;type&#34;: &#34;PauliExpBox&#34;}}, {&#34;args&#34;: [[&#34;q&#34;, [2]]], &#34;op&#34;: {&#34;box&#34;: {&#34;cx_config&#34;: &#34;Tree&#34;, &#34;id&#34;: &#34;2775008a-dd22-4eba-839d-96f6879f68db&#34;, &#34;paulis&#34;: [&#34;X&#34;], &#34;phase&#34;: &#34;0.212206590789194&#34;, &#34;type&#34;: &#34;PauliExpBox&#34;}, &#34;type&#34;: &#34;PauliExpBox&#34;}}, {&#34;args&#34;: [[&#34;q&#34;, [3]]], &#34;op&#34;: {&#34;box&#34;: {&#34;cx_config&#34;: &#34;Tree&#34;, &#34;id&#34;: &#34;e70e6892-ca2d-445f-a696-17bd93911f49&#34;, &#34;paulis&#34;: [&#34;X&#34;], &#34;phase&#34;: &#34;0.212206590789194&#34;, &#34;type&#34;: &#34;PauliExpBox&#34;}, &#34;type&#34;: &#34;PauliExpBox&#34;}}], &#34;created_qubits&#34;: [], &#34;discarded_qubits&#34;: [], &#34;implicit_permutation&#34;: [[[&#34;q&#34;, [0]], [&#34;q&#34;, [0]]], [[&#34;q&#34;, [1]], [&#34;q&#34;, [1]]], [[&#34;q&#34;, [2]], [&#34;q&#34;, [2]]], [[&#34;q&#34;, [3]], [&#34;q&#34;, [3]]]], &#34;phase&#34;: &#34;0.0&#34;, &#34;qubits&#34;: [[&#34;q&#34;, [0]], [&#34;q&#34;, [1]], [&#34;q&#34;, [2]], [&#34;q&#34;, [3]]]}, &#34;id&#34;: &#34;26163c96-89b4-4ca8-9010-fbb35d274082&#34;, &#34;type&#34;: &#34;CircBox&#34;}, &#34;type&#34;: &#34;CircBox&#34;}}, {&#34;args&#34;: [[&#34;q&#34;, [0]], [&#34;q&#34;, [1]], [&#34;q&#34;, [2]], [&#34;q&#34;, [3]]], &#34;op&#34;: {&#34;box&#34;: {&#34;circuit&#34;: {&#34;bits&#34;: [], &#34;commands&#34;: [{&#34;args&#34;: [[&#34;q&#34;, [0]], [&#34;q&#34;, [1]]], &#34;op&#34;: {&#34;box&#34;: {&#34;cx_config&#34;: &#34;Tree&#34;, &#34;id&#34;: &#34;d02cdb84-a160-495f-950b-5a0212babfb4&#34;, &#34;paulis&#34;: [&#34;Z&#34;, &#34;Z&#34;], &#34;phase&#34;: &#34;-0.254647908947033&#34;, &#34;type&#34;: &#34;PauliExpBox&#34;}, &#34;type&#34;: &#34;PauliExpBox&#34;}}, {&#34;args&#34;: [[&#34;q&#34;, [1]], [&#34;q&#34;, [2]]], &#34;op&#34;: {&#34;box&#34;: {&#34;cx_config&#34;: &#34;Tree&#34;, &#34;id&#34;: &#34;311c1113-e6a9-4eb3-904b-b9d27215e89f&#34;, &#34;paulis&#34;: [&#34;Z&#34;, &#34;Z&#34;], &#34;phase&#34;: &#34;-0.254647908947033&#34;, &#34;type&#34;: &#34;PauliExpBox&#34;}, &#34;type&#34;: &#34;PauliExpBox&#34;}}, {&#34;args&#34;: [[&#34;q&#34;, [2]], [&#34;q&#34;, [3]]], &#34;op&#34;: {&#34;box&#34;: {&#34;cx_config&#34;: &#34;Tree&#34;, &#34;id&#34;: &#34;5a12e1f6-0955-4f64-b37d-418bb89807de&#34;, &#34;paulis&#34;: [&#34;Z&#34;, &#34;Z&#34;], &#34;phase&#34;: &#34;-0.254647908947033&#34;, &#34;type&#34;: &#34;PauliExpBox&#34;}, &#34;type&#34;: &#34;PauliExpBox&#34;}}], &#34;created_qubits&#34;: [], &#34;discarded_qubits&#34;: [], &#34;implicit_permutation&#34;: [[[&#34;q&#34;, [0]], [&#34;q&#34;, [0]]], [[&#34;q&#34;, [1]], [&#34;q&#34;, [1]]], [[&#34;q&#34;, [2]], [&#34;q&#34;, [2]]], [[&#34;q&#34;, [3]], [&#34;q&#34;, [3]]]], &#34;phase&#34;: &#34;0.0&#34;, &#34;qubits&#34;: [[&#34;q&#34;, [0]], [&#34;q&#34;, [1]], [&#34;q&#34;, [2]], [&#34;q&#34;, [3]]]}, &#34;id&#34;: &#34;4ab14b7a-747f-41a5-99d5-fa015536dd63&#34;, &#34;type&#34;: &#34;CircBox&#34;}, &#34;type&#34;: &#34;CircBox&#34;}}, {&#34;args&#34;: [[&#34;q&#34;, [0]], [&#34;q&#34;, [1]], [&#34;q&#34;, [2]], [&#34;q&#34;, [3]]], &#34;op&#34;: {&#34;box&#34;: {&#34;circuit&#34;: {&#34;bits&#34;: [], &#34;commands&#34;: [{&#34;args&#34;: [[&#34;q&#34;, [0]]], &#34;op&#34;: {&#34;box&#34;: {&#34;cx_config&#34;: &#34;Tree&#34;, &#34;id&#34;: &#34;6e0766bc-688c-48cc-82bf-f1f4ba373c32&#34;, &#34;paulis&#34;: [&#34;X&#34;], &#34;phase&#34;: &#34;0.212206590789194&#34;, &#34;type&#34;: &#34;PauliExpBox&#34;}, &#34;type&#34;: &#34;PauliExpBox&#34;}}, {&#34;args&#34;: [[&#34;q&#34;, [1]]], &#34;op&#34;: {&#34;box&#34;: {&#34;cx_config&#34;: &#34;Tree&#34;, &#34;id&#34;: &#34;9b2b1159-6f6d-4449-ba3e-f1cafd5abb8e&#34;, &#34;paulis&#34;: [&#34;X&#34;], &#34;phase&#34;: &#34;0.212206590789194&#34;, &#34;type&#34;: &#34;PauliExpBox&#34;}, &#34;type&#34;: &#34;PauliExpBox&#34;}}, {&#34;args&#34;: [[&#34;q&#34;, [2]]], &#34;op&#34;: {&#34;box&#34;: {&#34;cx_config&#34;: &#34;Tree&#34;, &#34;id&#34;: &#34;d283d8ba-4194-47df-9b30-e34fdb89f37e&#34;, &#34;paulis&#34;: [&#34;X&#34;], &#34;phase&#34;: &#34;0.212206590789194&#34;, &#34;type&#34;: &#34;PauliExpBox&#34;}, &#34;type&#34;: &#34;PauliExpBox&#34;}}, {&#34;args&#34;: [[&#34;q&#34;, [3]]], &#34;op&#34;: {&#34;box&#34;: {&#34;cx_config&#34;: &#34;Tree&#34;, &#34;id&#34;: &#34;77d638f3-c6ab-4806-9b2b-3ef772b98a98&#34;, &#34;paulis&#34;: [&#34;X&#34;], &#34;phase&#34;: &#34;0.212206590789194&#34;, &#34;type&#34;: &#34;PauliExpBox&#34;}, &#34;type&#34;: &#34;PauliExpBox&#34;}}], &#34;created_qubits&#34;: [], &#34;discarded_qubits&#34;: [], &#34;implicit_permutation&#34;: [[[&#34;q&#34;, [0]], [&#34;q&#34;, [0]]], [[&#34;q&#34;, [1]], [&#34;q&#34;, [1]]], [[&#34;q&#34;, [2]], [&#34;q&#34;, [2]]], [[&#34;q&#34;, [3]], [&#34;q&#34;, [3]]]], &#34;phase&#34;: &#34;0.0&#34;, &#34;qubits&#34;: [[&#34;q&#34;, [0]], [&#34;q&#34;, [1]], [&#34;q&#34;, [2]], [&#34;q&#34;, [3]]]}, &#34;id&#34;: &#34;5b270dbe-1b01-4b20-9dd2-abb26d00232a&#34;, &#34;type&#34;: &#34;CircBox&#34;}, &#34;type&#34;: &#34;CircBox&#34;}}, {&#34;args&#34;: [[&#34;q&#34;, [0]], [&#34;q&#34;, [1]], [&#34;q&#34;, [2]], [&#34;q&#34;, [3]]], &#34;op&#34;: {&#34;box&#34;: {&#34;circuit&#34;: {&#34;bits&#34;: [], &#34;commands&#34;: [{&#34;args&#34;: [[&#34;q&#34;, [0]], [&#34;q&#34;, [1]]], &#34;op&#34;: {&#34;box&#34;: {&#34;cx_config&#34;: &#34;Tree&#34;, &#34;id&#34;: &#34;d60af25a-d48d-4ed7-8a0a-7a5ed3583c44&#34;, &#34;paulis&#34;: [&#34;Z&#34;, &#34;Z&#34;], &#34;phase&#34;: &#34;-0.254647908947033&#34;, &#34;type&#34;: &#34;PauliExpBox&#34;}, &#34;type&#34;: &#34;PauliExpBox&#34;}}, {&#34;args&#34;: [[&#34;q&#34;, [1]], [&#34;q&#34;, [2]]], &#34;op&#34;: {&#34;box&#34;: {&#34;cx_config&#34;: &#34;Tree&#34;, &#34;id&#34;: &#34;3014aaeb-6458-4196-8bfc-47d17d1904e0&#34;, &#34;paulis&#34;: [&#34;Z&#34;, &#34;Z&#34;], &#34;phase&#34;: &#34;-0.254647908947033&#34;, &#34;type&#34;: &#34;PauliExpBox&#34;}, &#34;type&#34;: &#34;PauliExpBox&#34;}}, {&#34;args&#34;: [[&#34;q&#34;, [2]], [&#34;q&#34;, [3]]], &#34;op&#34;: {&#34;box&#34;: {&#34;cx_config&#34;: &#34;Tree&#34;, &#34;id&#34;: &#34;03335ed7-0334-4ff1-b17a-f6880bfe6746&#34;, &#34;paulis&#34;: [&#34;Z&#34;, &#34;Z&#34;], &#34;phase&#34;: &#34;-0.254647908947033&#34;, &#34;type&#34;: &#34;PauliExpBox&#34;}, &#34;type&#34;: &#34;PauliExpBox&#34;}}], &#34;created_qubits&#34;: [], &#34;discarded_qubits&#34;: [], &#34;implicit_permutation&#34;: [[[&#34;q&#34;, [0]], [&#34;q&#34;, [0]]], [[&#34;q&#34;, [1]], [&#34;q&#34;, [1]]], [[&#34;q&#34;, [2]], [&#34;q&#34;, [2]]], [[&#34;q&#34;, [3]], [&#34;q&#34;, [3]]]], &#34;phase&#34;: &#34;0.0&#34;, &#34;qubits&#34;: [[&#34;q&#34;, [0]], [&#34;q&#34;, [1]], [&#34;q&#34;, [2]], [&#34;q&#34;, [3]]]}, &#34;id&#34;: &#34;9e071553-de92-451f-b5fe-55a092394136&#34;, &#34;type&#34;: &#34;CircBox&#34;}, &#34;type&#34;: &#34;CircBox&#34;}}, {&#34;args&#34;: [[&#34;q&#34;, [0]], [&#34;q&#34;, [1]], [&#34;q&#34;, [2]], [&#34;q&#34;, [3]]], &#34;op&#34;: {&#34;box&#34;: {&#34;circuit&#34;: {&#34;bits&#34;: [], &#34;commands&#34;: [{&#34;args&#34;: [[&#34;q&#34;, [0]]], &#34;op&#34;: {&#34;box&#34;: {&#34;cx_config&#34;: &#34;Tree&#34;, &#34;id&#34;: &#34;5fd8f0d6-ff5d-4af4-852c-8f0d3151aa0f&#34;, &#34;paulis&#34;: [&#34;X&#34;], &#34;phase&#34;: &#34;0.212206590789194&#34;, &#34;type&#34;: &#34;PauliExpBox&#34;}, &#34;type&#34;: &#34;PauliExpBox&#34;}}, {&#34;args&#34;: [[&#34;q&#34;, [1]]], &#34;op&#34;: {&#34;box&#34;: {&#34;cx_config&#34;: &#34;Tree&#34;, &#34;id&#34;: &#34;d3a3145d-72f8-4fbf-82b8-04b0a5e0d3e5&#34;, &#34;paulis&#34;: [&#34;X&#34;], &#34;phase&#34;: &#34;0.212206590789194&#34;, &#34;type&#34;: &#34;PauliExpBox&#34;}, &#34;type&#34;: &#34;PauliExpBox&#34;}}, {&#34;args&#34;: [[&#34;q&#34;, [2]]], &#34;op&#34;: {&#34;box&#34;: {&#34;cx_config&#34;: &#34;Tree&#34;, &#34;id&#34;: &#34;164b5d86-3f46-496f-a408-2554fb336953&#34;, &#34;paulis&#34;: [&#34;X&#34;], &#34;phase&#34;: &#34;0.212206590789194&#34;, &#34;type&#34;: &#34;PauliExpBox&#34;}, &#34;type&#34;: &#34;PauliExpBox&#34;}}, {&#34;args&#34;: [[&#34;q&#34;, [3]]], &#34;op&#34;: {&#34;box&#34;: {&#34;cx_config&#34;: &#34;Tree&#34;, &#34;id&#34;: &#34;47331955-28a9-4c24-bc37-46535a563f7f&#34;, &#34;paulis&#34;: [&#34;X&#34;], &#34;phase&#34;: &#34;0.212206590789194&#34;, &#34;type&#34;: &#34;PauliExpBox&#34;}, &#34;type&#34;: &#34;PauliExpBox&#34;}}], &#34;created_qubits&#34;: [], &#34;discarded_qubits&#34;: [], &#34;implicit_permutation&#34;: [[[&#34;q&#34;, [0]], [&#34;q&#34;, [0]]], [[&#34;q&#34;, [1]], [&#34;q&#34;, [1]]], [[&#34;q&#34;, [2]], [&#34;q&#34;, [2]]], [[&#34;q&#34;, [3]], [&#34;q&#34;, [3]]]], &#34;phase&#34;: &#34;0.0&#34;, &#34;qubits&#34;: [[&#34;q&#34;, [0]], [&#34;q&#34;, [1]], [&#34;q&#34;, [2]], [&#34;q&#34;, [3]]]}, &#34;id&#34;: &#34;c2d603e2-8e32-4deb-ba7b-81dc3d4e69cc&#34;, &#34;type&#34;: &#34;CircBox&#34;}, &#34;type&#34;: &#34;CircBox&#34;}}], &#34;created_qubits&#34;: [], &#34;discarded_qubits&#34;: [], &#34;implicit_permutation&#34;: [[[&#34;q&#34;, [0]], [&#34;q&#34;, [0]]], [[&#34;q&#34;, [1]], [&#34;q&#34;, [1]]], [[&#34;q&#34;, [2]], [&#34;q&#34;, [2]]], [[&#34;q&#34;, [3]], [&#34;q&#34;, [3]]]], &#34;phase&#34;: &#34;0.0&#34;, &#34;qubits&#34;: [[&#34;q&#34;, [0]], [&#34;q&#34;, [1]], [&#34;q&#34;, [2]], [&#34;q&#34;, [3]]]}&lt;/div&gt;\n",
       "        &lt;/div&gt;\n",
       "        &lt;circuit-display-container\n",
       "                :circuit-element-str=&#34;&#39;#circuit-json-to-display&#39;&#34;\n",
       "                :init-render-options=&#34;initRenderOptions&#34;\n",
       "                view-format=&#34;None&#34;\n",
       "        &gt;&lt;/circuit-display-container&gt;\n",
       "    &lt;/div&gt;\n",
       "    &lt;script type=&#34;application/javascript&#34;&gt;\n",
       "      const circuitRendererUid = &#34;14cbcfbd-cc56-49ab-875e-a40c16354abf&#34;;\n",
       "      const displayOptions = JSON.parse(&#39;{&#34;zxStyle&#34;: false, &#34;cropParams&#34;: false}&#39;);\n",
       "\n",
       "      // Script to initialise the circuit renderer app\n",
       "\n",
       "const { createApp } = Vue;\n",
       "const circuitDisplayContainer = window[&#34;pytket-circuit-renderer&#34;].default;\n",
       "// Init variables to be shared between circuit display instances\n",
       "if (typeof window.pytketCircuitDisplays === &#34;undefined&#34;) {\n",
       "    window.pytketCircuitDisplays = {};\n",
       "}\n",
       "// Create the root Vue component\n",
       "const app = createApp({\n",
       "    delimiters: [&#39;[[#&#39;, &#39;#]]&#39;],\n",
       "    components: { circuitDisplayContainer },\n",
       "    data () {\n",
       "      return {\n",
       "        initRenderOptions: displayOptions,\n",
       "      }\n",
       "    }\n",
       "})\n",
       "app.config.unwrapInjectedRef = true;\n",
       "app.mount(&#34;#circuit-display-vue-container-&#34;+circuitRendererUid);\n",
       "window.pytketCircuitDisplays[circuitRendererUid] = app;\n",
       "    &lt;/script&gt;\n",
       "\n",
       "\n",
       "\n",
       "&lt;/body&gt;\n",
       "&lt;/html&gt;\n",
       "\"\n",
       "            width=\"100%\" height=\"100%\"\n",
       "            style=\"border: none; outline: none; overflow: auto\"></iframe>\n",
       "</div>\n",
       "\n"
      ],
      "text/plain": [
       "<IPython.core.display.HTML object>"
      ]
     },
     "metadata": {},
     "output_type": "display_data"
    }
   ],
   "source": [
    "circ = get_ising_circ_FO(n_qubits=4, J=1.2, g=1.0, t=t, N_trotter=3, q=2/np.pi)\n",
    "draw(circ)"
   ]
  },
  {
   "cell_type": "code",
   "execution_count": 19,
   "metadata": {},
   "outputs": [
    {
     "data": {
      "text/html": [
       "\n",
       "\n",
       "\n",
       "\n",
       "\n",
       "\n",
       "<div style=\"resize: vertical; overflow: auto; height: 400px; display: block\">\n",
       "    <iframe srcdoc=\"\n",
       "&lt;!DOCTYPE html&gt;\n",
       "&lt;html lang=&#34;en&#34;&gt;\n",
       "&lt;head&gt;\n",
       "    &lt;meta charset=&#34;UTF-8&#34;&gt;\n",
       "    &lt;!-- Download Vue 3--&gt;\n",
       "&lt;script type=&#34;application/javascript&#34; src=&#34;https://cdn.jsdelivr.net/npm/vue@3&#34;&gt;&lt;/script&gt;\n",
       "&lt;!-- Download Circuit Renderer with styles --&gt;\n",
       "&lt;script type=&#34;application/javascript&#34; src=&#34;https://unpkg.com/pytket-circuit-renderer@0.10/dist/pytket-circuit-renderer.umd.js&#34;&gt;&lt;/script&gt;\n",
       "&lt;link rel=&#34;stylesheet&#34; href=&#34;https://unpkg.com/pytket-circuit-renderer@0.10/dist/pytket-circuit-renderer.css&#34;&gt;\n",
       "&lt;/head&gt;\n",
       "&lt;body&gt;\n",
       "\n",
       "\n",
       "    &lt;div id=&#34;circuit-display-vue-container-bdb7950a-c258-40b8-8a4a-d72ac8bfac06&#34; class=&#34;pytket-circuit-display-container&#34;&gt;\n",
       "        &lt;div style=&#34;display: none&#34;&gt;\n",
       "            &lt;div id=&#34;circuit-json-to-display&#34;&gt;{&#34;bits&#34;: [], &#34;commands&#34;: [{&#34;args&#34;: [[&#34;q&#34;, [0]]], &#34;op&#34;: {&#34;box&#34;: {&#34;id&#34;: &#34;fa7247b0-687b-4b1f-913c-b6861ae14ca2&#34;, &#34;op_map&#34;: [[[], {&#34;params&#34;: [&#34;0.852416382349567&#34;], &#34;type&#34;: &#34;Ry&#34;}]], &#34;type&#34;: &#34;MultiplexedRotationBox&#34;}, &#34;type&#34;: &#34;MultiplexedRotationBox&#34;}}, {&#34;args&#34;: [[&#34;q&#34;, [0]]], &#34;op&#34;: {&#34;box&#34;: {&#34;id&#34;: &#34;9cdfae17-5e35-4f0b-a886-b7ba29d80df0&#34;, &#34;op_map&#34;: [[[], {&#34;params&#34;: [&#34;-0.125&#34;], &#34;type&#34;: &#34;Rz&#34;}]], &#34;type&#34;: &#34;MultiplexedRotationBox&#34;}, &#34;type&#34;: &#34;MultiplexedRotationBox&#34;}}, {&#34;args&#34;: [[&#34;q&#34;, [0]], [&#34;q&#34;, [1]]], &#34;op&#34;: {&#34;box&#34;: {&#34;id&#34;: &#34;6cd6cc5d-ba01-4922-a613-3889ab8468de&#34;, &#34;op_map&#34;: [[[false], {&#34;params&#34;: [&#34;-0.5&#34;], &#34;type&#34;: &#34;Rz&#34;}], [[true], {&#34;params&#34;: [&#34;-0.25&#34;], &#34;type&#34;: &#34;Rz&#34;}]], &#34;type&#34;: &#34;MultiplexedRotationBox&#34;}, &#34;type&#34;: &#34;MultiplexedRotationBox&#34;}}, {&#34;args&#34;: [[&#34;q&#34;, [0]], [&#34;q&#34;, [1]], [&#34;q&#34;, [2]]], &#34;op&#34;: {&#34;box&#34;: {&#34;id&#34;: &#34;f90c2194-b3c9-4eba-81f3-b71a79f44adf&#34;, &#34;op_map&#34;: [[[false, false], {&#34;params&#34;: [&#34;0.5&#34;], &#34;type&#34;: &#34;Ry&#34;}], [[true, false], {&#34;params&#34;: [&#34;0.5&#34;], &#34;type&#34;: &#34;Ry&#34;}]], &#34;type&#34;: &#34;MultiplexedRotationBox&#34;}, &#34;type&#34;: &#34;MultiplexedRotationBox&#34;}}, {&#34;args&#34;: [[&#34;q&#34;, [0]], [&#34;q&#34;, [1]], [&#34;q&#34;, [2]]], &#34;op&#34;: {&#34;box&#34;: {&#34;id&#34;: &#34;2d570541-dd2e-4c31-ad0e-c4ac3afa4c99&#34;, &#34;op_map&#34;: [[[true, false], {&#34;params&#34;: [&#34;0.5&#34;], &#34;type&#34;: &#34;Rz&#34;}]], &#34;type&#34;: &#34;MultiplexedRotationBox&#34;}, &#34;type&#34;: &#34;MultiplexedRotationBox&#34;}}, {&#34;args&#34;: [[&#34;q&#34;, [0]], [&#34;q&#34;, [1]], [&#34;q&#34;, [2]], [&#34;q&#34;, [3]]], &#34;op&#34;: {&#34;box&#34;: {&#34;id&#34;: &#34;28e7ca1d-c3cb-45e1-bd45-ad1f84346f04&#34;, &#34;op_map&#34;: [[[false, false, false], {&#34;params&#34;: [&#34;-1.0&#34;], &#34;type&#34;: &#34;Rz&#34;}], [[false, false, true], {&#34;params&#34;: [&#34;-1.0&#34;], &#34;type&#34;: &#34;Rz&#34;}], [[true, false, true], {&#34;params&#34;: [&#34;1.0&#34;], &#34;type&#34;: &#34;Rz&#34;}]], &#34;type&#34;: &#34;MultiplexedRotationBox&#34;}, &#34;type&#34;: &#34;MultiplexedRotationBox&#34;}}, {&#34;args&#34;: [[&#34;q&#34;, [0]], [&#34;q&#34;, [1]], [&#34;q&#34;, [2]], [&#34;q&#34;, [3]]], &#34;op&#34;: {&#34;box&#34;: {&#34;circuit&#34;: {&#34;bits&#34;: [], &#34;commands&#34;: [{&#34;args&#34;: [[&#34;q&#34;, [0]], [&#34;q&#34;, [1]]], &#34;op&#34;: {&#34;box&#34;: {&#34;cx_config&#34;: &#34;Tree&#34;, &#34;id&#34;: &#34;25abdbea-6bd0-46ff-8a70-935d9507c207&#34;, &#34;paulis&#34;: [&#34;Z&#34;, &#34;Z&#34;], &#34;phase&#34;: &#34;-0.254647908947033&#34;, &#34;type&#34;: &#34;PauliExpBox&#34;}, &#34;type&#34;: &#34;PauliExpBox&#34;}}, {&#34;args&#34;: [[&#34;q&#34;, [1]], [&#34;q&#34;, [2]]], &#34;op&#34;: {&#34;box&#34;: {&#34;cx_config&#34;: &#34;Tree&#34;, &#34;id&#34;: &#34;dc81b625-d489-4027-aba9-59d8437ddf02&#34;, &#34;paulis&#34;: [&#34;Z&#34;, &#34;Z&#34;], &#34;phase&#34;: &#34;-0.254647908947033&#34;, &#34;type&#34;: &#34;PauliExpBox&#34;}, &#34;type&#34;: &#34;PauliExpBox&#34;}}, {&#34;args&#34;: [[&#34;q&#34;, [2]], [&#34;q&#34;, [3]]], &#34;op&#34;: {&#34;box&#34;: {&#34;cx_config&#34;: &#34;Tree&#34;, &#34;id&#34;: &#34;02417849-6159-47b5-8b7b-f4bcb162587a&#34;, &#34;paulis&#34;: [&#34;Z&#34;, &#34;Z&#34;], &#34;phase&#34;: &#34;-0.254647908947033&#34;, &#34;type&#34;: &#34;PauliExpBox&#34;}, &#34;type&#34;: &#34;PauliExpBox&#34;}}], &#34;created_qubits&#34;: [], &#34;discarded_qubits&#34;: [], &#34;implicit_permutation&#34;: [[[&#34;q&#34;, [0]], [&#34;q&#34;, [0]]], [[&#34;q&#34;, [1]], [&#34;q&#34;, [1]]], [[&#34;q&#34;, [2]], [&#34;q&#34;, [2]]], [[&#34;q&#34;, [3]], [&#34;q&#34;, [3]]]], &#34;phase&#34;: &#34;0.0&#34;, &#34;qubits&#34;: [[&#34;q&#34;, [0]], [&#34;q&#34;, [1]], [&#34;q&#34;, [2]], [&#34;q&#34;, [3]]]}, &#34;id&#34;: &#34;a4ccec8e-9b14-4263-b0e6-304920604c78&#34;, &#34;type&#34;: &#34;CircBox&#34;}, &#34;type&#34;: &#34;CircBox&#34;}}, {&#34;args&#34;: [[&#34;q&#34;, [0]], [&#34;q&#34;, [1]], [&#34;q&#34;, [2]], [&#34;q&#34;, [3]]], &#34;op&#34;: {&#34;box&#34;: {&#34;circuit&#34;: {&#34;bits&#34;: [], &#34;commands&#34;: [{&#34;args&#34;: [[&#34;q&#34;, [0]]], &#34;op&#34;: {&#34;box&#34;: {&#34;cx_config&#34;: &#34;Tree&#34;, &#34;id&#34;: &#34;72fbcf61-45ed-4382-b6fd-bf233362b1b4&#34;, &#34;paulis&#34;: [&#34;X&#34;], &#34;phase&#34;: &#34;0.212206590789194&#34;, &#34;type&#34;: &#34;PauliExpBox&#34;}, &#34;type&#34;: &#34;PauliExpBox&#34;}}, {&#34;args&#34;: [[&#34;q&#34;, [1]]], &#34;op&#34;: {&#34;box&#34;: {&#34;cx_config&#34;: &#34;Tree&#34;, &#34;id&#34;: &#34;81c5e090-f4f1-4167-b08a-6f4c0a2eaf16&#34;, &#34;paulis&#34;: [&#34;X&#34;], &#34;phase&#34;: &#34;0.212206590789194&#34;, &#34;type&#34;: &#34;PauliExpBox&#34;}, &#34;type&#34;: &#34;PauliExpBox&#34;}}, {&#34;args&#34;: [[&#34;q&#34;, [2]]], &#34;op&#34;: {&#34;box&#34;: {&#34;cx_config&#34;: &#34;Tree&#34;, &#34;id&#34;: &#34;2775008a-dd22-4eba-839d-96f6879f68db&#34;, &#34;paulis&#34;: [&#34;X&#34;], &#34;phase&#34;: &#34;0.212206590789194&#34;, &#34;type&#34;: &#34;PauliExpBox&#34;}, &#34;type&#34;: &#34;PauliExpBox&#34;}}, {&#34;args&#34;: [[&#34;q&#34;, [3]]], &#34;op&#34;: {&#34;box&#34;: {&#34;cx_config&#34;: &#34;Tree&#34;, &#34;id&#34;: &#34;e70e6892-ca2d-445f-a696-17bd93911f49&#34;, &#34;paulis&#34;: [&#34;X&#34;], &#34;phase&#34;: &#34;0.212206590789194&#34;, &#34;type&#34;: &#34;PauliExpBox&#34;}, &#34;type&#34;: &#34;PauliExpBox&#34;}}], &#34;created_qubits&#34;: [], &#34;discarded_qubits&#34;: [], &#34;implicit_permutation&#34;: [[[&#34;q&#34;, [0]], [&#34;q&#34;, [0]]], [[&#34;q&#34;, [1]], [&#34;q&#34;, [1]]], [[&#34;q&#34;, [2]], [&#34;q&#34;, [2]]], [[&#34;q&#34;, [3]], [&#34;q&#34;, [3]]]], &#34;phase&#34;: &#34;0.0&#34;, &#34;qubits&#34;: [[&#34;q&#34;, [0]], [&#34;q&#34;, [1]], [&#34;q&#34;, [2]], [&#34;q&#34;, [3]]]}, &#34;id&#34;: &#34;26163c96-89b4-4ca8-9010-fbb35d274082&#34;, &#34;type&#34;: &#34;CircBox&#34;}, &#34;type&#34;: &#34;CircBox&#34;}}, {&#34;args&#34;: [[&#34;q&#34;, [0]], [&#34;q&#34;, [1]], [&#34;q&#34;, [2]], [&#34;q&#34;, [3]]], &#34;op&#34;: {&#34;box&#34;: {&#34;circuit&#34;: {&#34;bits&#34;: [], &#34;commands&#34;: [{&#34;args&#34;: [[&#34;q&#34;, [0]], [&#34;q&#34;, [1]]], &#34;op&#34;: {&#34;box&#34;: {&#34;cx_config&#34;: &#34;Tree&#34;, &#34;id&#34;: &#34;d02cdb84-a160-495f-950b-5a0212babfb4&#34;, &#34;paulis&#34;: [&#34;Z&#34;, &#34;Z&#34;], &#34;phase&#34;: &#34;-0.254647908947033&#34;, &#34;type&#34;: &#34;PauliExpBox&#34;}, &#34;type&#34;: &#34;PauliExpBox&#34;}}, {&#34;args&#34;: [[&#34;q&#34;, [1]], [&#34;q&#34;, [2]]], &#34;op&#34;: {&#34;box&#34;: {&#34;cx_config&#34;: &#34;Tree&#34;, &#34;id&#34;: &#34;311c1113-e6a9-4eb3-904b-b9d27215e89f&#34;, &#34;paulis&#34;: [&#34;Z&#34;, &#34;Z&#34;], &#34;phase&#34;: &#34;-0.254647908947033&#34;, &#34;type&#34;: &#34;PauliExpBox&#34;}, &#34;type&#34;: &#34;PauliExpBox&#34;}}, {&#34;args&#34;: [[&#34;q&#34;, [2]], [&#34;q&#34;, [3]]], &#34;op&#34;: {&#34;box&#34;: {&#34;cx_config&#34;: &#34;Tree&#34;, &#34;id&#34;: &#34;5a12e1f6-0955-4f64-b37d-418bb89807de&#34;, &#34;paulis&#34;: [&#34;Z&#34;, &#34;Z&#34;], &#34;phase&#34;: &#34;-0.254647908947033&#34;, &#34;type&#34;: &#34;PauliExpBox&#34;}, &#34;type&#34;: &#34;PauliExpBox&#34;}}], &#34;created_qubits&#34;: [], &#34;discarded_qubits&#34;: [], &#34;implicit_permutation&#34;: [[[&#34;q&#34;, [0]], [&#34;q&#34;, [0]]], [[&#34;q&#34;, [1]], [&#34;q&#34;, [1]]], [[&#34;q&#34;, [2]], [&#34;q&#34;, [2]]], [[&#34;q&#34;, [3]], [&#34;q&#34;, [3]]]], &#34;phase&#34;: &#34;0.0&#34;, &#34;qubits&#34;: [[&#34;q&#34;, [0]], [&#34;q&#34;, [1]], [&#34;q&#34;, [2]], [&#34;q&#34;, [3]]]}, &#34;id&#34;: &#34;4ab14b7a-747f-41a5-99d5-fa015536dd63&#34;, &#34;type&#34;: &#34;CircBox&#34;}, &#34;type&#34;: &#34;CircBox&#34;}}, {&#34;args&#34;: [[&#34;q&#34;, [0]], [&#34;q&#34;, [1]], [&#34;q&#34;, [2]], [&#34;q&#34;, [3]]], &#34;op&#34;: {&#34;box&#34;: {&#34;circuit&#34;: {&#34;bits&#34;: [], &#34;commands&#34;: [{&#34;args&#34;: [[&#34;q&#34;, [0]]], &#34;op&#34;: {&#34;box&#34;: {&#34;cx_config&#34;: &#34;Tree&#34;, &#34;id&#34;: &#34;6e0766bc-688c-48cc-82bf-f1f4ba373c32&#34;, &#34;paulis&#34;: [&#34;X&#34;], &#34;phase&#34;: &#34;0.212206590789194&#34;, &#34;type&#34;: &#34;PauliExpBox&#34;}, &#34;type&#34;: &#34;PauliExpBox&#34;}}, {&#34;args&#34;: [[&#34;q&#34;, [1]]], &#34;op&#34;: {&#34;box&#34;: {&#34;cx_config&#34;: &#34;Tree&#34;, &#34;id&#34;: &#34;9b2b1159-6f6d-4449-ba3e-f1cafd5abb8e&#34;, &#34;paulis&#34;: [&#34;X&#34;], &#34;phase&#34;: &#34;0.212206590789194&#34;, &#34;type&#34;: &#34;PauliExpBox&#34;}, &#34;type&#34;: &#34;PauliExpBox&#34;}}, {&#34;args&#34;: [[&#34;q&#34;, [2]]], &#34;op&#34;: {&#34;box&#34;: {&#34;cx_config&#34;: &#34;Tree&#34;, &#34;id&#34;: &#34;d283d8ba-4194-47df-9b30-e34fdb89f37e&#34;, &#34;paulis&#34;: [&#34;X&#34;], &#34;phase&#34;: &#34;0.212206590789194&#34;, &#34;type&#34;: &#34;PauliExpBox&#34;}, &#34;type&#34;: &#34;PauliExpBox&#34;}}, {&#34;args&#34;: [[&#34;q&#34;, [3]]], &#34;op&#34;: {&#34;box&#34;: {&#34;cx_config&#34;: &#34;Tree&#34;, &#34;id&#34;: &#34;77d638f3-c6ab-4806-9b2b-3ef772b98a98&#34;, &#34;paulis&#34;: [&#34;X&#34;], &#34;phase&#34;: &#34;0.212206590789194&#34;, &#34;type&#34;: &#34;PauliExpBox&#34;}, &#34;type&#34;: &#34;PauliExpBox&#34;}}], &#34;created_qubits&#34;: [], &#34;discarded_qubits&#34;: [], &#34;implicit_permutation&#34;: [[[&#34;q&#34;, [0]], [&#34;q&#34;, [0]]], [[&#34;q&#34;, [1]], [&#34;q&#34;, [1]]], [[&#34;q&#34;, [2]], [&#34;q&#34;, [2]]], [[&#34;q&#34;, [3]], [&#34;q&#34;, [3]]]], &#34;phase&#34;: &#34;0.0&#34;, &#34;qubits&#34;: [[&#34;q&#34;, [0]], [&#34;q&#34;, [1]], [&#34;q&#34;, [2]], [&#34;q&#34;, [3]]]}, &#34;id&#34;: &#34;5b270dbe-1b01-4b20-9dd2-abb26d00232a&#34;, &#34;type&#34;: &#34;CircBox&#34;}, &#34;type&#34;: &#34;CircBox&#34;}}, {&#34;args&#34;: [[&#34;q&#34;, [0]], [&#34;q&#34;, [1]], [&#34;q&#34;, [2]], [&#34;q&#34;, [3]]], &#34;op&#34;: {&#34;box&#34;: {&#34;circuit&#34;: {&#34;bits&#34;: [], &#34;commands&#34;: [{&#34;args&#34;: [[&#34;q&#34;, [0]], [&#34;q&#34;, [1]]], &#34;op&#34;: {&#34;box&#34;: {&#34;cx_config&#34;: &#34;Tree&#34;, &#34;id&#34;: &#34;d60af25a-d48d-4ed7-8a0a-7a5ed3583c44&#34;, &#34;paulis&#34;: [&#34;Z&#34;, &#34;Z&#34;], &#34;phase&#34;: &#34;-0.254647908947033&#34;, &#34;type&#34;: &#34;PauliExpBox&#34;}, &#34;type&#34;: &#34;PauliExpBox&#34;}}, {&#34;args&#34;: [[&#34;q&#34;, [1]], [&#34;q&#34;, [2]]], &#34;op&#34;: {&#34;box&#34;: {&#34;cx_config&#34;: &#34;Tree&#34;, &#34;id&#34;: &#34;3014aaeb-6458-4196-8bfc-47d17d1904e0&#34;, &#34;paulis&#34;: [&#34;Z&#34;, &#34;Z&#34;], &#34;phase&#34;: &#34;-0.254647908947033&#34;, &#34;type&#34;: &#34;PauliExpBox&#34;}, &#34;type&#34;: &#34;PauliExpBox&#34;}}, {&#34;args&#34;: [[&#34;q&#34;, [2]], [&#34;q&#34;, [3]]], &#34;op&#34;: {&#34;box&#34;: {&#34;cx_config&#34;: &#34;Tree&#34;, &#34;id&#34;: &#34;03335ed7-0334-4ff1-b17a-f6880bfe6746&#34;, &#34;paulis&#34;: [&#34;Z&#34;, &#34;Z&#34;], &#34;phase&#34;: &#34;-0.254647908947033&#34;, &#34;type&#34;: &#34;PauliExpBox&#34;}, &#34;type&#34;: &#34;PauliExpBox&#34;}}], &#34;created_qubits&#34;: [], &#34;discarded_qubits&#34;: [], &#34;implicit_permutation&#34;: [[[&#34;q&#34;, [0]], [&#34;q&#34;, [0]]], [[&#34;q&#34;, [1]], [&#34;q&#34;, [1]]], [[&#34;q&#34;, [2]], [&#34;q&#34;, [2]]], [[&#34;q&#34;, [3]], [&#34;q&#34;, [3]]]], &#34;phase&#34;: &#34;0.0&#34;, &#34;qubits&#34;: [[&#34;q&#34;, [0]], [&#34;q&#34;, [1]], [&#34;q&#34;, [2]], [&#34;q&#34;, [3]]]}, &#34;id&#34;: &#34;9e071553-de92-451f-b5fe-55a092394136&#34;, &#34;type&#34;: &#34;CircBox&#34;}, &#34;type&#34;: &#34;CircBox&#34;}}, {&#34;args&#34;: [[&#34;q&#34;, [0]], [&#34;q&#34;, [1]], [&#34;q&#34;, [2]], [&#34;q&#34;, [3]]], &#34;op&#34;: {&#34;box&#34;: {&#34;circuit&#34;: {&#34;bits&#34;: [], &#34;commands&#34;: [{&#34;args&#34;: [[&#34;q&#34;, [0]]], &#34;op&#34;: {&#34;box&#34;: {&#34;cx_config&#34;: &#34;Tree&#34;, &#34;id&#34;: &#34;5fd8f0d6-ff5d-4af4-852c-8f0d3151aa0f&#34;, &#34;paulis&#34;: [&#34;X&#34;], &#34;phase&#34;: &#34;0.212206590789194&#34;, &#34;type&#34;: &#34;PauliExpBox&#34;}, &#34;type&#34;: &#34;PauliExpBox&#34;}}, {&#34;args&#34;: [[&#34;q&#34;, [1]]], &#34;op&#34;: {&#34;box&#34;: {&#34;cx_config&#34;: &#34;Tree&#34;, &#34;id&#34;: &#34;d3a3145d-72f8-4fbf-82b8-04b0a5e0d3e5&#34;, &#34;paulis&#34;: [&#34;X&#34;], &#34;phase&#34;: &#34;0.212206590789194&#34;, &#34;type&#34;: &#34;PauliExpBox&#34;}, &#34;type&#34;: &#34;PauliExpBox&#34;}}, {&#34;args&#34;: [[&#34;q&#34;, [2]]], &#34;op&#34;: {&#34;box&#34;: {&#34;cx_config&#34;: &#34;Tree&#34;, &#34;id&#34;: &#34;164b5d86-3f46-496f-a408-2554fb336953&#34;, &#34;paulis&#34;: [&#34;X&#34;], &#34;phase&#34;: &#34;0.212206590789194&#34;, &#34;type&#34;: &#34;PauliExpBox&#34;}, &#34;type&#34;: &#34;PauliExpBox&#34;}}, {&#34;args&#34;: [[&#34;q&#34;, [3]]], &#34;op&#34;: {&#34;box&#34;: {&#34;cx_config&#34;: &#34;Tree&#34;, &#34;id&#34;: &#34;47331955-28a9-4c24-bc37-46535a563f7f&#34;, &#34;paulis&#34;: [&#34;X&#34;], &#34;phase&#34;: &#34;0.212206590789194&#34;, &#34;type&#34;: &#34;PauliExpBox&#34;}, &#34;type&#34;: &#34;PauliExpBox&#34;}}], &#34;created_qubits&#34;: [], &#34;discarded_qubits&#34;: [], &#34;implicit_permutation&#34;: [[[&#34;q&#34;, [0]], [&#34;q&#34;, [0]]], [[&#34;q&#34;, [1]], [&#34;q&#34;, [1]]], [[&#34;q&#34;, [2]], [&#34;q&#34;, [2]]], [[&#34;q&#34;, [3]], [&#34;q&#34;, [3]]]], &#34;phase&#34;: &#34;0.0&#34;, &#34;qubits&#34;: [[&#34;q&#34;, [0]], [&#34;q&#34;, [1]], [&#34;q&#34;, [2]], [&#34;q&#34;, [3]]]}, &#34;id&#34;: &#34;c2d603e2-8e32-4deb-ba7b-81dc3d4e69cc&#34;, &#34;type&#34;: &#34;CircBox&#34;}, &#34;type&#34;: &#34;CircBox&#34;}}], &#34;created_qubits&#34;: [], &#34;discarded_qubits&#34;: [], &#34;implicit_permutation&#34;: [[[&#34;q&#34;, [0]], [&#34;q&#34;, [0]]], [[&#34;q&#34;, [1]], [&#34;q&#34;, [1]]], [[&#34;q&#34;, [2]], [&#34;q&#34;, [2]]], [[&#34;q&#34;, [3]], [&#34;q&#34;, [3]]]], &#34;phase&#34;: &#34;0.1875&#34;, &#34;qubits&#34;: [[&#34;q&#34;, [0]], [&#34;q&#34;, [1]], [&#34;q&#34;, [2]], [&#34;q&#34;, [3]]]}&lt;/div&gt;\n",
       "        &lt;/div&gt;\n",
       "        &lt;circuit-display-container\n",
       "                :circuit-element-str=&#34;&#39;#circuit-json-to-display&#39;&#34;\n",
       "                :init-render-options=&#34;initRenderOptions&#34;\n",
       "                view-format=&#34;None&#34;\n",
       "        &gt;&lt;/circuit-display-container&gt;\n",
       "    &lt;/div&gt;\n",
       "    &lt;script type=&#34;application/javascript&#34;&gt;\n",
       "      const circuitRendererUid = &#34;bdb7950a-c258-40b8-8a4a-d72ac8bfac06&#34;;\n",
       "      const displayOptions = JSON.parse(&#39;{&#34;zxStyle&#34;: false, &#34;cropParams&#34;: false}&#39;);\n",
       "\n",
       "      // Script to initialise the circuit renderer app\n",
       "\n",
       "const { createApp } = Vue;\n",
       "const circuitDisplayContainer = window[&#34;pytket-circuit-renderer&#34;].default;\n",
       "// Init variables to be shared between circuit display instances\n",
       "if (typeof window.pytketCircuitDisplays === &#34;undefined&#34;) {\n",
       "    window.pytketCircuitDisplays = {};\n",
       "}\n",
       "// Create the root Vue component\n",
       "const app = createApp({\n",
       "    delimiters: [&#39;[[#&#39;, &#39;#]]&#39;],\n",
       "    components: { circuitDisplayContainer },\n",
       "    data () {\n",
       "      return {\n",
       "        initRenderOptions: displayOptions,\n",
       "      }\n",
       "    }\n",
       "})\n",
       "app.config.unwrapInjectedRef = true;\n",
       "app.mount(&#34;#circuit-display-vue-container-&#34;+circuitRendererUid);\n",
       "window.pytketCircuitDisplays[circuitRendererUid] = app;\n",
       "    &lt;/script&gt;\n",
       "\n",
       "\n",
       "\n",
       "&lt;/body&gt;\n",
       "&lt;/html&gt;\n",
       "\"\n",
       "            width=\"100%\" height=\"100%\"\n",
       "            style=\"border: none; outline: none; overflow: auto\"></iframe>\n",
       "</div>\n",
       "\n"
      ],
      "text/plain": [
       "<IPython.core.display.HTML object>"
      ]
     },
     "metadata": {},
     "output_type": "display_data"
    }
   ],
   "source": [
    "final_circuit = state.get_circuit()\n",
    "qubits = final_circuit.qubits\n",
    "final_circuit.add_circuit(circ, qubits)\n",
    "draw(final_circuit)"
   ]
  },
  {
   "cell_type": "markdown",
   "metadata": {},
   "source": [
    "### Task 5: Time evolution of the Ising model\n",
    "\n",
    "You can explore the above tasks for the Ising model instead of the XXZ model. Since the Ising model suffers Trotterization error, you might find that this model conserves energy less accurate as the XXZ model."
   ]
  },
  {
   "cell_type": "code",
   "execution_count": null,
   "metadata": {},
   "outputs": [],
   "source": []
  },
  {
   "cell_type": "code",
   "execution_count": null,
   "metadata": {},
   "outputs": [],
   "source": []
  },
  {
   "cell_type": "code",
   "execution_count": null,
   "metadata": {},
   "outputs": [],
   "source": []
  }
 ],
 "metadata": {
  "kernelspec": {
   "display_name": "Python [conda env:base] *",
   "language": "python",
   "name": "conda-base-py"
  },
  "language_info": {
   "codemirror_mode": {
    "name": "ipython",
    "version": 3
   },
   "file_extension": ".py",
   "mimetype": "text/x-python",
   "name": "python",
   "nbconvert_exporter": "python",
   "pygments_lexer": "ipython3",
   "version": "3.10.11"
  }
 },
 "nbformat": 4,
 "nbformat_minor": 4
}
