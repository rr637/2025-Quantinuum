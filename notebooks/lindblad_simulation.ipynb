{
 "cells": [
  {
   "cell_type": "markdown",
   "metadata": {},
   "source": [
    "# Lindblad simulation notebook\n",
    "\n",
    "Useful literature:\n",
    "\n",
    "- [1] T. Prosen, \"Exact nonequilibrium steady state of a strongly driven open XXZ chain\", arXiv:1106.2978, https://arxiv.org/abs/1106.2978 (2011)\n",
    "- [2] R. Cleve, C. Wang, \"Efficient Quantum Algorithms for Simulating Lindblad Evolution\", arXiv:1612.09512, https://arxiv.org/abs/1612.09512 (2016)\n",
    "- [3] H. Chen et al., \"A Randomized Method for Simulating Lindblad Equations and Thermal State Preparation\", arXiv:2407.06594v2, https://arxiv.org/abs/2407.06594v2 (2024)\n",
    "- [4] Z. Ding et al. \"Simulating Open Quantum Systems Using Hamiltonian Simulations\", arXiv:2311.15533, https://arxiv.org/abs/2311.15533 (2023)\n",
    "- [5] Brunner et al. \"Lindblad engineering for quantum Gibbs state preparation under the eigenstate thermalization hypothesis\", arXiv:2412.17706, https://arxiv.org/abs/2412.17706 (2024)\n",
    "- [6] T. Prosen, I. Pizorn, \"Quantum phase transition in a far from equilibrium steady state of XY spin chain\", arXiv:0805.2878, https://arxiv.org/abs/0805.2878 (2008)\n",
    "- [7] J. Jin et al., \"Cluster mean-field approach to the steady-state phase diagram of dissipative spin systems\", arXiv:1602.06553, https://arxiv.org/abs/1602.06553 (2016)\n",
    "\n",
    "This is the Lindblad part of the iquhack25 Quantinuum challenge. The aim is to implement the dynamics of a dissipative quantum system (i.e. an open system coupled to an environment), which is described by a Lindbladian $\\mathcal{L}$. In comparison to this, a quantum systems is described by a Hamiltonian $H$, as we saw in the notebook `notebooks/hamiltonian_simulation.ipynb`. \n",
    "\n",
    "As an example we consider the system studied in [1]. The system is a XXZ Heisenberg spin chain, coupled to an environment at the edges of the chain."
   ]
  },
  {
   "cell_type": "code",
   "execution_count": 1,
   "metadata": {},
   "outputs": [],
   "source": [
    "# configure some visualisations\n",
    "\n",
    "from pytket.circuit.display import get_circuit_renderer, render_circuit_jupyter\n",
    "\n",
    "circuit_renderer = get_circuit_renderer()\n",
    "\n",
    "circuit_renderer.set_render_options(zx_style=False)\n",
    "circuit_renderer.set_render_options(crop_params=False)\n",
    "circuit_renderer.save_render_options()"
   ]
  },
  {
   "cell_type": "markdown",
   "metadata": {},
   "source": [
    "## Background"
   ]
  },
  {
   "cell_type": "markdown",
   "metadata": {},
   "source": [
    "The Lindbladian is a \"supoeroperator\", acting on a quantum state $\\rho$ by\n",
    "$$\n",
    "\\mathcal{L}[\\rho]\n",
    "= -i [H, \\rho] + \\mathcal{D} [\\rho]\n",
    "= -i [H, \\rho] + \\sum_{i = 1}^S \\mathcal{D}_i [\\rho] \\,,\n",
    "\\quad \\text{with} \\quad\n",
    "\\mathcal{D}_i [\\rho] = L_i \\rho L_i^\\dagger - \\frac{1}{2} \\lbrace L_i^\\dagger L_i, \\rho \\rbrace \\,,\n",
    "$$\n",
    "where $S$ is the number of jump operators.\n",
    "The first term is the coherent part, describing coherent (unitary) evolution under the system Hamiltonian, the second part is the dissipative part describing the interaction of the system with the environment.\n",
    "The Lindbladian $\\mathcal{L}$ generates a Lindbladian (or dissipative) time evolution given by\n",
    "$$\n",
    "\\rho(t) = e^{t \\mathcal{L}} [\\rho(0)] \\,,\n",
    "$$\n",
    "where $\\rho(0)$ is the initial state.\n",
    "\n",
    "The notation $\\rho$ instead of $\\ket{\\psi}$ indicates that we are working with mixed quantum states now, which is slightly more general. You don't need to know what mixed states are for this challenge. For now just assume we use a different symbol than $\\ket{\\psi}$ for the quantum state in this notebook. Explicit circuit pictures are given below.\n",
    "\n",
    "The time evolution under the Lindbladian $\\mathcal{L}$ is implemented (similar to Trotterization) by means of a product formula, factorizing the coherent and dissipative parts.\n",
    "Let $T$ be the target evolution time. We disretize the time interval $[0,T]$ into $M \\in \\mathbb{N}$ equidistant time steps of size $\\Delta t = T / M$.\n",
    "The time evolution up to time $T = M \\Delta t$ is approximated by\n",
    "\\begin{equation}\n",
    "e^{M\\Delta t \\mathcal{L}} [\\rho]\n",
    "= \\left( \\prod_{i = 1}^M e^{\\Delta t \\mathcal{D}} \\circ \\mathcal{U}_{\\Delta t} \\right) [\\rho] \n",
    "\\,,\n",
    "\\quad \\text{with} \\quad\n",
    "\\mathcal{U}_{\\Delta t} [\\rho] = e^{-i\\Delta t H} \\rho e^{i\\Delta t H} \\,,\n",
    "\\end{equation}\n",
    "i.e. we factorize the coherent and dissipative parts. In each time step, we concatenate coherent evolution for $\\Delta t$ with the dissipative evolution for time $\\Delta t$.\n",
    "\n",
    "A mixed state $\\rho$ is a matrix representation of the quantum state, in contrast to $\\ket{\\psi}$ which is a vector representation of a quantum state. Therefore, $\\rho$ is also called density matrix, and time evolution acts on it by acting with the time evolution operator on both sides as in the formula above. This does not change the quantum circuit that we have to implement. Explicit quantum circuit pictures are given below."
   ]
  },
  {
   "cell_type": "markdown",
   "metadata": {},
   "source": [
    "### The dissipative XXZ Heisenberg model\n",
    "\n",
    "We consider the model proposed in [1]. The Hamiltonian of the dissipative system is given by the XXZ Heisenberg model, which we already know from the other notebook `notebooks/hamiltonian_simulation.ipynb`. It is given by\n",
    "$$\n",
    "H_{XXZ} = \\sum_{j = 1}^{N-1} 2 \\sigma_+^{(j)} \\sigma_-^{(j+1)} + 2 \\sigma_-^{(j)} \\sigma_+^{(j+1)} + \\Delta \\sigma_z^{(j)} \\sigma_z^{(j+1)} \\,.\n",
    "$$\n",
    "Here $\\sigma_{\\pm} = \\frac{1}{2}(X \\pm i Y)$ and, as before $A^{(k)} = I \\otimes \\cdots \\otimes I \\otimes A \\otimes I \\otimes \\cdots \\otimes I$, where $A \\in \\lbrace X, Y, Z, \\sigma_+, \\sigma_- \\rbrace$ is inserted on the $k$-th position, i.e. it is acting on the $k$-th qubits. Identities $I$ mean that no operations are performed on those qubits.\n",
    "\n",
    "The first two terms describe hopping of a spin between neighboring sites, the third term, quantified by $\\Delta$, describes the repulsive interaction of two adjacent spins.\n",
    "\n",
    "We can recast this Hamiltonian into\n",
    "$$\n",
    "H_{XXZ} = \\sum_{j = 1}^{N-1} 2 \\sigma_+^{(j)} \\sigma_-^{(j+1)} + 2 \\sigma_-^{(j)} \\sigma_+^{(j+1)} + \\Delta \\sigma_z^{(j)} \\sigma_z^{(j+1)}\n",
    "= \\sum_{j = 1}^{N-1} X^{(j)} X^{(j+1)} + Y^{(j)} Y^{(j+1)} + \\Delta Z^{(j)} Z^{(j+1)} \\,,\n",
    "$$\n",
    "which is the form of the XXZ Heisenberg model which we already used in `notebooks/hamiltonian_simulation.ipynb`.\n",
    "\n",
    "\n",
    "The dissipative character of the system is modelled by the jump operators. In this case we only have two of them, one on each side of the chain.\n",
    "They are given by $L_1 = \\sqrt{2\\epsilon} \\sigma^{(1)}_+$ and $L_2 = \\sqrt{2\\epsilon} \\sigma^{(N)}_-$.\n",
    "The jump operator $L_1$ models qubit excitations that are injected from the environment into the spin chain from the left. The operator $L_2$ describes how those excitations are transmitted from the right end of the chain back into the environment. One task of this challenge is to reproduce the spin profile given in Fig. 2 of [1], showing the expected spin excitation imbalance from left to right."
   ]
  },
  {
   "cell_type": "markdown",
   "metadata": {},
   "source": [
    "Below we give a detailed description of the Lindblad simulation algorithm, which is based out of two parts that are applied sequentially: (i) The coherent time evolution we already studied in `notebooks/hamiltonian_simulation.ipynb`, and (ii) the dissipative part, which is new. If you want read more on this, and how it is applied in different situations, see e.g. Fig. 1 in [4], Sec. IV and App. B in [5], or relevant parts of [2,3]. This literature is, however, not necessary for the tasks below."
   ]
  },
  {
   "cell_type": "markdown",
   "metadata": {},
   "source": [
    "### Implementation of the coherent part\n",
    "\n",
    "Let us start with the coherent part $\\mathcal{U}_{\\Delta t}$ of the Lindbladian. The first term of the Lindbladian $-i[H, \\rho]$ generates the unitary evolution of the system under the evolution operator $\\mathcal{U}_{\\Delta t} [\\rho] = e^{-i\\Delta t H} \\rho e^{i\\Delta t H}$. This part can be implemented via Trotterisation, which we studied in the notebook `notebooks/hamiltonian_simulation.ipynb`.\n"
   ]
  },
  {
   "cell_type": "markdown",
   "metadata": {},
   "source": [
    "### Implementation of the dissipative part\n",
    "\n",
    "The dissipative part is implemented via a so-called dilation of the jump operators, which requires an additional ancilla qubits which will be traced out later.\n",
    "The dilation of the jump operator $L_i$ for our system, as proposed in [1], is given by\n",
    "$$\n",
    "K_i \n",
    "= \\ket{1}\\bra{0}_\\mathrm{anc} \\otimes L_i + \\ket{0}\\bra{1}_\\mathrm{anc} \\otimes L_i^\\dagger \n",
    "= X_\\mathrm{anc} \\otimes \\frac{L_i + L_i^\\dagger}{2} - i Y_\\mathrm{anc} \\otimes \\frac{L_i - L_i^\\dagger}{2} \\,.\n",
    "$$\n",
    "\n",
    "\n",
    "We wish to generate the Lindblad simulation circuit. One step for this is building the dilation operator, which is a Hermitian operator. This can be simulated with Hamiltonian simulation via Trotterization.\n",
    "\n",
    "Let's consider our jump operators. We have $L_1 + L_1^\\dagger = \\sqrt{2\\epsilon} X^{(1)}$ and $L_1 - L_1^\\dagger = i \\sqrt{2\\epsilon} Y^{(1)}$. For the second jump operator we have $L_2 + L_2^\\dagger = \\sqrt{2\\epsilon} X^{(N)}$ and $L_2 - L_2^\\dagger = -i\\sqrt{2\\epsilon} Y^{(N)}$. Therefore, in our case the dilation is given by\n",
    "$$\n",
    "\\begin{split}\n",
    "K_1 \n",
    "&= X^\\mathrm{(anc)}  \\frac{\\sqrt{2\\epsilon}}{2} X^{(1)} - i Y^\\mathrm{(anc)}  i \\frac{\\sqrt{2\\epsilon}}{2} Y^{(1)}\n",
    "= \\frac{\\sqrt{2\\epsilon}}{2} X^\\mathrm{(anc)}  X^{(1)} + \\frac{\\sqrt{2\\epsilon}}{2} Y^\\mathrm{(anc)}  Y^{(1)} \n",
    "= K_1^1 + K_1^2 \\\\\n",
    "K_2\n",
    "&= X^\\mathrm{(anc)}  \\frac{\\sqrt{2\\epsilon}}{2} X^{(N)} - i Y^\\mathrm{(anc)}  (-1) i \\frac{\\sqrt{2\\epsilon}}{2} Y^{(N)}\n",
    "= \\frac{\\sqrt{2\\epsilon}}{2} X^\\mathrm{(anc)}  X^{(N)} - \\frac{\\sqrt{2\\epsilon}}{2} Y^\\mathrm{(anc)}  Y^{(N)}\n",
    "= K_2^1 + K_2^2 \\,.\n",
    "\\end{split}\n",
    "$$"
   ]
  },
  {
   "cell_type": "markdown",
   "metadata": {},
   "source": [
    "##### Deterministic protocol:\n",
    "\n",
    "To implement the dissipative part of the dynamics, we need to perform Hamiltonian simulation of the dilation operators $K_i$. After one step of time evolution, we have to trace out the ancilla qubit and reset it, to ensure that our circuit performs the targeted dynamical step.\n",
    "\n",
    "This is accomplished by the following:\n",
    "$$\n",
    "\\begin{split}\n",
    "    &\\mathrm{tr}_{\\rm anc_1 anc_2} \\big[ \n",
    "        e^{-i\\sqrt{ \\Delta t} K_1} e^{-i\\sqrt{ \\Delta t} K_{2}} \n",
    "        (\\ket{0}\\bra{0}_{\\rm anc_1} \\otimes\\dots\\otimes \\ket{0}\\bra{0}_{\\rm anc_2} \\otimes \\rho) \n",
    "        e^{i\\sqrt{ \\Delta t} K_1} e^{i\\sqrt{ \\Delta t} K_{2}} \n",
    "    \\big] \n",
    "    \\\\\n",
    "    &= \n",
    "    e^{\\Delta t \\mathcal{D}}[\\rho] + {\\cal O}( \\Delta t^2) \\,.\n",
    "\\end{split}\n",
    "$$\n",
    "\n",
    "which can be visualized by the circuit\n",
    "\n",
    "<img src=\"../circuit_pictures/deterministic_protocol.png\" alt=\"drawing\" width=\"500\"/>\n",
    "\n",
    "\n",
    "\n",
    "This implementation results in an error, similar to the second order Trotterization error which we studied in `notebooks/hamiltonian_simulation.ipynb`, of order $\\Delta t^2$."
   ]
  },
  {
   "cell_type": "markdown",
   "metadata": {},
   "source": [
    "##### Randomized single-ancilla protocol (alternative approach):\n",
    "\n",
    "The above protocol can be randomized. That means that in each time step, we select on of the jump operators at random, and only apply the corresponding dilated operator.\n",
    "This means, that we approximate the time evolution up to time $T = M \\Delta t$ by\n",
    "\\begin{equation}\n",
    "e^{M\\Delta t \\mathcal{L}} [\\rho]\n",
    "= \\left( \\prod_{i = 1}^M e^{\\Delta t \\mathcal{D}} \\circ \\mathcal{U}_{\\Delta t} \\right) [\\rho] \n",
    "= \\left( \\prod_{i = 1}^M e^{S \\Delta t \\mathcal{D}_{a_i}} \\circ \\mathcal{U}_{\\Delta t} \\right) [\\rho] \n",
    "\\,,\n",
    "\\quad \\text{with} \\quad\n",
    "\\mathcal{U}_{\\Delta t} [\\rho] = e^{-i\\Delta t H} \\rho e^{i\\Delta t H} \\,,\n",
    "\\end{equation}\n",
    "where in each time step $i$ we randomly select one of the jump operators $L_{a_i}$ and apply the corresponding single-jump dissipator $\\mathcal{D}_{a_i}$. Note the number of jump operators $S$ appearing in the exponent $e^{S \\Delta t \\mathcal{D}_{a_i}}$.\n",
    "\n",
    "With this approach we only need a single ancilla qubit, and each time step is implemented with a shallower circuit as in the deterministic approach. This comes at the cost of inducing an additional error through randomization. This error needs to be controlled by running several \"random runs\" of the algorithm, and averaging the results.\n",
    "Based on the dilation, the evolution under the dissipator $\\mathcal{D}_i$ is approximately implemented via\n",
    "$$\n",
    "\\mathrm{tr}_\\mathrm{anc} \\left[ e^{ -i \\sqrt{S \\Delta t}K_i} \\left( \\ket{0}\\bra{0}_\\mathrm{anc} \\otimes \\rho \\right) e^{ i \\sqrt{S \\Delta t}K_i} \\right]\n",
    "= e^{S \\Delta t \\mathcal{D}_{a_i}} [\\rho] + \\mathcal{O}(\\Delta t^2) \\,,\n",
    "$$\n",
    "which induce an error of order $\\Delta t^2$.\n",
    "\n",
    "<img src=\"../circuit_pictures/randomized_protocol.png\" alt=\"drawing\" width=\"500\"/>\n"
   ]
  },
  {
   "cell_type": "markdown",
   "metadata": {},
   "source": [
    "Hint: In the following we suggest to first start with the deterministic protocol, but you can also explore the randomized version of the algorithm as an alternative."
   ]
  },
  {
   "cell_type": "code",
   "execution_count": null,
   "metadata": {},
   "outputs": [],
   "source": []
  },
  {
   "cell_type": "markdown",
   "metadata": {},
   "source": [
    "## Circuit implementation"
   ]
  },
  {
   "cell_type": "markdown",
   "metadata": {},
   "source": [
    "### Task 1: Construct Hamiltonian and Hamiltonian simulation circuit\n",
    "\n",
    "As in `notebooks/hamiltonian_simulation.ipynb`, we give the implementation of the Hamiltonian as QubitPauliOperator. Construct the corresponding Hamiltonian simulation circuit (if you have not already done this in the first part of the challenge).\n",
    "\n",
    "Note that the Hamiltonian can be reformulated into\n",
    "$$\n",
    "H_{XXZ} = \\sum_{j = 1}^{N-1} 2 \\sigma_+^{(j)} \\sigma_-^{(j+1)} + 2 \\sigma_-^{(j)} \\sigma_+^{(j+1)} + \\Delta \\sigma_z^{(j)} \\sigma_z^{(j+1)}\n",
    "= \\sum_{j = 1}^{N-1} X^{(j)} X^{(j+1)} + Y^{(j)} Y^{(j+1)} + \\Delta Z^{(j)} Z^{(j+1)} \\,,\n",
    "$$\n",
    "which is the form of the XXZ Heisenberg model which we already used in `notebooks/hamiltonian_simulation.ipynb`. Check that this is indeed the case.\n",
    "\n",
    "Hint: As you know from the other notebook, the terms of the Hamiltonian commute, so you only need to do a single Trotter step of size $t$ to reach a target time $t$."
   ]
  },
  {
   "cell_type": "code",
   "execution_count": 8,
   "metadata": {},
   "outputs": [],
   "source": [
    "import networkx as nx\n",
    "from pytket.circuit import Qubit, Circuit\n",
    "from pytket.pauli import Pauli, QubitPauliString\n",
    "from pytket.utils import QubitPauliOperator\n",
    "from pytket.extensions.qiskit import AerBackend\n",
    "from pytket.utils import QubitPauliOperator, gen_term_sequence_circuit\n",
    "from pytket.pauli import Pauli, QubitPauliString\n",
    "import networkx as nx\n",
    "from pytket.circuit import Qubit, CircBox\n",
    "import numpy as np\n",
    "from pytket.extensions.qiskit import AerStateBackend\n",
    "import numpy as np\n",
    "import matplotlib.pyplot as plt\n",
    "from pytket.utils.expectations import get_operator_expectation_value\n",
    "\n",
    "\n",
    "\n",
    "def get_xxz_chain_hamiltonian(trotter_steps,delta_t, N: int, Delta_ZZ: float, Delta_XX, Delta_YY) -> QubitPauliOperator:\n",
    "    sites = nx.path_graph(N)\n",
    "    qpo_dict = {}\n",
    "    \n",
    "    # Iterate over the edges of the graph with index\n",
    "    for e in sites.edges:\n",
    "    \n",
    "    \n",
    "        zz_term = QubitPauliString([Qubit(e[0]), Qubit(e[1])], [Pauli.Z, Pauli.Z])\n",
    "        xx_term = QubitPauliString([Qubit(e[0]), Qubit(e[1])], [Pauli.X, Pauli.X])\n",
    "        yy_term = QubitPauliString([Qubit(e[0]), Qubit(e[1])], [Pauli.Y, Pauli.Y])\n",
    "        \n",
    "        qpo_dict[zz_term] = Delta_ZZ*2/np.pi*delta_t/trotter_steps\n",
    "        qpo_dict[xx_term] = Delta_XX*1.0*(2/np.pi)*delta_t/trotter_steps\n",
    "        qpo_dict[yy_term] = Delta_YY*1.0*2/np.pi*delta_t/trotter_steps\n",
    "    print(qpo_dict)\n",
    "    return QubitPauliOperator(qpo_dict)\n",
    "\n",
    "def Hamiltonian_circ_xxz(circ, delta_t, Delta_ZZ, Delta_XX, Delta_YY, N, trotter_steps):\n",
    "    # Get the XXZ Hamiltonian\n",
    "    xxz_ham = get_xxz_chain_hamiltonian(trotter_steps, delta_t, N=N, Delta_ZZ=Delta_ZZ, Delta_XX=Delta_XX, Delta_YY=Delta_YY)\n",
    "    \n",
    "    \n",
    "    # Convert Hamiltonian to an operator that only acts on system qubits\n",
    "    operator = QubitPauliOperator(xxz_ham._dict)\n",
    "    \n",
    "    # Apply the Hamiltonian evolution only to system qubits\n",
    "    circ = gen_term_sequence_circuit(operator, circ)\n",
    "    \n",
    "    return circ\n",
    "\n",
    "\n",
    "# n_system_qubits = 4\n",
    "# Delta_ZZ = 0.5\n",
    "# n_trotter_coherent = 5\n",
    "# t_trotterization = 10\n",
    "# xxz_hamiltonian = get_xxz_chain_hamiltonian(n_qubits=n_system_qubits, Delta_ZZ=Delta_ZZ)"
   ]
  },
  {
   "cell_type": "code",
   "execution_count": null,
   "metadata": {},
   "outputs": [],
   "source": []
  },
  {
   "cell_type": "markdown",
   "metadata": {},
   "source": [
    "### Task 2: Construct the evolution under the dilated Lindblad operators $K_i$\n",
    "\n",
    "Now we look at the dissipative part.\n",
    "\n",
    "Implement the time evolution under the dilated operators $K_i$ for a time of $\\Delta t$ according to\n",
    "$$\n",
    "\\begin{split}\n",
    "    &\\mathrm{tr}_{\\rm anc_1 anc_2} \\big[ \n",
    "        e^{-i\\sqrt{ \\Delta t} K_1} e^{-i\\sqrt{ \\Delta t} K_{2}} \n",
    "        (\\ket{0}\\bra{0}_{\\rm anc_1} \\otimes\\dots\\otimes \\ket{0}\\bra{0}_{\\rm anc_2} \\otimes \\rho) \n",
    "        e^{i\\sqrt{ \\Delta t} K_1} e^{i\\sqrt{ \\Delta t} K_{2}} \n",
    "    \\big] \n",
    "    \\\\\n",
    "    &= \n",
    "    e^{\\Delta t \\mathcal{D}}[\\rho] + {\\cal O}( \\Delta t^2) \\,.\n",
    "\\end{split}\n",
    "$$\n",
    "\n",
    "Hints:\n",
    "- For the deterministic protocol we will need to add two ancilla qubits.\n",
    "- Study the commutator relation between the two terms of $K_i$. What does this imply?\n",
    "- The two qubit gates $e^{-\\alpha X^{(i)} X^{(j)}}$ and $e^{-\\alpha Y^{(i)} Y^{(j)}}$ can be efficiently implemented in pytket via `XXPhase` and `YYPhase`.\n",
    "- However, you can also use `gen_term_sequence_circuit()`, or pytket's `TK2` gate which implements and arbitrary angle two-qubit gate.\n",
    "- Use pytket's .reset() operation to trace out the ancilla qubits after one time step of size $\\Delta t$."
   ]
  },
  {
   "cell_type": "code",
   "execution_count": 9,
   "metadata": {},
   "outputs": [],
   "source": [
    "# n_ancilla_qubits = 2\n",
    "# n_system_qubits = n_system_qubits\n",
    "\n",
    "# circ = Circuit()\n",
    "# anc_reg = circ.add_q_register(\"ancilla\", n_ancilla_qubits)\n",
    "# sys_reg = circ.add_q_register(\"system\", n_system_qubits)\n",
    "\n",
    "def disspative(circ, N, anc_reg, sys_reg, eps, delta_t):   \n",
    "    circ.XXPhase(((2/np.pi)*np.sqrt(delta_t*2*eps)/2), anc_reg[0], sys_reg[0])  # XX interaction\n",
    "    circ.YYPhase(((2/np.pi)*np.sqrt(delta_t*2*eps)/2), anc_reg[0], sys_reg[0])  # YY interaction\n",
    "\n",
    "    # Implement exp(-i rad(deltat) K2)\n",
    "    # print(f'N = {N}')\n",
    "\n",
    "    circ.XXPhase(((2/np.pi)*np.sqrt(delta_t*2*eps)/2), anc_reg[1], sys_reg[N-1])  # XX interaction\n",
    "    circ.YYPhase(((2/np.pi)*np.sqrt(delta_t*2*eps)/2), anc_reg[1], sys_reg[N-1])   # YY interaction\n",
    "\n",
    "    # Trace out ancillas\n",
    "    circ.Reset(anc_reg[0])\n",
    "    circ.Reset(anc_reg[1])\n",
    "    \n",
    "    return circ\n",
    "\n",
    "\n",
    "\n"
   ]
  },
  {
   "cell_type": "code",
   "execution_count": null,
   "metadata": {},
   "outputs": [],
   "source": []
  },
  {
   "cell_type": "markdown",
   "metadata": {},
   "source": [
    "### Task 3: Building the full circuit\n",
    "\n",
    "As given above, the full time evolution up to time $T = M \\Delta t$ is approximated by decomposing the time evolution into $M$ steps of size $\\Delta t$, in each of which we separate coherent and dissipative parts\n",
    "\\begin{equation}\n",
    "e^{M\\Delta t \\mathcal{L}} [\\rho]\n",
    "= \\left( \\prod_{i = 1}^M e^{\\Delta t \\mathcal{D}} \\circ \\mathcal{U}_{\\Delta t} \\right) [\\rho] \n",
    "\\,,\n",
    "\\quad \\text{with} \\quad\n",
    "\\mathcal{U}_{\\Delta t} [\\rho] = e^{-i\\Delta t H} \\rho e^{i\\Delta t H} \\,,\n",
    "\\end{equation}\n",
    "(see also the circuit picture above).\n",
    "\n",
    "- Use the coherent and dissipative parts from above to generate a circuit implementing $M$ steps of Eq. (1).\n",
    "- Construct the full Lindblad time evolution circuit as a function of $N$, $M$, $T$, $\\epsilon$ and $\\Delta_{ZZ}$.\n",
    "- Compile the circuit and compute 2qb-gate counts for varied $M$. What are reasonable total evolution times $T$ and step sizes $\\Delta t = T / M$?\n",
    "- Use and empty circuit to initialize the time evolution. This means we are starting with the state where all qubits are in the zero state $\\rho = \\ket{0}\\bra{0}^{\\otimes N}$."
   ]
  },
  {
   "cell_type": "code",
   "execution_count": 10,
   "metadata": {},
   "outputs": [],
   "source": [
    "\n",
    "def lindblad_time_evolution(N, Na, M, T, eps, Delta_ZZ, Delta_XX, Delta_YY, trotter_steps):\n",
    "    circ = Circuit()\n",
    "    anc_reg = circ.add_q_register(\"ancilla\", Na)\n",
    "    sys_reg = circ.add_q_register(\"system\", N)\n",
    "    # for i in range(N):\n",
    "    #     circ.X(sys_reg[i])\n",
    "    delta_t = T/M\n",
    "    for m in range(M):\n",
    "        print(m)\n",
    "        circ_coh = Circuit(N)\n",
    "        for _ in range(trotter_steps):\n",
    "            circ_coh = Hamiltonian_circ_xxz(circ_coh, delta_t, Delta_ZZ, Delta_XX, Delta_YY, N, trotter_steps)\n",
    "        circ_coh_box = CircBox(circ_coh)\n",
    "        circ_diss = Circuit()\n",
    "        anc_reg2 = circ_diss.add_q_register(\"ancilla\", Na)\n",
    "        sys_reg2 = circ_diss.add_q_register(\"system\", N)\n",
    "        circ_diss = disspative(circ_diss, N, anc_reg2, sys_reg2, eps, delta_t)\n",
    "        circ_diss_box = CircBox(circ_diss)\n",
    "        # circ = disspative(circ, N, anc_reg, sys_reg, eps, delta_t)\n",
    "        circ.add_circbox(circ_coh_box, sys_reg)\n",
    "        circ.add_circbox(circ_diss_box, anc_reg.to_list()+sys_reg.to_list())\n",
    "\n",
    "    # return circ\n",
    "    backend = AerBackend()  # Qiskit's state vector simulator\n",
    "    compiled_circ = backend.get_compiled_circuit(circ, optimisation_level=1)\n",
    "    two_qubit_gates = compiled_circ.n_2qb_gates()\n",
    "\n",
    "    \n",
    "\n",
    "    return compiled_circ, two_qubit_gates, sys_reg\n",
    "\n",
    "\n"
   ]
  },
  {
   "cell_type": "markdown",
   "metadata": {},
   "source": [
    "### Task 4: Compute the steady state of the dissipative XXZ Heisenberg model.\n",
    "\n",
    "- Simulate the circuit and generate the spin profile, as in Fig. 2 of [1], for a reasonable small number $N$ of qubits, e.g. $N \\in [4,5,6]$.\n",
    "- At the end of a sufficiently long time evolution, measure the expectation values of $Z^{(i)}$ for $i = 1,\\dots, N$. A number of `n_shots = 300` shots should be sufficient for this. Plot the measured expectation values as a function of $i$.\n",
    "- You should get something similar as the left plot in Fig. 2 of [1], although for much smaller $N$. How do you interpret the results?\n",
    "\n",
    "Hints:\n",
    "- Use the setting $N = 5$, $M = 30$, $T = 100$, $\\epsilon = 0.2$ and $\\Delta_{ZZ} = 0.5$. If you implemented everything correctly, you should obtain a reasonable spin profile with this. This setting should not take longer than a minute to run.\n",
    "- From the Hamiltonian simulation notebook you should already be familiar with how to simulate quantum circuits, e.g. using the `AerBackend`.\n",
    "- Compiling the circuit with a higher optimization level takes a bit but will mostly also result in a much shorter circuit, i.e. faster simulation. Check the 2-qubit gate counts for different optimization levels."
   ]
  },
  {
   "cell_type": "code",
   "execution_count": 12,
   "metadata": {},
   "outputs": [
    {
     "name": "stdout",
     "output_type": "stream",
     "text": [
      "0\n",
      "{(Zq[0], Zq[1]): 1.061032953945969, (Xq[0], Xq[1]): 3.183098861837907, (Yq[0], Yq[1]): 3.183098861837907, (Zq[1], Zq[2]): 1.061032953945969, (Xq[1], Xq[2]): 3.183098861837907, (Yq[1], Yq[2]): 3.183098861837907, (Zq[2], Zq[3]): 1.061032953945969, (Xq[2], Xq[3]): 3.183098861837907, (Yq[2], Yq[3]): 3.183098861837907, (Zq[3], Zq[4]): 1.061032953945969, (Xq[3], Xq[4]): 3.183098861837907, (Yq[3], Yq[4]): 3.183098861837907}\n",
      "1\n",
      "{(Zq[0], Zq[1]): 1.061032953945969, (Xq[0], Xq[1]): 3.183098861837907, (Yq[0], Yq[1]): 3.183098861837907, (Zq[1], Zq[2]): 1.061032953945969, (Xq[1], Xq[2]): 3.183098861837907, (Yq[1], Yq[2]): 3.183098861837907, (Zq[2], Zq[3]): 1.061032953945969, (Xq[2], Xq[3]): 3.183098861837907, (Yq[2], Yq[3]): 3.183098861837907, (Zq[3], Zq[4]): 1.061032953945969, (Xq[3], Xq[4]): 3.183098861837907, (Yq[3], Yq[4]): 3.183098861837907}\n",
      "2\n",
      "{(Zq[0], Zq[1]): 1.061032953945969, (Xq[0], Xq[1]): 3.183098861837907, (Yq[0], Yq[1]): 3.183098861837907, (Zq[1], Zq[2]): 1.061032953945969, (Xq[1], Xq[2]): 3.183098861837907, (Yq[1], Yq[2]): 3.183098861837907, (Zq[2], Zq[3]): 1.061032953945969, (Xq[2], Xq[3]): 3.183098861837907, (Yq[2], Yq[3]): 3.183098861837907, (Zq[3], Zq[4]): 1.061032953945969, (Xq[3], Xq[4]): 3.183098861837907, (Yq[3], Yq[4]): 3.183098861837907}\n",
      "3\n",
      "{(Zq[0], Zq[1]): 1.061032953945969, (Xq[0], Xq[1]): 3.183098861837907, (Yq[0], Yq[1]): 3.183098861837907, (Zq[1], Zq[2]): 1.061032953945969, (Xq[1], Xq[2]): 3.183098861837907, (Yq[1], Yq[2]): 3.183098861837907, (Zq[2], Zq[3]): 1.061032953945969, (Xq[2], Xq[3]): 3.183098861837907, (Yq[2], Yq[3]): 3.183098861837907, (Zq[3], Zq[4]): 1.061032953945969, (Xq[3], Xq[4]): 3.183098861837907, (Yq[3], Yq[4]): 3.183098861837907}\n",
      "4\n",
      "{(Zq[0], Zq[1]): 1.061032953945969, (Xq[0], Xq[1]): 3.183098861837907, (Yq[0], Yq[1]): 3.183098861837907, (Zq[1], Zq[2]): 1.061032953945969, (Xq[1], Xq[2]): 3.183098861837907, (Yq[1], Yq[2]): 3.183098861837907, (Zq[2], Zq[3]): 1.061032953945969, (Xq[2], Xq[3]): 3.183098861837907, (Yq[2], Yq[3]): 3.183098861837907, (Zq[3], Zq[4]): 1.061032953945969, (Xq[3], Xq[4]): 3.183098861837907, (Yq[3], Yq[4]): 3.183098861837907}\n",
      "5\n",
      "{(Zq[0], Zq[1]): 1.061032953945969, (Xq[0], Xq[1]): 3.183098861837907, (Yq[0], Yq[1]): 3.183098861837907, (Zq[1], Zq[2]): 1.061032953945969, (Xq[1], Xq[2]): 3.183098861837907, (Yq[1], Yq[2]): 3.183098861837907, (Zq[2], Zq[3]): 1.061032953945969, (Xq[2], Xq[3]): 3.183098861837907, (Yq[2], Yq[3]): 3.183098861837907, (Zq[3], Zq[4]): 1.061032953945969, (Xq[3], Xq[4]): 3.183098861837907, (Yq[3], Yq[4]): 3.183098861837907}\n",
      "6\n",
      "{(Zq[0], Zq[1]): 1.061032953945969, (Xq[0], Xq[1]): 3.183098861837907, (Yq[0], Yq[1]): 3.183098861837907, (Zq[1], Zq[2]): 1.061032953945969, (Xq[1], Xq[2]): 3.183098861837907, (Yq[1], Yq[2]): 3.183098861837907, (Zq[2], Zq[3]): 1.061032953945969, (Xq[2], Xq[3]): 3.183098861837907, (Yq[2], Yq[3]): 3.183098861837907, (Zq[3], Zq[4]): 1.061032953945969, (Xq[3], Xq[4]): 3.183098861837907, (Yq[3], Yq[4]): 3.183098861837907}\n",
      "7\n",
      "{(Zq[0], Zq[1]): 1.061032953945969, (Xq[0], Xq[1]): 3.183098861837907, (Yq[0], Yq[1]): 3.183098861837907, (Zq[1], Zq[2]): 1.061032953945969, (Xq[1], Xq[2]): 3.183098861837907, (Yq[1], Yq[2]): 3.183098861837907, (Zq[2], Zq[3]): 1.061032953945969, (Xq[2], Xq[3]): 3.183098861837907, (Yq[2], Yq[3]): 3.183098861837907, (Zq[3], Zq[4]): 1.061032953945969, (Xq[3], Xq[4]): 3.183098861837907, (Yq[3], Yq[4]): 3.183098861837907}\n",
      "8\n",
      "{(Zq[0], Zq[1]): 1.061032953945969, (Xq[0], Xq[1]): 3.183098861837907, (Yq[0], Yq[1]): 3.183098861837907, (Zq[1], Zq[2]): 1.061032953945969, (Xq[1], Xq[2]): 3.183098861837907, (Yq[1], Yq[2]): 3.183098861837907, (Zq[2], Zq[3]): 1.061032953945969, (Xq[2], Xq[3]): 3.183098861837907, (Yq[2], Yq[3]): 3.183098861837907, (Zq[3], Zq[4]): 1.061032953945969, (Xq[3], Xq[4]): 3.183098861837907, (Yq[3], Yq[4]): 3.183098861837907}\n",
      "9\n",
      "{(Zq[0], Zq[1]): 1.061032953945969, (Xq[0], Xq[1]): 3.183098861837907, (Yq[0], Yq[1]): 3.183098861837907, (Zq[1], Zq[2]): 1.061032953945969, (Xq[1], Xq[2]): 3.183098861837907, (Yq[1], Yq[2]): 3.183098861837907, (Zq[2], Zq[3]): 1.061032953945969, (Xq[2], Xq[3]): 3.183098861837907, (Yq[2], Yq[3]): 3.183098861837907, (Zq[3], Zq[4]): 1.061032953945969, (Xq[3], Xq[4]): 3.183098861837907, (Yq[3], Yq[4]): 3.183098861837907}\n",
      "10\n",
      "{(Zq[0], Zq[1]): 1.061032953945969, (Xq[0], Xq[1]): 3.183098861837907, (Yq[0], Yq[1]): 3.183098861837907, (Zq[1], Zq[2]): 1.061032953945969, (Xq[1], Xq[2]): 3.183098861837907, (Yq[1], Yq[2]): 3.183098861837907, (Zq[2], Zq[3]): 1.061032953945969, (Xq[2], Xq[3]): 3.183098861837907, (Yq[2], Yq[3]): 3.183098861837907, (Zq[3], Zq[4]): 1.061032953945969, (Xq[3], Xq[4]): 3.183098861837907, (Yq[3], Yq[4]): 3.183098861837907}\n",
      "11\n",
      "{(Zq[0], Zq[1]): 1.061032953945969, (Xq[0], Xq[1]): 3.183098861837907, (Yq[0], Yq[1]): 3.183098861837907, (Zq[1], Zq[2]): 1.061032953945969, (Xq[1], Xq[2]): 3.183098861837907, (Yq[1], Yq[2]): 3.183098861837907, (Zq[2], Zq[3]): 1.061032953945969, (Xq[2], Xq[3]): 3.183098861837907, (Yq[2], Yq[3]): 3.183098861837907, (Zq[3], Zq[4]): 1.061032953945969, (Xq[3], Xq[4]): 3.183098861837907, (Yq[3], Yq[4]): 3.183098861837907}\n",
      "12\n",
      "{(Zq[0], Zq[1]): 1.061032953945969, (Xq[0], Xq[1]): 3.183098861837907, (Yq[0], Yq[1]): 3.183098861837907, (Zq[1], Zq[2]): 1.061032953945969, (Xq[1], Xq[2]): 3.183098861837907, (Yq[1], Yq[2]): 3.183098861837907, (Zq[2], Zq[3]): 1.061032953945969, (Xq[2], Xq[3]): 3.183098861837907, (Yq[2], Yq[3]): 3.183098861837907, (Zq[3], Zq[4]): 1.061032953945969, (Xq[3], Xq[4]): 3.183098861837907, (Yq[3], Yq[4]): 3.183098861837907}\n",
      "13\n",
      "{(Zq[0], Zq[1]): 1.061032953945969, (Xq[0], Xq[1]): 3.183098861837907, (Yq[0], Yq[1]): 3.183098861837907, (Zq[1], Zq[2]): 1.061032953945969, (Xq[1], Xq[2]): 3.183098861837907, (Yq[1], Yq[2]): 3.183098861837907, (Zq[2], Zq[3]): 1.061032953945969, (Xq[2], Xq[3]): 3.183098861837907, (Yq[2], Yq[3]): 3.183098861837907, (Zq[3], Zq[4]): 1.061032953945969, (Xq[3], Xq[4]): 3.183098861837907, (Yq[3], Yq[4]): 3.183098861837907}\n",
      "14\n",
      "{(Zq[0], Zq[1]): 1.061032953945969, (Xq[0], Xq[1]): 3.183098861837907, (Yq[0], Yq[1]): 3.183098861837907, (Zq[1], Zq[2]): 1.061032953945969, (Xq[1], Xq[2]): 3.183098861837907, (Yq[1], Yq[2]): 3.183098861837907, (Zq[2], Zq[3]): 1.061032953945969, (Xq[2], Xq[3]): 3.183098861837907, (Yq[2], Yq[3]): 3.183098861837907, (Zq[3], Zq[4]): 1.061032953945969, (Xq[3], Xq[4]): 3.183098861837907, (Yq[3], Yq[4]): 3.183098861837907}\n",
      "15\n",
      "{(Zq[0], Zq[1]): 1.061032953945969, (Xq[0], Xq[1]): 3.183098861837907, (Yq[0], Yq[1]): 3.183098861837907, (Zq[1], Zq[2]): 1.061032953945969, (Xq[1], Xq[2]): 3.183098861837907, (Yq[1], Yq[2]): 3.183098861837907, (Zq[2], Zq[3]): 1.061032953945969, (Xq[2], Xq[3]): 3.183098861837907, (Yq[2], Yq[3]): 3.183098861837907, (Zq[3], Zq[4]): 1.061032953945969, (Xq[3], Xq[4]): 3.183098861837907, (Yq[3], Yq[4]): 3.183098861837907}\n",
      "16\n",
      "{(Zq[0], Zq[1]): 1.061032953945969, (Xq[0], Xq[1]): 3.183098861837907, (Yq[0], Yq[1]): 3.183098861837907, (Zq[1], Zq[2]): 1.061032953945969, (Xq[1], Xq[2]): 3.183098861837907, (Yq[1], Yq[2]): 3.183098861837907, (Zq[2], Zq[3]): 1.061032953945969, (Xq[2], Xq[3]): 3.183098861837907, (Yq[2], Yq[3]): 3.183098861837907, (Zq[3], Zq[4]): 1.061032953945969, (Xq[3], Xq[4]): 3.183098861837907, (Yq[3], Yq[4]): 3.183098861837907}\n",
      "17\n",
      "{(Zq[0], Zq[1]): 1.061032953945969, (Xq[0], Xq[1]): 3.183098861837907, (Yq[0], Yq[1]): 3.183098861837907, (Zq[1], Zq[2]): 1.061032953945969, (Xq[1], Xq[2]): 3.183098861837907, (Yq[1], Yq[2]): 3.183098861837907, (Zq[2], Zq[3]): 1.061032953945969, (Xq[2], Xq[3]): 3.183098861837907, (Yq[2], Yq[3]): 3.183098861837907, (Zq[3], Zq[4]): 1.061032953945969, (Xq[3], Xq[4]): 3.183098861837907, (Yq[3], Yq[4]): 3.183098861837907}\n",
      "18\n",
      "{(Zq[0], Zq[1]): 1.061032953945969, (Xq[0], Xq[1]): 3.183098861837907, (Yq[0], Yq[1]): 3.183098861837907, (Zq[1], Zq[2]): 1.061032953945969, (Xq[1], Xq[2]): 3.183098861837907, (Yq[1], Yq[2]): 3.183098861837907, (Zq[2], Zq[3]): 1.061032953945969, (Xq[2], Xq[3]): 3.183098861837907, (Yq[2], Yq[3]): 3.183098861837907, (Zq[3], Zq[4]): 1.061032953945969, (Xq[3], Xq[4]): 3.183098861837907, (Yq[3], Yq[4]): 3.183098861837907}\n",
      "19\n",
      "{(Zq[0], Zq[1]): 1.061032953945969, (Xq[0], Xq[1]): 3.183098861837907, (Yq[0], Yq[1]): 3.183098861837907, (Zq[1], Zq[2]): 1.061032953945969, (Xq[1], Xq[2]): 3.183098861837907, (Yq[1], Yq[2]): 3.183098861837907, (Zq[2], Zq[3]): 1.061032953945969, (Xq[2], Xq[3]): 3.183098861837907, (Yq[2], Yq[3]): 3.183098861837907, (Zq[3], Zq[4]): 1.061032953945969, (Xq[3], Xq[4]): 3.183098861837907, (Yq[3], Yq[4]): 3.183098861837907}\n",
      "20\n",
      "{(Zq[0], Zq[1]): 1.061032953945969, (Xq[0], Xq[1]): 3.183098861837907, (Yq[0], Yq[1]): 3.183098861837907, (Zq[1], Zq[2]): 1.061032953945969, (Xq[1], Xq[2]): 3.183098861837907, (Yq[1], Yq[2]): 3.183098861837907, (Zq[2], Zq[3]): 1.061032953945969, (Xq[2], Xq[3]): 3.183098861837907, (Yq[2], Yq[3]): 3.183098861837907, (Zq[3], Zq[4]): 1.061032953945969, (Xq[3], Xq[4]): 3.183098861837907, (Yq[3], Yq[4]): 3.183098861837907}\n",
      "21\n",
      "{(Zq[0], Zq[1]): 1.061032953945969, (Xq[0], Xq[1]): 3.183098861837907, (Yq[0], Yq[1]): 3.183098861837907, (Zq[1], Zq[2]): 1.061032953945969, (Xq[1], Xq[2]): 3.183098861837907, (Yq[1], Yq[2]): 3.183098861837907, (Zq[2], Zq[3]): 1.061032953945969, (Xq[2], Xq[3]): 3.183098861837907, (Yq[2], Yq[3]): 3.183098861837907, (Zq[3], Zq[4]): 1.061032953945969, (Xq[3], Xq[4]): 3.183098861837907, (Yq[3], Yq[4]): 3.183098861837907}\n",
      "22\n",
      "{(Zq[0], Zq[1]): 1.061032953945969, (Xq[0], Xq[1]): 3.183098861837907, (Yq[0], Yq[1]): 3.183098861837907, (Zq[1], Zq[2]): 1.061032953945969, (Xq[1], Xq[2]): 3.183098861837907, (Yq[1], Yq[2]): 3.183098861837907, (Zq[2], Zq[3]): 1.061032953945969, (Xq[2], Xq[3]): 3.183098861837907, (Yq[2], Yq[3]): 3.183098861837907, (Zq[3], Zq[4]): 1.061032953945969, (Xq[3], Xq[4]): 3.183098861837907, (Yq[3], Yq[4]): 3.183098861837907}\n",
      "23\n",
      "{(Zq[0], Zq[1]): 1.061032953945969, (Xq[0], Xq[1]): 3.183098861837907, (Yq[0], Yq[1]): 3.183098861837907, (Zq[1], Zq[2]): 1.061032953945969, (Xq[1], Xq[2]): 3.183098861837907, (Yq[1], Yq[2]): 3.183098861837907, (Zq[2], Zq[3]): 1.061032953945969, (Xq[2], Xq[3]): 3.183098861837907, (Yq[2], Yq[3]): 3.183098861837907, (Zq[3], Zq[4]): 1.061032953945969, (Xq[3], Xq[4]): 3.183098861837907, (Yq[3], Yq[4]): 3.183098861837907}\n",
      "24\n",
      "{(Zq[0], Zq[1]): 1.061032953945969, (Xq[0], Xq[1]): 3.183098861837907, (Yq[0], Yq[1]): 3.183098861837907, (Zq[1], Zq[2]): 1.061032953945969, (Xq[1], Xq[2]): 3.183098861837907, (Yq[1], Yq[2]): 3.183098861837907, (Zq[2], Zq[3]): 1.061032953945969, (Xq[2], Xq[3]): 3.183098861837907, (Yq[2], Yq[3]): 3.183098861837907, (Zq[3], Zq[4]): 1.061032953945969, (Xq[3], Xq[4]): 3.183098861837907, (Yq[3], Yq[4]): 3.183098861837907}\n",
      "25\n",
      "{(Zq[0], Zq[1]): 1.061032953945969, (Xq[0], Xq[1]): 3.183098861837907, (Yq[0], Yq[1]): 3.183098861837907, (Zq[1], Zq[2]): 1.061032953945969, (Xq[1], Xq[2]): 3.183098861837907, (Yq[1], Yq[2]): 3.183098861837907, (Zq[2], Zq[3]): 1.061032953945969, (Xq[2], Xq[3]): 3.183098861837907, (Yq[2], Yq[3]): 3.183098861837907, (Zq[3], Zq[4]): 1.061032953945969, (Xq[3], Xq[4]): 3.183098861837907, (Yq[3], Yq[4]): 3.183098861837907}\n",
      "26\n",
      "{(Zq[0], Zq[1]): 1.061032953945969, (Xq[0], Xq[1]): 3.183098861837907, (Yq[0], Yq[1]): 3.183098861837907, (Zq[1], Zq[2]): 1.061032953945969, (Xq[1], Xq[2]): 3.183098861837907, (Yq[1], Yq[2]): 3.183098861837907, (Zq[2], Zq[3]): 1.061032953945969, (Xq[2], Xq[3]): 3.183098861837907, (Yq[2], Yq[3]): 3.183098861837907, (Zq[3], Zq[4]): 1.061032953945969, (Xq[3], Xq[4]): 3.183098861837907, (Yq[3], Yq[4]): 3.183098861837907}\n",
      "27\n",
      "{(Zq[0], Zq[1]): 1.061032953945969, (Xq[0], Xq[1]): 3.183098861837907, (Yq[0], Yq[1]): 3.183098861837907, (Zq[1], Zq[2]): 1.061032953945969, (Xq[1], Xq[2]): 3.183098861837907, (Yq[1], Yq[2]): 3.183098861837907, (Zq[2], Zq[3]): 1.061032953945969, (Xq[2], Xq[3]): 3.183098861837907, (Yq[2], Yq[3]): 3.183098861837907, (Zq[3], Zq[4]): 1.061032953945969, (Xq[3], Xq[4]): 3.183098861837907, (Yq[3], Yq[4]): 3.183098861837907}\n",
      "28\n",
      "{(Zq[0], Zq[1]): 1.061032953945969, (Xq[0], Xq[1]): 3.183098861837907, (Yq[0], Yq[1]): 3.183098861837907, (Zq[1], Zq[2]): 1.061032953945969, (Xq[1], Xq[2]): 3.183098861837907, (Yq[1], Yq[2]): 3.183098861837907, (Zq[2], Zq[3]): 1.061032953945969, (Xq[2], Xq[3]): 3.183098861837907, (Yq[2], Yq[3]): 3.183098861837907, (Zq[3], Zq[4]): 1.061032953945969, (Xq[3], Xq[4]): 3.183098861837907, (Yq[3], Yq[4]): 3.183098861837907}\n",
      "29\n",
      "{(Zq[0], Zq[1]): 1.061032953945969, (Xq[0], Xq[1]): 3.183098861837907, (Yq[0], Yq[1]): 3.183098861837907, (Zq[1], Zq[2]): 1.061032953945969, (Xq[1], Xq[2]): 3.183098861837907, (Yq[1], Yq[2]): 3.183098861837907, (Zq[2], Zq[3]): 1.061032953945969, (Xq[2], Xq[3]): 3.183098861837907, (Yq[2], Yq[3]): 3.183098861837907, (Zq[3], Zq[4]): 1.061032953945969, (Xq[3], Xq[4]): 3.183098861837907, (Yq[3], Yq[4]): 3.183098861837907}\n",
      "Compiled\n"
     ]
    },
    {
     "name": "stderr",
     "output_type": "stream",
     "text": [
      "/Users/rodrofougaran/anaconda3/envs/QST/lib/python3.12/site-packages/matplotlib/cbook.py:1762: ComplexWarning: Casting complex values to real discards the imaginary part\n",
      "  return math.isfinite(val)\n",
      "/Users/rodrofougaran/anaconda3/envs/QST/lib/python3.12/site-packages/matplotlib/cbook.py:1398: ComplexWarning: Casting complex values to real discards the imaginary part\n",
      "  return np.asarray(x, float)\n"
     ]
    },
    {
     "data": {
      "image/png": "[encoded data removed]",
      "text/plain": [
       "<Figure size 600x400 with 1 Axes>"
      ]
     },
     "metadata": {},
     "output_type": "display_data"
    }
   ],
   "source": [
    "N = 5\n",
    "Na = 2\n",
    "M = 30\n",
    "T = 100\n",
    "eps = 0.2\n",
    "Delta_ZZ = 0.5\n",
    "Delta_XX = 1.5\n",
    "Delta_YY = 1.5\n",
    "delta_t = T/M\n",
    "backend = AerBackend()\n",
    "n_shots = 300\n",
    "trotter_steps = 1\n",
    "\n",
    "def get_z_observables(N, i, sys_reg):\n",
    "    \"\"\"Returns a dictionary of Pauli-Z operators for each qubit.\"\"\"\n",
    "    dict = {}\n",
    "    term = QubitPauliString([sys_reg[i]], [Pauli.Z])  # Use parentheses here\n",
    "    dict[term] = 1.0\n",
    "    return QubitPauliOperator(dict)\n",
    "\n",
    "\n",
    "# circ = lindblad_time_evolution(N, Na, M,T,eps,Delta_ZZ)\n",
    "\n",
    "compiled_circ, two_qubit_gates, sys_reg = lindblad_time_evolution(N, Na, M, T, eps, Delta_ZZ, Delta_XX, Delta_YY, trotter_steps)\n",
    "print('Compiled')\n",
    "# draw(compiled_circ)\n",
    "# Compute expectation values\n",
    "z_exp_values = []\n",
    "for i in range(N):\n",
    "    exp_val = get_operator_expectation_value(compiled_circ, get_z_observables(N,i,sys_reg), backend, n_shots=n_shots)\n",
    "    z_exp_values.append(exp_val)  \n",
    "\n",
    "# Plot expectation values\n",
    "plt.figure(figsize=(6, 4))\n",
    "plt.plot(range(1, N + 1), z_exp_values, marker='o', linestyle='-', color='b')\n",
    "plt.xlabel(\"Site index (i)\")\n",
    "plt.ylabel(r\"$\\langle Z^{(i)} \\rangle$\")\n",
    "plt.title(\"Spin Profile\") \n",
    "plt.grid()\n",
    "plt.show()\n"
   ]
  },
  {
   "cell_type": "code",
   "execution_count": null,
   "metadata": {},
   "outputs": [],
   "source": [
    "render_circuit_jupyter(compiled_circ)"
   ]
  },
  {
   "cell_type": "markdown",
   "metadata": {},
   "source": [
    "### Task 6: Comparison to Hamiltonian simulation\n",
    "\n",
    "Next we compare the long time behavior of the output of the Lindbladian and the Hamiltonians time evolution circuits.\n",
    "\n",
    "- Compute the spin profile for the same setting as above but using only Hamiltonian simulation.\n",
    "- Compute the spin profile under both the Lindbladian and the Hamiltonian for some values of $T$ in the interval $[98, 102]$.\n",
    "- Do the same for the $X$ spin profile, i.e. compute the expectation values of $X^{(i)}$ for $i =1,\\dots, N$. You can also explore correlators $X^{(i)} X^{(j)}$.\n",
    "- How do the solutions behave differently? Why is the long-time evolved state under the Lindbladian also called \"steady state\"?"
   ]
  },
  {
   "cell_type": "code",
   "execution_count": null,
   "metadata": {},
   "outputs": [],
   "source": []
  },
  {
   "cell_type": "markdown",
   "metadata": {},
   "source": [
    "### Task 7: Influence of noise\n",
    "\n",
    "How does hardware noise influence the results. Simulate the circui with some noise models, e.g. Quantinuum noise models."
   ]
  },
  {
   "cell_type": "code",
   "execution_count": null,
   "metadata": {},
   "outputs": [],
   "source": []
  },
  {
   "cell_type": "markdown",
   "metadata": {},
   "source": [
    "### Task 8: Study the randomized version of the algorithm\n",
    "\n",
    "The above protocol can be randomized. That means that in each time step, we select on of the jump operators at random, and only apply the corresponding dilated operator.\n",
    "This means, that we approximate the time evolution up to time $T = M \\Delta t$ by\n",
    "\\begin{equation}\n",
    "e^{M\\Delta t \\mathcal{L}} [\\rho]\n",
    "= \\left( \\prod_{i = 1}^M e^{\\Delta t \\mathcal{D}} \\circ \\mathcal{U}_{\\Delta t} \\right) [\\rho] \n",
    "= \\left( \\prod_{i = 1}^M e^{\\Delta t S \\mathcal{D}_{a_i}} \\circ \\mathcal{U}_{\\Delta t} \\right) [\\rho] \n",
    "\\,,\n",
    "\\quad \\text{with} \\quad\n",
    "\\mathcal{U}_{\\Delta t} [\\rho] = e^{-i\\Delta t H} \\rho e^{i\\Delta t H} \\,,\n",
    "\\end{equation}\n",
    "where in each time step $i$ we randomly select one of the jump operators $L_{a_i}$ and apply the corresponding single-jump dissipator $\\mathcal{D}_{a_i}$. Note the number of jump operators $S$ appearing in the exponent $e^{\\Delta t S \\mathcal{D}_{a_i}}$. For the model considered here we have $S = 2$.\n",
    "\n",
    "See circuit picture and discussion of the randomized protocol above."
   ]
  },
  {
   "cell_type": "code",
   "execution_count": null,
   "metadata": {},
   "outputs": [],
   "source": []
  },
  {
   "cell_type": "markdown",
   "metadata": {},
   "source": [
    "### Task 9: Explore other settings\n",
    "\n",
    "Explore other initial states or monitor the energy (the expectation value of the Hamiltonian) along the dissipative time evolution. What would you expect? How should this be different from the Hamiltonian simulation scenario of `notebooks/hamiltonian_simulation.ipynb`?"
   ]
  },
  {
   "cell_type": "code",
   "execution_count": null,
   "metadata": {},
   "outputs": [],
   "source": []
  },
  {
   "cell_type": "markdown",
   "metadata": {},
   "source": [
    "### Task 10: Other dissipative systems\n",
    "\n",
    "Study the models and use-cases considered in [6,7]."
   ]
  },
  {
   "cell_type": "code",
   "execution_count": null,
   "metadata": {},
   "outputs": [],
   "source": []
  },
  {
   "cell_type": "markdown",
   "metadata": {},
   "source": [
    "### Task 11: Classical simulation\n",
    "\n",
    "Develop, apply or improve classical computational methods, e.g. tensor network or quantum jump and Monte Carlo solvers (see e.g. qutip), to simulate open system dynamics."
   ]
  },
  {
   "cell_type": "code",
   "execution_count": null,
   "metadata": {},
   "outputs": [],
   "source": []
  },
  {
   "cell_type": "code",
   "execution_count": null,
   "metadata": {},
   "outputs": [],
   "source": []
  }
 ],
 "metadata": {
  "kernelspec": {
   "display_name": "Python 3 (ipykernel)",
   "language": "python",
   "name": "python3"
  },
  "language_info": {
   "codemirror_mode": {
    "name": "ipython",
    "version": 3
   },
   "file_extension": ".py",
   "mimetype": "text/x-python",
   "name": "python",
   "nbconvert_exporter": "python",
   "pygments_lexer": "ipython3",
   "version": "3.12.4"
  }
 },
 "nbformat": 4,
 "nbformat_minor": 4
}
